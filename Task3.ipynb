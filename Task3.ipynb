{
 "cells": [
  {
   "cell_type": "markdown",
   "metadata": {},
   "source": [
    "## Task 3: Fundamentals of Data Analysis\n",
    "\n",
    "### November 16th, 2020: \n",
    "The numpy.random.binomial function can be used to\n",
    "simulate flipping a coin with a 50/50 chance of heads or tails. \n",
    "\n",
    "Interestingly, if a coin is flipped many times then the number of heads is well approximated by a\n",
    "bell-shaped curve. For instance, if we flip a coin 100 times in a row the chance of\n",
    "getting 50 heads is relatively high, the chances of getting 0 or 100 heads is relatively\n",
    "low, and the chances of getting any other number of heads decreases as you move\n",
    "away from 50 in either direction towards 0 or 100. \n",
    "\n",
    "* Write some python code that simulates flipping a coin 100 times. \n",
    "* Then run this code 1,000 times, keeping track of the number of heads in each of the 1,000 simulations. Select an appropriate plot to depict the resulting list of 1,000 numbers, showing that it roughly follows a bell-shaped curve. \n",
    "* You  should explain your work in a Markdown cell above the code.\n"
   ]
  },
  {
   "cell_type": "markdown",
   "metadata": {},
   "source": [
    "### numpy.random.binomial\n",
    "\n",
    "#### Parameters\n",
    "\n",
    "##### (n, p, size=None)\n",
    "\n",
    "**n** int or array_like of ints. Parameter of the distribution, >= 0. Floats are also accepted, but they will be truncated to integers.\n",
    "\n",
    "**p:** float or array_like of floats. Parameter of the distribution, >= 0 and <=1.\n",
    "\n",
    "**size:** int or tuple of ints, optional. Determines output shape. If the given shape is, e.g., (m, n, k), then m * n * k samples are drawn. If size is None (default), a single value is returned if n and p are both scalars. Otherwise, np.broadcast(n, p).size samples are drawn.\n",
    "\n",
    "#### Returns\n",
    "\n",
    "**out:** ndarray or scalar. Drawn samples from the parameterized binomial distribution, where each sample is equal to the number of successes over the n trials."
   ]
  },
  {
   "cell_type": "markdown",
   "metadata": {},
   "source": [
    "### Relationship Between Binomial Distribution and Bernoulli Distribution\n",
    "\n",
    "The Bernoulli Distribution can be used to describe an event whereby the result will be measured as either a success or failure, and where *p* often stands for the probability of a particular outcome (i.e. success). A random variable that takes value 1 in case of success and 0 in case of failure is called a Bernoulli random variable.\n",
    "\n",
    "A Binomial Distribution describes where a Bernoulli experiment is repeated. We take the Bernoulli probability variable *p* and carry out the experiment of 'success/failure' *n* number of times. From this repetition we calculate the number of successes (e.g. the outcome of heads in a coin toss) and assign it the variable *X*. The distribution of the number of *X* is the Binomial Distribution. Essentially, a binomial random variable counts how often a particular event occurs in a fixed number of tries or trials. \n",
    "\n",
    "Therefore, the primary differences between the two distributions are that Bernoulli distributions describe success/failure outcomes, with a parameter input ascribing a value of either 1 or 0 to success or to failure. Contrastly, Binomial distributions allow for *n* number of trials and for the whole experiment to be repeated a fixed amount of times (this is where the *size* parameter comes into play)."
   ]
  },
  {
   "cell_type": "markdown",
   "metadata": {},
   "source": [
    "### Example Use of Numpy's Binomial Function: the flipping of a coin 50 times"
   ]
  },
  {
   "cell_type": "code",
   "execution_count": 6,
   "metadata": {},
   "outputs": [
    {
     "data": {
      "text/plain": [
       "array([5, 6, 5, 6, 9, 4, 5, 5, 7, 6, 3, 8, 3, 3, 6, 7, 3, 3, 7, 4, 5, 7,\n",
       "       8, 5, 5, 6, 6, 6, 7, 5, 3, 3, 7, 6, 1, 6, 5, 6, 3, 3, 7, 5, 5, 5,\n",
       "       5, 6, 3, 6, 6, 4, 3, 5, 5, 3, 5, 6, 7, 1, 7, 3, 6, 7, 6, 5, 5, 5,\n",
       "       4, 8, 6, 5, 2, 5, 5, 6, 8, 4, 3, 8, 5, 6, 3, 4, 4, 4, 6, 5, 4, 6,\n",
       "       7, 4, 7, 6, 6, 4, 5, 8, 3, 7, 3, 6])"
      ]
     },
     "execution_count": 6,
     "metadata": {},
     "output_type": "execute_result"
    }
   ],
   "source": [
    "# Import Numpy\n",
    "import numpy as np\n",
    "\n",
    "# Assign n as number of coin flips\n",
    "n= 10\n",
    "\n",
    "# Assign p as probability of each flip (must be between 0 and 1)\n",
    "p = .5 \n",
    "\n",
    "# Set s as binomial function and plug in paramter variables, plus the number of repetitions of the trials\n",
    "s = np.random.binomial(n, p, 100)\n",
    "s"
   ]
  },
  {
   "cell_type": "markdown",
   "metadata": {},
   "source": [
    "In the above example, *n* is set to 10. Each figure in the output cell represents the 'success' rate out of 10 'coin flips'. The trial has been repeated 100 times, and the Binomial distribution is expressed in the deviation of success, moving away from 5, closer to either 0 or 10 (exclusive). \n",
    "\n",
    "Just glancing at the 100 figures above, it can be seen that there is a greater number of trials that resulted in a number of 5 successful coin flips, and the results closer to 0 or to 10 grow increasingly less likely. "
   ]
  },
  {
   "cell_type": "markdown",
   "metadata": {},
   "source": [
    "#### Example of larger distribution with graph"
   ]
  },
  {
   "cell_type": "code",
   "execution_count": 11,
   "metadata": {},
   "outputs": [
    {
     "data": {
      "text/plain": [
       "<matplotlib.axes._subplots.AxesSubplot at 0x223d516c220>"
      ]
     },
     "execution_count": 11,
     "metadata": {},
     "output_type": "execute_result"
    },
    {
     "data": {
      "image/png": "[encoded data removed]",
      "text/plain": [
       "<Figure size 432x288 with 1 Axes>"
      ]
     },
     "metadata": {
      "needs_background": "light"
     },
     "output_type": "display_data"
    }
   ],
   "source": [
    "# Import Seaborn and Matplotlib for plotting\n",
    "import seaborn as sns\n",
    "import matplotlib.pyplot as plt\n",
    "\n",
    "n= 10\n",
    "p = .5\n",
    "\n",
    "# Set number of repetitions to 1000 to provide larger distribution\n",
    "s = np.random.binomial(n, p, 1000)\n",
    "\n",
    "# Graph on distplot using Seaborn\n",
    "sns.distplot(s)"
   ]
  },
  {
   "cell_type": "markdown",
   "metadata": {},
   "source": [
    "In the above example of 1000 experiments of 10 coin flips (with 50 percent probability of success) a normal ditribution is observed. The data is grouped around the 5 mark, with a gradual slope either side, indicating that the probabilty of outcomes decreases moving away from the centre. "
   ]
  },
  {
   "cell_type": "code",
   "execution_count": null,
   "metadata": {},
   "outputs": [],
   "source": []
  }
 ],
 "metadata": {
  "kernelspec": {
   "display_name": "Python 3",
   "language": "python",
   "name": "python3"
  },
  "language_info": {
   "codemirror_mode": {
    "name": "ipython",
    "version": 3
   },
   "file_extension": ".py",
   "mimetype": "text/x-python",
   "name": "python",
   "nbconvert_exporter": "python",
   "pygments_lexer": "ipython3",
   "version": "3.8.3"
  }
 },
 "nbformat": 4,
 "nbformat_minor": 4
}
