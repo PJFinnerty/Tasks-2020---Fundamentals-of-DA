{
 "cells": [
  {
   "cell_type": "markdown",
   "metadata": {},
   "source": [
    "## Task 3: Fundamentals of Data Analysis\n",
    "\n",
    "### November 16th, 2020: \n",
    "The numpy.random.binomial function can be used to\n",
    "simulate flipping a coin with a 50/50 chance of heads or tails. \n",
    "\n",
    "Interestingly, if a coin is flipped many times then the number of heads is well approximated by a\n",
    "bell-shaped curve. For instance, if we flip a coin 100 times in a row the chance of\n",
    "getting 50 heads is relatively high, the chances of getting 0 or 100 heads is relatively\n",
    "low, and the chances of getting any other number of heads decreases as you move\n",
    "away from 50 in either direction towards 0 or 100. \n",
    "\n",
    "* Write some python code that simulates flipping a coin 100 times. \n",
    "* Then run this code 1,000 times, keeping track of the number of heads in each of the 1,000 simulations. Select an appropriate plot to depict the resulting list of 1,000 numbers, showing that it roughly follows a bell-shaped curve. \n",
    "* You  should explain your work in a Markdown cell above the code.\n"
   ]
  },
  {
   "cell_type": "markdown",
   "metadata": {},
   "source": [
    "### numpy.random.binomial\n",
    "\n",
    "#### Parameters\n",
    "\n",
    "##### (n, p, size=None)\n",
    "\n",
    "**n** int or array_like of ints. Parameter of the distribution, >= 0. Floats are also accepted, but they will be truncated to integers.\n",
    "\n",
    "**p:** float or array_like of floats. Parameter of the distribution, >= 0 and <=1.\n",
    "\n",
    "**size:** int or tuple of ints, optional. Determines output shape. If the given shape is, e.g., (m, n, k), then m * n * k samples are drawn. If size is None (default), a single value is returned if n and p are both scalars. Otherwise, np.broadcast(n, p).size samples are drawn.\n",
    "\n",
    "#### Returns\n",
    "\n",
    "**out:** ndarray or scalar. Drawn samples from the parameterized binomial distribution, where each sample is equal to the number of successes over the n trials."
   ]
  },
  {
   "cell_type": "markdown",
   "metadata": {},
   "source": [
    "### Relationship Between Binomial Distribution and Bernoulli Distribution\n",
    "\n",
    "The Bernoulli Distribution can be used to describe an event whereby the result will be measured as either a success or failure, and where *p* often stands for the probability of a particular outcome (i.e. success). A random variable that takes value 1 in case of success and 0 in case of failure is called a Bernoulli random variable.\n",
    "\n",
    "A Binomial Distribution describes where a Bernoulli experiment is repeated. We take the Bernoulli probability variable *p* and carry out the experiment of 'success/failure' *n* number of times. From this repetition we calculate the number of successes (e.g. the outcome of heads in a coin toss) and assign it the variable *X*. The distribution of the number of *X* is the Binomial Distribution. Essentially, a binomial random variable counts how often a particular event occurs in a fixed number of tries or trials. \n",
    "\n",
    "Therefore, the primary differences between the two distributions are that Bernoulli distributions describe success/failure outcomes, with a parameter input ascribing a value of either 1 or 0 to success or to failure. Contrastly, Binomial distributions allow for *n* number of trials and for the whole experiment to be repeated a fixed amount of times (this is where the *size* parameter comes into play)."
   ]
  },
  {
   "cell_type": "markdown",
   "metadata": {},
   "source": [
    "### Example Use of Numpy's Binomial Function: the flipping of a coin 50 times"
   ]
  },
  {
   "cell_type": "code",
   "execution_count": 2,
   "metadata": {},
   "outputs": [
    {
     "data": {
      "text/plain": [
       "array([ 7,  5,  5,  5,  5,  5,  4,  3,  6,  3,  3,  6,  4,  8,  5,  5,  4,\n",
       "       10,  8,  6,  3,  2,  2,  1,  5,  5,  4,  4,  4,  3,  6,  6,  6,  7,\n",
       "        4,  7,  5,  3,  4,  7,  4,  3,  3,  5,  7,  5,  7,  5,  4,  7,  5,\n",
       "        6,  4,  5,  5,  3,  3,  7,  5,  4,  8,  6,  7,  6,  4,  6,  4,  5,\n",
       "        6,  8,  3,  6,  6,  4,  5,  4,  6,  6,  5,  4,  2,  4,  6,  7,  7,\n",
       "        6,  3,  6,  4,  5,  7,  4,  6,  4,  7,  8,  5,  5,  2,  6])"
      ]
     },
     "execution_count": 2,
     "metadata": {},
     "output_type": "execute_result"
    }
   ],
   "source": [
    "# Import Numpy\n",
    "import numpy as np\n",
    "\n",
    "# Assign n as number of coin flips\n",
    "n= 10\n",
    "\n",
    "# Assign p as probability of each flip (must be between 0 and 1)\n",
    "p = .5 \n",
    "\n",
    "# Set s as binomial function and plug in paramter variables, plus the number of repetitions of the trials\n",
    "s = np.random.binomial(n, p, 100)\n",
    "s"
   ]
  },
  {
   "cell_type": "markdown",
   "metadata": {},
   "source": [
    "In the above example, *n* is set to 10. Each figure in the output cell represents the 'success' rate out of 10 'coin flips'. The trial has been repeated 100 times, and the Binomial distribution is expressed in the deviation of success, moving away from 5, closer to either 0 or 10 (exclusive). \n",
    "\n",
    "Just glancing at the 100 figures above, it can be seen that there is a greater number of trials that resulted in a number of 5 successful coin flips, and the results closer to 0 or to 10 grow increasingly less likely. "
   ]
  },
  {
   "cell_type": "markdown",
   "metadata": {},
   "source": [
    "#### Example of larger distribution with graph"
   ]
  },
  {
   "cell_type": "code",
   "execution_count": 3,
   "metadata": {
    "scrolled": true
   },
   "outputs": [
    {
     "name": "stdout",
     "output_type": "stream",
     "text": [
      "[47 48 44 46 47 59 47 48 56 48 55 48 43 48 49 54 45 50 45 45 48 52 45 55\n",
      " 50 49 48 50 44 54 53 53 49 47 46 57 48 53 46 46 50 41 51 53 61 54 56 45\n",
      " 52 49 39 58 47 52 52 51 57 50 41 46 48 56 49 53 42 48 49 54 55 43 42 56\n",
      " 55 49 43 53 52 50 49 53 52 43 50 43 46 58 46 48 40 43 48 45 46 55 55 50\n",
      " 51 55 45 52 42 54 60 45 47 48 53 50 52 58 43 50 57 48 41 46 51 40 57 47\n",
      " 59 57 55 45 52 47 44 46 47 50 45 45 54 50 58 51 50 51 47 44 45 53 49 41\n",
      " 51 50 50 49 48 42 52 50 57 47 48 54 53 51 45 41 50 47 54 50 52 45 55 51\n",
      " 69 46 48 53 57 45 63 41 45 46 41 54 47 43 58 50 59 51 49 49 49 57 38 48\n",
      " 46 53 42 51 52 47 43 45 47 46 51 52 51 53 49 48 55 45 53 51 54 51 53 41\n",
      " 54 53 45 57 56 62 53 56 44 55 47 44 51 50 57 52 50 43 50 38 60 55 45 48\n",
      " 51 52 51 42 42 62 52 52 54 50 55 49 42 55 57 51 54 49 55 55 43 49 48 53\n",
      " 54 47 48 43 49 49 55 51 54 50 44 45 52 57 43 44 52 53 38 55 48 51 51 52\n",
      " 54 59 53 51 51 53 43 49 50 49 59 49 48 44 49 59 52 48 52 51 53 53 46 54\n",
      " 47 51 51 48 51 56 49 52 56 56 56 46 56 53 48 50 47 52 52 45 54 54 50 53\n",
      " 51 45 52 51 52 49 45 48 48 45 43 46 43 36 59 43 49 43 52 52 52 55 50 48\n",
      " 48 46 46 50 58 43 49 39 60 50 52 42 52 46 51 54 41 52 50 49 58 50 47 50\n",
      " 46 52 52 49 49 54 51 45 53 46 43 51 46 50 49 52 51 47 51 50 54 46 57 59\n",
      " 53 52 59 59 49 54 53 52 48 52 63 45 46 44 46 50 42 41 45 56 55 49 42 47\n",
      " 58 54 52 49 54 53 51 45 44 44 42 59 49 44 52 48 58 51 54 43 44 43 59 51\n",
      " 44 57 51 56 48 55 48 55 46 44 47 48 51 55 51 43 56 59 51 39 49 59 50 47\n",
      " 52 48 50 53 56 46 44 46 52 44 45 50 49 53 57 45 50 51 55 54 57 52 48 59\n",
      " 49 51 55 53 51 47 52 47 53 46 59 48 50 56 46 46 47 47 50 51 49 42 44 54\n",
      " 56 51 52 38 47 48 52 43 55 54 45 54 48 52 47 53 49 44 50 48 53 46 53 54\n",
      " 42 49 64 53 44 42 47 49 49 49 51 47 51 47 46 54 45 56 45 44 57 56 55 60\n",
      " 51 44 45 45 50 51 45 49 55 54 47 46 49 55 50 67 40 59 51 53 48 47 40 49\n",
      " 48 50 49 54 56 47 52 44 52 54 48 52 53 58 57 47 48 55 57 54 40 39 44 43\n",
      " 50 42 51 42 52 48 43 54 43 47 48 46 53 52 52 57 47 54 51 54 51 50 48 52\n",
      " 49 49 41 58 50 49 56 55 55 44 49 48 54 49 45 51 56 49 52 52 38 54 55 47\n",
      " 45 49 50 41 54 53 56 56 45 53 51 67 47 53 49 44 52 48 51 48 48 48 49 49\n",
      " 50 56 60 53 53 52 44 53 48 48 55 59 47 41 48 51 46 47 46 50 59 47 57 56\n",
      " 55 50 46 46 53 57 52 45 49 39 58 53 55 55 48 43 53 45 47 43 62 52 55 53\n",
      " 52 56 49 56 43 60 45 48 46 48 46 52 48 41 53 52 51 53 56 48 52 53 45 47\n",
      " 50 48 50 55 51 50 54 47 42 57 40 48 52 52 56 42 56 55 51 50 45 44 46 49\n",
      " 53 56 49 45 47 47 48 53 42 51 44 50 49 40 54 51 53 39 43 48 51 45 45 44\n",
      " 51 47 42 54 54 43 58 60 50 52 51 62 50 49 55 48 49 47 56 50 56 45 49 50\n",
      " 48 45 52 48 60 53 53 54 45 52 50 43 56 53 54 55 48 45 53 43 48 47 46 58\n",
      " 60 52 50 47 44 45 49 63 51 44 50 47 52 51 49 50 59 50 46 48 53 49 50 53\n",
      " 48 53 48 51 48 45 56 56 48 45 47 46 50 39 40 51 57 49 49 48 59 60 54 53\n",
      " 55 57 52 51 50 54 54 47 55 55 57 42 51 47 56 51 41 49 57 47 57 58 50 53\n",
      " 48 48 46 56 57 59 42 48 50 45 43 47 51 48 49 49 50 53 49 41 54 56 45 53\n",
      " 46 46 53 45 37 52 49 49 42 56 50 47 44 61 44 46 62 46 53 49 57 41 49 43\n",
      " 50 45 55 50 54 47 55 48 52 50 51 50 43 49 44 62]\n"
     ]
    }
   ],
   "source": [
    "# Import Seaborn and Matplotlib for plotting\n",
    "import seaborn as sns\n",
    "import matplotlib.pyplot as plt\n",
    "\n",
    "n= 100\n",
    "p = .5\n",
    "\n",
    "# Set number of repetitions to 1000 to provide larger distribution\n",
    "s = np.random.binomial(n, p, 1000)\n",
    "\n",
    "print(s)"
   ]
  },
  {
   "cell_type": "code",
   "execution_count": 4,
   "metadata": {},
   "outputs": [
    {
     "data": {
      "text/plain": [
       "<matplotlib.axes._subplots.AxesSubplot at 0x1c244f92c70>"
      ]
     },
     "execution_count": 4,
     "metadata": {},
     "output_type": "execute_result"
    },
    {
     "data": {
      "image/png": "[encoded data removed]",
      "text/plain": [
       "<Figure size 432x288 with 1 Axes>"
      ]
     },
     "metadata": {
      "needs_background": "light"
     },
     "output_type": "display_data"
    }
   ],
   "source": [
    "# Graph on distplot using Seaborn\n",
    "sns.distplot(s)"
   ]
  },
  {
   "cell_type": "markdown",
   "metadata": {},
   "source": [
    "In the above example of 1000 experiments of 100 coin flips (with 50 percent probability of success) a normal ditribution is observed. The data is grouped around the 5 mark, with a gradual slope either side, indicating that the probabilty of outcomes decreases moving away from the centre. "
   ]
  },
  {
   "cell_type": "markdown",
   "metadata": {},
   "source": [
    "#### Using unmpy.equal() function to compare arrays\n",
    "\n",
    "It is necessary to count the number of heads out of 1000 experiements of a 100 coin flip trial. \n",
    "\n",
    "In order to do this it is necessary to use Numpy's equal() function to compare two arrays of equal length. \n",
    "\n",
    "The example below details how the equal() function compares two basic given arrays of equal length, to determine via the outpt of Boolean values if the corresponding elements from both lists are equal."
   ]
  },
  {
   "cell_type": "code",
   "execution_count": 5,
   "metadata": {},
   "outputs": [
    {
     "name": "stdout",
     "output_type": "stream",
     "text": [
      "[1, 2, 3, 4, 5, 6, 7, 8, 9, 10] \n",
      " [1, 2, 3, 4, 5, 6, 7, 80, 90, 100]\n",
      "[ True  True  True  True  True  True  True False False False]\n"
     ]
    }
   ],
   "source": [
    "array_1 = [1, 2, 3, 4, 5, 6, 7, 8, 9, 10]\n",
    "array_2 = [1, 2, 3, 4, 5, 6 ,7 ,80 ,90, 100]\n",
    "\n",
    "print(array_1, \"\\n\", array_2)\n",
    "\n",
    "print(np.equal(array_1, array_2))"
   ]
  },
  {
   "cell_type": "markdown",
   "metadata": {},
   "source": [
    "As the first 7 values in both arrays are the same, the first 7 Bools in the output are True.\n",
    "\n",
    "By using np.equal() in conjunction with the sum() function, we are presented with the output of a single integer, 7, rather than an array of Bools."
   ]
  },
  {
   "cell_type": "code",
   "execution_count": 6,
   "metadata": {},
   "outputs": [
    {
     "data": {
      "text/plain": [
       "7"
      ]
     },
     "execution_count": 6,
     "metadata": {},
     "output_type": "execute_result"
    }
   ],
   "source": [
    "np.equal(array_1, array_2).sum()"
   ]
  },
  {
   "cell_type": "markdown",
   "metadata": {},
   "source": [
    "This is because the sum() function will calculate the number of 'True' Boolean values between the two arrays and output this number."
   ]
  },
  {
   "cell_type": "markdown",
   "metadata": {},
   "source": [
    "#### Using numpy.equal to count the number of headsdddd\n",
    "\n",
    "We will now use apply this knowledge of the np.equal() function to the binomial function in order to calculate the number of True outcomes, i.e. heads values.\n",
    "\n",
    "The variable *s* (which has been asigned to the binomial function itself) will be compared with the variable *i*. The *i* variable will be compared against each element of the binomial function array and will be in the range of *n* (1-100).\n",
    "\n",
    "More specifically, this will create an element wise comparison between the product of the binomial function and the *i* variable, which will result in the number of heads in the 100 flips in the 1000 trials, being tallied.\n",
    "\n",
    "The code below produces an output array of 100 numbers, representing the amount of heads from each trial. Although it may not be clear, the total number of heads adds up to 1000, which represents the relationship between the variables *s* and *n*."
   ]
  },
  {
   "cell_type": "code",
   "execution_count": 7,
   "metadata": {},
   "outputs": [
    {
     "data": {
      "text/plain": [
       "[0,\n",
       " 0,\n",
       " 0,\n",
       " 0,\n",
       " 0,\n",
       " 0,\n",
       " 0,\n",
       " 0,\n",
       " 0,\n",
       " 0,\n",
       " 0,\n",
       " 0,\n",
       " 0,\n",
       " 0,\n",
       " 0,\n",
       " 0,\n",
       " 0,\n",
       " 0,\n",
       " 0,\n",
       " 0,\n",
       " 0,\n",
       " 0,\n",
       " 0,\n",
       " 0,\n",
       " 0,\n",
       " 0,\n",
       " 0,\n",
       " 0,\n",
       " 0,\n",
       " 0,\n",
       " 0,\n",
       " 0,\n",
       " 0,\n",
       " 0,\n",
       " 0,\n",
       " 0,\n",
       " 1,\n",
       " 1,\n",
       " 5,\n",
       " 7,\n",
       " 8,\n",
       " 17,\n",
       " 24,\n",
       " 37,\n",
       " 36,\n",
       " 59,\n",
       " 51,\n",
       " 61,\n",
       " 82,\n",
       " 80,\n",
       " 78,\n",
       " 76,\n",
       " 75,\n",
       " 69,\n",
       " 53,\n",
       " 47,\n",
       " 41,\n",
       " 30,\n",
       " 15,\n",
       " 22,\n",
       " 10,\n",
       " 2,\n",
       " 6,\n",
       " 3,\n",
       " 1,\n",
       " 0,\n",
       " 0,\n",
       " 2,\n",
       " 0,\n",
       " 1,\n",
       " 0,\n",
       " 0,\n",
       " 0,\n",
       " 0,\n",
       " 0,\n",
       " 0,\n",
       " 0,\n",
       " 0,\n",
       " 0,\n",
       " 0,\n",
       " 0,\n",
       " 0,\n",
       " 0,\n",
       " 0,\n",
       " 0,\n",
       " 0,\n",
       " 0,\n",
       " 0,\n",
       " 0,\n",
       " 0,\n",
       " 0,\n",
       " 0,\n",
       " 0,\n",
       " 0,\n",
       " 0,\n",
       " 0,\n",
       " 0,\n",
       " 0,\n",
       " 0,\n",
       " 0]"
      ]
     },
     "execution_count": 7,
     "metadata": {},
     "output_type": "execute_result"
    }
   ],
   "source": [
    "[np.equal(s,i).sum() for i in range(n)]"
   ]
  },
  {
   "cell_type": "markdown",
   "metadata": {},
   "source": [
    "##### Information on numpy.equal function found @ https://www.w3resource.com/python-exercises/numpy/basic/numpy-basic-exercise-11.php"
   ]
  },
  {
   "cell_type": "code",
   "execution_count": 14,
   "metadata": {},
   "outputs": [],
   "source": [
    "# Import Seaborn and Matplotlib for plotting\n",
    "import seaborn as sns\n",
    "import matplotlib.pyplot as plt\n",
    "\n",
    "n= 100\n",
    "p = .5\n",
    "\n",
    "# Set number of repetitions to 1000 to provide larger distribution\n",
    "s = np.random.binomial(n, p, 1000)\n",
    "\n",
    "result = [np.equal(s,i).sum() for i in range(n)]"
   ]
  },
  {
   "cell_type": "code",
   "execution_count": 15,
   "metadata": {},
   "outputs": [
    {
     "data": {
      "text/plain": [
       "<matplotlib.axes._subplots.AxesSubplot at 0x1c249d5e3a0>"
      ]
     },
     "execution_count": 15,
     "metadata": {},
     "output_type": "execute_result"
    },
    {
     "data": {
      "image/png": "[encoded data removed]",
      "text/plain": [
       "<Figure size 432x288 with 1 Axes>"
      ]
     },
     "metadata": {
      "needs_background": "light"
     },
     "output_type": "display_data"
    }
   ],
   "source": [
    "sns.distplot(result)"
   ]
  },
  {
   "cell_type": "code",
   "execution_count": null,
   "metadata": {},
   "outputs": [],
   "source": []
  }
 ],
 "metadata": {
  "kernelspec": {
   "display_name": "Python 3",
   "language": "python",
   "name": "python3"
  },
  "language_info": {
   "codemirror_mode": {
    "name": "ipython",
    "version": 3
   },
   "file_extension": ".py",
   "mimetype": "text/x-python",
   "name": "python",
   "nbconvert_exporter": "python",
   "pygments_lexer": "ipython3",
   "version": "3.8.3"
  }
 },
 "nbformat": 4,
 "nbformat_minor": 4
}
