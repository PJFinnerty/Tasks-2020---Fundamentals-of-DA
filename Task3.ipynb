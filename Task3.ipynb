{
 "cells": [
  {
   "cell_type": "markdown",
   "metadata": {},
   "source": [
    "## Task 3: Fundamentals of Data Analysis\n",
    "\n",
    "### November 16th, 2020: \n",
    "The numpy.random.binomial function can be used to\n",
    "simulate flipping a coin with a 50/50 chance of heads or tails. \n",
    "\n",
    "Interestingly, if a coin is flipped many times then the number of heads is well approximated by a\n",
    "bell-shaped curve. For instance, if we flip a coin 100 times in a row the chance of\n",
    "getting 50 heads is relatively high, the chances of getting 0 or 100 heads is relatively\n",
    "low, and the chances of getting any other number of heads decreases as you move\n",
    "away from 50 in either direction towards 0 or 100. \n",
    "\n",
    "* Write some python code that simulates flipping a coin 100 times. \n",
    "* Then run this code 1,000 times, keeping track of the number of heads in each of the 1,000 simulations. Select an appropriate plot to depict the resulting list of 1,000 numbers, showing that it roughly follows a bell-shaped curve. \n",
    "* You  should explain your work in a Markdown cell above the code.\n"
   ]
  },
  {
   "cell_type": "markdown",
   "metadata": {},
   "source": [
    "### numpy.random.binomial\n",
    "\n",
    "#### Parameters\n",
    "\n",
    "##### (n, p, size=None)\n",
    "\n",
    "**n** int or array_like of ints. Parameter of the distribution, >= 0. Floats are also accepted, but they will be truncated to integers.\n",
    "\n",
    "**p:** float or array_like of floats. Parameter of the distribution, >= 0 and <=1.\n",
    "\n",
    "**size:** int or tuple of ints, optional. Determines output shape. If the given shape is, e.g., (m, n, k), then m * n * k samples are drawn. If size is None (default), a single value is returned if n and p are both scalars. Otherwise, np.broadcast(n, p).size samples are drawn.\n",
    "\n",
    "#### Returns\n",
    "\n",
    "**out:** ndarray or scalar. Drawn samples from the parameterized binomial distribution, where each sample is equal to the number of successes over the n trials."
   ]
  },
  {
   "cell_type": "markdown",
   "metadata": {},
   "source": [
    "### Relationship Between Binomial Distribution and Bernoulli Distribution\n",
    "\n",
    "The Bernoulli Distribution can be used to describe an event whereby the result will be measured as either a success or failure, and where *p* often stands for the probability of a particular outcome (i.e. success). A random variable that takes value 1 in case of success and 0 in case of failure is called a Bernoulli random variable.\n",
    "\n",
    "A Binomial Distribution describes where a Bernoulli experiment is repeated. We take the Bernoulli probability variable *p* and carry out the experiment of 'success/failure' *n* number of times. From this repetition we calculate the number of successes (e.g. the outcome of heads in a coin toss) and assign it the variable *X*. The distribution of the number of *X* is the Binomial Distribution. Essentially, a binomial random variable counts how often a particular event occurs in a fixed number of tries or trials. \n",
    "\n",
    "Therefore, the primary differences between the two distributions are that Bernoulli distributions describe success/failure outcomes, with a parameter input ascribing a value of either 1 or 0 to success or to failure. Contrastly, Binomial distributions allow for *n* number of trials and for the whole experiment to be repeated a fixed amount of times (this is where the *size* parameter comes into play)."
   ]
  },
  {
   "cell_type": "markdown",
   "metadata": {},
   "source": [
    "### Example Use of Numpy's Binomial Function: the flipping of a coin 50 times"
   ]
  },
  {
   "cell_type": "code",
   "execution_count": 3,
   "metadata": {},
   "outputs": [
    {
     "data": {
      "text/plain": [
       "array([5, 5, 3, 4, 5, 6, 6, 6, 5, 2, 5, 6, 5, 5, 7, 7, 5, 4, 4, 7, 3, 5,\n",
       "       7, 3, 3, 3, 4, 5, 4, 4, 9, 6, 8, 4, 4, 4, 7, 8, 3, 5, 4, 8, 4, 5,\n",
       "       7, 6, 6, 7, 5, 5, 3, 8, 5, 6, 6, 7, 3, 3, 5, 4, 6, 6, 3, 6, 5, 4,\n",
       "       6, 4, 7, 6, 6, 7, 6, 4, 5, 5, 5, 7, 3, 5, 6, 5, 5, 4, 2, 5, 4, 4,\n",
       "       1, 3, 5, 5, 6, 6, 4, 5, 4, 8, 7, 5])"
      ]
     },
     "execution_count": 3,
     "metadata": {},
     "output_type": "execute_result"
    }
   ],
   "source": [
    "# Import Numpy\n",
    "import numpy as np\n",
    "\n",
    "# Assign n as number of coin flips\n",
    "n= 10\n",
    "\n",
    "# Assign p as probability of each flip (must be between 0 and 1)\n",
    "p = .5 \n",
    "\n",
    "# Set s as binomial function and plug in paramter variables, plus the number of repetitions of the trials\n",
    "s = np.random.binomial(n, p, 100)\n",
    "s"
   ]
  },
  {
   "cell_type": "markdown",
   "metadata": {},
   "source": [
    "In the above example, *n* is set to 10. Each figure in the output cell represents the 'success' rate out of 10 'coin flips'. The trial has been repeated 100 times, and the Binomial distribution is expressed in the deviation of success, moving away from 5, closer to either 0 or 10 (exclusive). \n",
    "\n",
    "Just glancing at the 100 figures above, it can be seen that there is a greater number of trials that resulted in a number of 5 successful coin flips, and the results closer to 0 or to 10 grow increasingly less likely. "
   ]
  },
  {
   "cell_type": "markdown",
   "metadata": {},
   "source": [
    "#### Example of larger distribution with graph"
   ]
  },
  {
   "cell_type": "code",
   "execution_count": 26,
   "metadata": {
    "scrolled": true
   },
   "outputs": [
    {
     "name": "stdout",
     "output_type": "stream",
     "text": [
      "[42 45 49 56 54 52 49 48 57 49 47 53 44 49 53 47 48 47 47 50 53 50 32 39\n",
      " 49 45 50 50 48 48 48 53 52 61 53 53 56 53 56 42 50 48 46 47 49 47 47 53\n",
      " 50 53 46 53 51 59 63 50 52 58 44 41 50 54 46 56 57 48 48 50 49 55 47 44\n",
      " 45 46 49 53 35 54 47 53 55 51 48 50 45 47 43 53 45 42 47 59 47 44 50 59\n",
      " 51 64 49 48 51 49 49 51 49 47 49 51 57 51 59 47 48 50 53 51 59 49 58 54\n",
      " 50 54 51 50 52 56 45 46 50 41 50 56 58 52 46 57 54 62 44 55 48 59 49 49\n",
      " 44 52 56 46 48 41 54 52 51 37 45 49 51 52 56 51 48 54 56 55 59 66 42 42\n",
      " 51 50 52 44 58 51 50 55 55 48 46 48 52 48 47 51 50 56 47 47 41 56 46 47\n",
      " 39 37 58 59 49 61 55 47 51 49 51 51 50 53 44 53 59 48 48 44 47 43 54 47\n",
      " 57 46 51 52 51 49 47 48 48 50 52 50 53 43 58 53 45 38 48 58 45 48 57 46\n",
      " 51 55 45 53 50 50 42 51 48 59 51 53 57 50 54 56 46 55 48 59 59 51 49 47\n",
      " 56 42 49 49 44 44 58 59 38 48 44 52 43 52 49 57 56 49 47 47 52 44 59 48\n",
      " 50 53 57 49 59 46 53 50 43 47 45 50 53 50 48 47 51 52 49 56 41 52 42 49\n",
      " 50 52 47 47 54 54 48 51 50 49 53 46 52 50 51 57 50 49 47 50 53 42 48 51\n",
      " 54 54 50 47 43 50 48 46 46 44 47 48 43 51 47 57 53 53 56 43 45 48 51 53\n",
      " 53 53 42 47 52 53 56 51 47 54 53 48 47 56 51 46 41 58 48 46 45 54 49 60\n",
      " 48 48 57 46 57 42 44 43 58 47 55 59 50 45 53 46 41 52 61 52 58 44 50 48\n",
      " 52 49 56 49 43 52 58 53 43 47 53 60 48 37 50 47 47 56 52 48 48 47 46 35\n",
      " 46 50 45 63 51 44 48 52 36 38 58 38 48 52 49 44 42 43 54 46 48 51 53 50\n",
      " 49 51 52 49 55 53 46 54 48 57 55 47 51 56 41 44 43 47 45 48 44 55 51 50\n",
      " 51 53 49 46 44 41 45 54 55 48 53 54 50 54 51 44 51 50 43 48 49 48 41 43\n",
      " 52 42 47 59 47 49 45 46 47 47 57 50 51 53 47 52 38 48 52 49 49 51 42 55\n",
      " 50 48 40 51 54 50 55 60 56 42 50 54 50 48 55 60 43 51 51 49 49 58 42 44\n",
      " 51 47 60 54 58 50 45 47 46 44 57 58 45 48 57 54 55 40 51 50 49 48 54 51\n",
      " 46 52 60 55 51 46 58 49 48 48 46 52 48 54 47 46 53 52 59 51 52 51 45 51\n",
      " 42 50 47 51 46 50 51 50 52 51 55 60 48 55 44 50 50 58 48 53 56 49 56 37\n",
      " 46 56 54 52 52 56 44 47 47 50 61 59 55 48 53 57 51 53 45 48 51 39 57 45\n",
      " 51 48 53 61 48 53 66 50 59 54 42 55 43 43 54 53 53 49 56 49 53 46 48 52\n",
      " 45 45 52 42 52 52 46 50 45 43 58 48 55 57 49 49 64 42 53 54 41 51 52 45\n",
      " 46 54 41 52 54 62 50 47 51 53 42 53 43 46 44 53 59 54 54 48 50 57 54 55\n",
      " 55 57 50 44 38 52 52 52 45 54 52 53 53 46 57 58 53 50 43 54 49 49 56 54\n",
      " 48 46 51 46 49 55 49 42 41 54 53 56 49 48 49 54 53 60 55 49 48 45 43 48\n",
      " 45 50 56 39 58 49 46 62 52 46 52 49 47 46 49 57 51 53 53 54 55 46 54 50\n",
      " 45 56 45 63 59 55 49 53 41 57 46 57 52 49 52 43 47 54 49 47 44 58 51 53\n",
      " 48 55 57 52 45 53 56 53 55 56 52 49 59 45 57 54 50 54 56 42 48 50 48 50\n",
      " 49 56 49 47 58 65 56 50 49 53 52 53 51 55 43 45 44 44 46 46 52 47 46 55\n",
      " 53 45 54 48 47 54 46 41 48 45 56 43 48 52 47 47 57 52 54 60 41 57 52 71\n",
      " 47 57 53 57 59 52 53 47 46 52 51 55 49 48 51 44 48 49 37 55 47 55 51 43\n",
      " 53 52 57 47 56 53 56 58 49 53 48 48 51 46 57 47 51 44 45 42 46 49 47 54\n",
      " 48 48 52 51 43 56 39 46 52 50 51 50 48 45 53 51 53 49 40 50 55 46 46 42\n",
      " 43 42 55 56 49 46 58 40 50 53 53 57 47 42 61 53 49 51 49 46 48 38 65 53\n",
      " 51 53 48 48 54 40 52 55 49 43 60 50 52 59 58 48]\n"
     ]
    }
   ],
   "source": [
    "# Import Seaborn and Matplotlib for plotting\n",
    "import seaborn as sns\n",
    "import matplotlib.pyplot as plt\n",
    "\n",
    "n= 100\n",
    "p = .5\n",
    "\n",
    "# Set number of repetitions to 1000 to provide larger distribution\n",
    "s = np.random.binomial(n, p, 1000)\n",
    "\n",
    "print(s)"
   ]
  },
  {
   "cell_type": "code",
   "execution_count": 27,
   "metadata": {},
   "outputs": [
    {
     "data": {
      "text/plain": [
       "<matplotlib.axes._subplots.AxesSubplot at 0x18a447c5a00>"
      ]
     },
     "execution_count": 27,
     "metadata": {},
     "output_type": "execute_result"
    },
    {
     "data": {
      "image/png": "[encoded data removed]",
      "text/plain": [
       "<Figure size 432x288 with 1 Axes>"
      ]
     },
     "metadata": {
      "needs_background": "light"
     },
     "output_type": "display_data"
    }
   ],
   "source": [
    "# Graph on distplot using Seaborn\n",
    "sns.distplot(s)"
   ]
  },
  {
   "cell_type": "markdown",
   "metadata": {},
   "source": [
    "In the above example of 1000 experiments of 100 coin flips (with 50 percent probability of success) a normal ditribution is observed. The data is grouped around the 5 mark, with a gradual slope either side, indicating that the probabilty of outcomes decreases moving away from the centre. "
   ]
  },
  {
   "cell_type": "markdown",
   "metadata": {},
   "source": [
    "#### Using unmpy.equal() function to compare arrays\n",
    "\n",
    "It is necessary to count the number of heads out of 1000 experiements of a 100 coin flip trial. \n",
    "\n",
    "In order to do this it is necessary to use Numpy's equal() function to compare two arrays of equal length. \n",
    "\n",
    "The example below details how the equal() function compares two basic given arrays of equal length, to determine via the outpt of Boolean values if the corresponding elements from both lists are equal."
   ]
  },
  {
   "cell_type": "code",
   "execution_count": 61,
   "metadata": {},
   "outputs": [
    {
     "name": "stdout",
     "output_type": "stream",
     "text": [
      "[1, 2, 3, 4, 5, 6, 7, 8, 9, 10] \n",
      " [1, 2, 3, 4, 5, 6, 7, 80, 90, 100]\n",
      "[ True  True  True  True  True  True  True False False False]\n"
     ]
    }
   ],
   "source": [
    "array_1 = [1, 2, 3, 4, 5, 6, 7, 8, 9, 10]\n",
    "array_2 = [1, 2, 3, 4, 5, 6 ,7 ,80 ,90, 100]\n",
    "\n",
    "print(array_1, \"\\n\", array_2)\n",
    "\n",
    "print(np.equal(array_1, array_2))"
   ]
  },
  {
   "cell_type": "markdown",
   "metadata": {},
   "source": [
    "As the first 7 values in both arrays are the same, the first 7 Bools in the output are True.\n",
    "\n",
    "By using np.equal() in conjunction with the sum() function, we are presented with the output of a single integer, 7, rather than an array of Bools."
   ]
  },
  {
   "cell_type": "code",
   "execution_count": 60,
   "metadata": {},
   "outputs": [
    {
     "data": {
      "text/plain": [
       "7"
      ]
     },
     "execution_count": 60,
     "metadata": {},
     "output_type": "execute_result"
    }
   ],
   "source": [
    "np.equal(array_1, array_2).sum()"
   ]
  },
  {
   "cell_type": "markdown",
   "metadata": {},
   "source": [
    "This is because the sum() function will calculate the number of 'True' Boolean values between the two arrays and output this number."
   ]
  },
  {
   "cell_type": "markdown",
   "metadata": {},
   "source": [
    "##### Information on numpy.equal function found @ https://www.w3resource.com/python-exercises/numpy/basic/numpy-basic-exercise-11.php"
   ]
  },
  {
   "cell_type": "code",
   "execution_count": null,
   "metadata": {},
   "outputs": [],
   "source": []
  }
 ],
 "metadata": {
  "kernelspec": {
   "display_name": "Python 3",
   "language": "python",
   "name": "python3"
  },
  "language_info": {
   "codemirror_mode": {
    "name": "ipython",
    "version": 3
   },
   "file_extension": ".py",
   "mimetype": "text/x-python",
   "name": "python",
   "nbconvert_exporter": "python",
   "pygments_lexer": "ipython3",
   "version": "3.8.3"
  }
 },
 "nbformat": 4,
 "nbformat_minor": 4
}
