{
 "cells": [
  {
   "cell_type": "markdown",
   "metadata": {},
   "source": [
    "## Task 3: Fundamentals of Data Analysis\n",
    "\n",
    "### November 16th, 2020: \n",
    "The numpy.random.binomial function can be used to\n",
    "simulate flipping a coin with a 50/50 chance of heads or tails. \n",
    "\n",
    "Interestingly, if a coin is flipped many times then the number of heads is well approximated by a\n",
    "bell-shaped curve. For instance, if we flip a coin 100 times in a row the chance of\n",
    "getting 50 heads is relatively high, the chances of getting 0 or 100 heads is relatively\n",
    "low, and the chances of getting any other number of heads decreases as you move\n",
    "away from 50 in either direction towards 0 or 100. \n",
    "\n",
    "* Write some python code that simulates flipping a coin 100 times. \n",
    "* Then run this code 1,000 times, keeping track of the number of heads in each of the 1,000 simulations. Select an appropriate plot to depict the resulting list of 1,000 numbers, showing that it roughly follows a bell-shaped curve. \n",
    "* You  should explain your work in a Markdown cell above the code.\n"
   ]
  },
  {
   "cell_type": "markdown",
   "metadata": {},
   "source": [
    "### numpy.random.binomial\n",
    "\n",
    "#### Parameters\n",
    "\n",
    "##### (n, p, size=None)\n",
    "\n",
    "**n** int or array_like of ints. Parameter of the distribution, >= 0. Floats are also accepted, but they will be truncated to integers.\n",
    "\n",
    "**p:** float or array_like of floats. Parameter of the distribution, >= 0 and <=1.\n",
    "\n",
    "**size:** int or tuple of ints, optional. Determines output shape. If the given shape is, e.g., (m, n, k), then m * n * k samples are drawn. If size is None (default), a single value is returned if n and p are both scalars. Otherwise, np.broadcast(n, p).size samples are drawn.\n",
    "\n",
    "#### Returns\n",
    "\n",
    "**out:** ndarray or scalar. Drawn samples from the parameterized binomial distribution, where each sample is equal to the number of successes over the n trials."
   ]
  },
  {
   "cell_type": "markdown",
   "metadata": {},
   "source": [
    "### Relationship Between Binomial Distribution and Bernoulli Distribution\n",
    "\n",
    "The Bernoulli Distribution can be used to describe an event whereby the result will be measured as either a success or failure, and where *p* often stands for the probability of a particular outcome (i.e. success). A random variable that takes value 1 in case of success and 0 in case of failure is called a Bernoulli random variable.\n",
    "\n",
    "A Binomial Distribution describes where a Bernoulli experiment is repeated. We take the Bernoulli probability variable *p* and carry out the experiment of 'success/failure' *n* number of times. From this repetition we calculate the number of successes (e.g. the outcome of heads in a coin toss) and assign it the variable *X*. The distribution of the number of *X* is the Binomial Distribution. Essentially, a binomial random variable counts how often a particular event occurs in a fixed number of tries or trials. \n",
    "\n",
    "Therefore, the primary differences between the two distributions are that Bernoulli distributions describe success/failure outcomes, with a parameter input ascribing a value of either 1 or 0 to success or to failure. Contrastly, Binomial distributions allow for *n* number of trials and for the whole experiment to be repeated a fixed amount of times (this is where the *size* parameter comes into play)."
   ]
  },
  {
   "cell_type": "markdown",
   "metadata": {},
   "source": [
    "### Example Use of Numpy's Binomial Function: the flipping of a coin 50 times"
   ]
  },
  {
   "cell_type": "code",
   "execution_count": 2,
   "metadata": {},
   "outputs": [
    {
     "data": {
      "text/plain": [
       "array([8, 4, 5, 6, 5, 3, 2, 9, 5, 5, 7, 6, 7, 5, 6, 3, 4, 6, 5, 4, 7, 6,\n",
       "       6, 6, 3, 4, 3, 5, 2, 4, 4, 4, 4, 4, 6, 2, 1, 3, 3, 7, 4, 4, 9, 2,\n",
       "       4, 8, 5, 5, 7, 5, 5, 5, 4, 6, 3, 5, 5, 6, 5, 5, 5, 4, 6, 4, 5, 5,\n",
       "       5, 6, 6, 3, 7, 6, 5, 5, 7, 6, 7, 6, 5, 6, 5, 7, 3, 4, 6, 6, 3, 3,\n",
       "       2, 5, 7, 6, 4, 6, 6, 6, 7, 5, 5, 8])"
      ]
     },
     "execution_count": 2,
     "metadata": {},
     "output_type": "execute_result"
    }
   ],
   "source": [
    "# Import Numpy\n",
    "import numpy as np\n",
    "\n",
    "# Assign n as number of coin flips\n",
    "n= 10\n",
    "\n",
    "# Assign p as probability of each flip (must be between 0 and 1)\n",
    "p = .5 \n",
    "\n",
    "# Set s as binomial function and plug in paramter variables, plus the number of repetitions of the trials\n",
    "s = np.random.binomial(n, p, 100)\n",
    "s"
   ]
  },
  {
   "cell_type": "markdown",
   "metadata": {},
   "source": [
    "In the above example, *n* is set to 10. Each figure in the output cell represents the 'success' rate out of 10 'coin flips'. The trial has been repeated 100 times, and the Binomial distribution is expressed in the deviation of success, moving away from 5, closer to either 0 or 10 (exclusive). \n",
    "\n",
    "Just glancing at the 100 figures above, it can be seen that there is a greater number of trials that resulted in a number of 5 successful coin flips, and the results closer to 0 or to 10 grow increasingly less likely. "
   ]
  },
  {
   "cell_type": "markdown",
   "metadata": {},
   "source": [
    "#### Example of larger distribution with graph"
   ]
  },
  {
   "cell_type": "code",
   "execution_count": 3,
   "metadata": {
    "scrolled": true
   },
   "outputs": [
    {
     "name": "stdout",
     "output_type": "stream",
     "text": [
      "[48 54 54 49 56 57 47 41 55 51 51 45 56 52 53 44 50 48 43 53 45 57 58 48\n",
      " 50 43 62 48 50 42 52 44 56 47 44 52 56 49 43 50 55 53 53 48 47 49 52 45\n",
      " 43 53 48 46 51 50 55 59 46 42 49 46 64 53 41 49 50 46 53 54 53 52 43 53\n",
      " 51 45 64 48 52 51 52 48 53 47 51 47 50 49 49 46 52 62 48 52 54 50 51 50\n",
      " 45 55 56 51 54 51 46 46 45 50 50 53 44 50 52 47 51 46 41 47 42 48 41 57\n",
      " 46 53 54 43 48 54 56 51 52 49 56 49 49 48 59 51 55 51 46 53 47 51 52 56\n",
      " 42 46 45 51 55 45 46 44 54 54 51 56 53 46 52 45 50 50 51 43 46 55 53 52\n",
      " 48 43 49 43 45 47 52 50 44 50 50 43 44 50 61 52 52 55 46 56 53 53 47 49\n",
      " 39 56 51 56 45 47 54 50 55 54 50 48 50 54 50 52 52 57 53 47 44 45 45 52\n",
      " 51 46 55 40 50 47 39 55 53 54 54 46 49 43 54 53 44 37 46 50 54 46 47 49\n",
      " 58 51 47 48 49 48 50 46 50 53 41 46 44 50 56 53 46 54 51 56 57 41 49 54\n",
      " 50 47 52 47 55 44 52 56 48 42 52 49 49 55 53 55 50 45 49 50 46 49 52 52\n",
      " 53 47 57 48 57 42 56 46 50 51 55 51 42 57 52 48 48 48 53 52 50 46 57 43\n",
      " 47 41 45 44 51 51 50 51 52 54 47 58 38 52 35 62 50 47 52 44 44 53 50 50\n",
      " 49 49 39 50 54 53 56 46 49 50 51 45 58 52 47 48 51 47 50 52 49 51 43 50\n",
      " 47 55 53 52 49 53 51 47 53 51 50 48 59 42 53 48 49 54 52 51 41 57 44 57\n",
      " 53 50 49 56 56 42 50 56 51 47 49 41 58 51 59 46 61 51 52 44 42 46 47 47\n",
      " 55 42 44 44 56 57 44 47 49 49 66 56 49 46 51 46 53 54 58 47 56 43 51 50\n",
      " 48 52 54 41 53 50 59 53 49 53 36 46 54 48 52 45 51 51 46 49 51 46 56 42\n",
      " 48 45 45 53 61 53 53 49 59 52 57 50 54 47 43 46 47 52 46 49 51 49 55 51\n",
      " 53 50 52 44 46 51 48 51 56 41 47 55 56 47 49 44 58 49 49 44 48 45 61 59\n",
      " 46 47 47 49 47 52 43 47 56 46 51 45 46 58 49 48 46 47 59 49 45 56 42 43\n",
      " 44 50 50 55 50 53 54 53 63 57 55 51 47 60 46 44 53 40 58 52 42 52 50 42\n",
      " 46 54 49 51 45 42 55 49 52 57 55 57 61 47 48 45 42 46 55 54 47 51 58 44\n",
      " 45 51 55 56 44 43 55 40 57 54 47 52 61 50 50 58 50 45 45 49 59 58 55 47\n",
      " 49 39 47 46 50 51 55 44 59 44 49 58 45 46 50 61 52 53 55 49 45 48 41 47\n",
      " 45 48 53 47 51 51 53 52 45 48 41 61 50 48 43 48 56 47 50 47 50 53 55 45\n",
      " 41 44 40 58 60 54 53 46 52 50 37 49 52 60 51 51 49 43 52 50 51 54 52 48\n",
      " 49 43 49 48 45 56 53 51 46 50 52 50 62 48 48 45 41 52 53 52 49 41 41 48\n",
      " 51 51 56 60 43 48 54 50 54 56 43 42 47 55 47 51 51 49 39 53 42 49 50 54\n",
      " 39 45 54 53 42 52 47 52 44 47 45 52 49 55 46 45 48 53 45 52 49 51 57 51\n",
      " 50 40 42 42 45 50 54 51 51 49 50 49 51 39 57 44 54 42 54 51 50 44 55 49\n",
      " 41 50 43 62 49 54 49 52 45 56 48 52 46 56 45 50 54 49 51 50 51 51 55 55\n",
      " 44 56 45 51 52 54 42 50 50 60 51 47 55 54 49 46 50 49 49 54 49 42 51 48\n",
      " 51 49 54 54 57 53 53 42 53 57 54 46 52 51 47 42 52 49 44 48 46 51 52 48\n",
      " 54 52 50 49 51 44 39 46 54 55 47 53 49 43 51 44 48 55 49 50 47 49 48 52\n",
      " 55 49 46 54 54 48 54 46 50 51 49 54 47 44 53 52 54 49 53 49 54 51 50 53\n",
      " 39 50 44 53 57 46 50 47 46 51 48 52 43 55 52 54 54 47 53 54 43 54 49 47\n",
      " 44 48 40 55 47 46 48 51 41 43 52 55 53 45 50 48 54 48 51 48 51 52 59 54\n",
      " 49 49 53 43 48 45 47 57 45 50 50 53 42 42 50 48 58 44 54 43 45 53 49 48\n",
      " 43 49 52 53 54 50 49 55 45 49 53 50 53 46 48 40 48 54 61 50 50 48 43 50\n",
      " 48 49 40 46 49 46 50 50 59 53 49 41 48 54 52 64]\n"
     ]
    }
   ],
   "source": [
    "# Import Seaborn and Matplotlib for plotting\n",
    "import seaborn as sns\n",
    "import matplotlib.pyplot as plt\n",
    "\n",
    "n= 100\n",
    "p = .5\n",
    "\n",
    "# Set number of repetitions to 1000 to provide larger distribution\n",
    "s = np.random.binomial(n, p, 1000)\n",
    "\n",
    "print(s)"
   ]
  },
  {
   "cell_type": "code",
   "execution_count": 4,
   "metadata": {},
   "outputs": [
    {
     "data": {
      "text/plain": [
       "<matplotlib.axes._subplots.AxesSubplot at 0x1f9360b1340>"
      ]
     },
     "execution_count": 4,
     "metadata": {},
     "output_type": "execute_result"
    },
    {
     "data": {
      "image/png": "[encoded data removed]",
      "text/plain": [
       "<Figure size 432x288 with 1 Axes>"
      ]
     },
     "metadata": {
      "needs_background": "light"
     },
     "output_type": "display_data"
    }
   ],
   "source": [
    "# Graph on distplot using Seaborn\n",
    "sns.distplot(s)"
   ]
  },
  {
   "cell_type": "markdown",
   "metadata": {},
   "source": [
    "In the above example of 1000 experiments of 100 coin flips (with 50 percent probability of success) a normal ditribution is observed. The data is grouped around the 5 mark, with a gradual slope either side, indicating that the probabilty of outcomes decreases moving away from the centre. "
   ]
  },
  {
   "cell_type": "markdown",
   "metadata": {},
   "source": [
    "#### Using unmpy.equal() function to compare arrays\n",
    "\n",
    "It is necessary to count the number of heads out of 1000 experiements of a 100 coin flip trial. \n",
    "\n",
    "In order to do this it is necessary to use Numpy's equal() function to compare two arrays of equal length. \n",
    "\n",
    "The example below details how the equal() function compares two basic given arrays of equal length, to determine via the outpt of Boolean values if the corresponding elements from both lists are equal."
   ]
  },
  {
   "cell_type": "code",
   "execution_count": 5,
   "metadata": {},
   "outputs": [
    {
     "name": "stdout",
     "output_type": "stream",
     "text": [
      "[1, 2, 3, 4, 5, 6, 7, 8, 9, 10] \n",
      " [1, 2, 3, 4, 5, 6, 7, 80, 90, 100]\n",
      "[ True  True  True  True  True  True  True False False False]\n"
     ]
    }
   ],
   "source": [
    "array_1 = [1, 2, 3, 4, 5, 6, 7, 8, 9, 10]\n",
    "array_2 = [1, 2, 3, 4, 5, 6 ,7 ,80 ,90, 100]\n",
    "\n",
    "print(array_1, \"\\n\", array_2)\n",
    "\n",
    "print(np.equal(array_1, array_2))"
   ]
  },
  {
   "cell_type": "markdown",
   "metadata": {},
   "source": [
    "As the first 7 values in both arrays are the same, the first 7 Bools in the output are True.\n",
    "\n",
    "By using np.equal() in conjunction with the sum() function, we are presented with the output of a single integer, 7, rather than an array of Bools."
   ]
  },
  {
   "cell_type": "code",
   "execution_count": 6,
   "metadata": {},
   "outputs": [
    {
     "data": {
      "text/plain": [
       "7"
      ]
     },
     "execution_count": 6,
     "metadata": {},
     "output_type": "execute_result"
    }
   ],
   "source": [
    "np.equal(array_1, array_2).sum()"
   ]
  },
  {
   "cell_type": "markdown",
   "metadata": {},
   "source": [
    "This is because the sum() function will calculate the number of 'True' Boolean values between the two arrays and output this number."
   ]
  },
  {
   "cell_type": "markdown",
   "metadata": {},
   "source": [
    "#### Using numpy.equal to count the number of headsdddd\n",
    "\n",
    "We will now use apply this knowledge of the np.equal() function to the binomial function in order to calculate the number of True outcomes, i.e. heads values.\n",
    "\n",
    "The variable *s* (which has been asigned to the binomial function itself) will be compared with the variable *i*. The *i* variable will be compared against each element of the binomial function array and will be in the range of *n* (1-100).\n",
    "\n",
    "More specifically, this will create an element wise comparison between the product of the binomial function and the *i* variable, which will result in the number of heads in the 100 flips in the 1000 trials, being tallied.\n",
    "\n",
    "The code below produces an output array of 100 numbers, representing the amount of heads from each trial. Although it may not be clear, the total number of heads adds up to 1000, which represents the relationship between the variables *s* and *n*."
   ]
  },
  {
   "cell_type": "code",
   "execution_count": 7,
   "metadata": {},
   "outputs": [
    {
     "data": {
      "text/plain": [
       "[0,\n",
       " 0,\n",
       " 0,\n",
       " 0,\n",
       " 0,\n",
       " 0,\n",
       " 0,\n",
       " 0,\n",
       " 0,\n",
       " 0,\n",
       " 0,\n",
       " 0,\n",
       " 0,\n",
       " 0,\n",
       " 0,\n",
       " 0,\n",
       " 0,\n",
       " 0,\n",
       " 0,\n",
       " 0,\n",
       " 0,\n",
       " 0,\n",
       " 0,\n",
       " 0,\n",
       " 0,\n",
       " 0,\n",
       " 0,\n",
       " 0,\n",
       " 0,\n",
       " 0,\n",
       " 0,\n",
       " 0,\n",
       " 0,\n",
       " 0,\n",
       " 0,\n",
       " 1,\n",
       " 1,\n",
       " 2,\n",
       " 1,\n",
       " 9,\n",
       " 8,\n",
       " 20,\n",
       " 29,\n",
       " 32,\n",
       " 40,\n",
       " 47,\n",
       " 61,\n",
       " 63,\n",
       " 64,\n",
       " 87,\n",
       " 92,\n",
       " 83,\n",
       " 73,\n",
       " 70,\n",
       " 64,\n",
       " 43,\n",
       " 36,\n",
       " 23,\n",
       " 15,\n",
       " 12,\n",
       " 5,\n",
       " 9,\n",
       " 5,\n",
       " 1,\n",
       " 3,\n",
       " 0,\n",
       " 1,\n",
       " 0,\n",
       " 0,\n",
       " 0,\n",
       " 0,\n",
       " 0,\n",
       " 0,\n",
       " 0,\n",
       " 0,\n",
       " 0,\n",
       " 0,\n",
       " 0,\n",
       " 0,\n",
       " 0,\n",
       " 0,\n",
       " 0,\n",
       " 0,\n",
       " 0,\n",
       " 0,\n",
       " 0,\n",
       " 0,\n",
       " 0,\n",
       " 0,\n",
       " 0,\n",
       " 0,\n",
       " 0,\n",
       " 0,\n",
       " 0,\n",
       " 0,\n",
       " 0,\n",
       " 0,\n",
       " 0,\n",
       " 0,\n",
       " 0]"
      ]
     },
     "execution_count": 7,
     "metadata": {},
     "output_type": "execute_result"
    }
   ],
   "source": [
    "[np.equal(s,i).sum() for i in range(n)]"
   ]
  },
  {
   "cell_type": "markdown",
   "metadata": {},
   "source": [
    "##### Information on numpy.equal function found @ https://www.w3resource.com/python-exercises/numpy/basic/numpy-basic-exercise-11.php"
   ]
  },
  {
   "cell_type": "code",
   "execution_count": 15,
   "metadata": {},
   "outputs": [],
   "source": [
    "# Import Seaborn and Matplotlib for plotting\n",
    "import seaborn as sns\n",
    "import matplotlib.pyplot as plt\n",
    "\n",
    "n= 100\n",
    "p = .5\n",
    "\n",
    "# Set number of repetitions to 1000 to provide larger distribution\n",
    "s = np.random.binomial(n, p, 1000)\n",
    "\n",
    "result = [np.equal(s,i).sum() for i in range(n)]"
   ]
  },
  {
   "cell_type": "code",
   "execution_count": 17,
   "metadata": {},
   "outputs": [
    {
     "data": {
      "text/plain": [
       "<matplotlib.axes._subplots.AxesSubplot at 0x1f93b867b20>"
      ]
     },
     "execution_count": 17,
     "metadata": {},
     "output_type": "execute_result"
    },
    {
     "data": {
      "image/png": "[encoded data removed]",
      "text/plain": [
       "<Figure size 432x288 with 1 Axes>"
      ]
     },
     "metadata": {
      "needs_background": "light"
     },
     "output_type": "display_data"
    }
   ],
   "source": [
    "sns.distplot(result, bins=10)"
   ]
  },
  {
   "cell_type": "code",
   "execution_count": null,
   "metadata": {},
   "outputs": [],
   "source": []
  }
 ],
 "metadata": {
  "kernelspec": {
   "display_name": "Python 3",
   "language": "python",
   "name": "python3"
  },
  "language_info": {
   "codemirror_mode": {
    "name": "ipython",
    "version": 3
   },
   "file_extension": ".py",
   "mimetype": "text/x-python",
   "name": "python",
   "nbconvert_exporter": "python",
   "pygments_lexer": "ipython3",
   "version": "3.8.3"
  }
 },
 "nbformat": 4,
 "nbformat_minor": 4
}
