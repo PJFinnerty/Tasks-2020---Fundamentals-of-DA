{
 "cells": [
  {
   "cell_type": "code",
   "execution_count": 1,
   "metadata": {},
   "outputs": [],
   "source": [
    "import numpy as np\n",
    "import pandas as pd\n",
    "import matplotlib.pyplot as plt\n",
    "from matplotlib.pyplot import hist\n",
    "import seaborn as sns\n",
    "rng = np.random.default_rng(0)"
   ]
  },
  {
   "cell_type": "markdown",
   "metadata": {},
   "source": [
    "#### With Arrays Altered to Show Reversal of Trend Between Datasets"
   ]
  },
  {
   "cell_type": "code",
   "execution_count": 2,
   "metadata": {},
   "outputs": [
    {
     "data": {
      "image/png": "[encoded data removed]",
      "text/plain": [
       "<Figure size 432x288 with 1 Axes>"
      ]
     },
     "metadata": {
      "needs_background": "light"
     },
     "output_type": "display_data"
    }
   ],
   "source": [
    "rng = np.random.default_rng(0)\n",
    "x1 = np.linspace(1, 20, 100)\n",
    "y1 = 20 - x1\n",
    "x2 = np.linspace(40, 60, 100)\n",
    "y2 = 80 - x2\n",
    "x3 = np.linspace(60, 80, 100)\n",
    "y3 = 100 - x2\n",
    "x4 = np.linspace(80, 100, 100)\n",
    "y4 = 140 - x2\n",
    "plt.plot(x1, y1, x2, y2, x3, y3, x4, y4)\n",
    "plt.show()"
   ]
  },
  {
   "cell_type": "code",
   "execution_count": null,
   "metadata": {},
   "outputs": [],
   "source": []
  },
  {
   "cell_type": "markdown",
   "metadata": {},
   "source": [
    "#### With Permutation"
   ]
  },
  {
   "cell_type": "code",
   "execution_count": 3,
   "metadata": {},
   "outputs": [
    {
     "ename": "NameError",
     "evalue": "name 'x1_r' is not defined",
     "output_type": "error",
     "traceback": [
      "\u001b[1;31m---------------------------------------------------------------------------\u001b[0m",
      "\u001b[1;31mNameError\u001b[0m                                 Traceback (most recent call last)",
      "\u001b[1;32m<ipython-input-3-fc1ab900a1c6>\u001b[0m in \u001b[0;36m<module>\u001b[1;34m\u001b[0m\n\u001b[1;32m----> 1\u001b[1;33m \u001b[0mplt\u001b[0m\u001b[1;33m.\u001b[0m\u001b[0mscatter\u001b[0m\u001b[1;33m(\u001b[0m\u001b[0mx\u001b[0m\u001b[1;33m=\u001b[0m\u001b[0mx1_r\u001b[0m\u001b[1;33m,\u001b[0m \u001b[0my\u001b[0m\u001b[1;33m=\u001b[0m\u001b[0my1\u001b[0m\u001b[1;33m)\u001b[0m\u001b[1;33m\u001b[0m\u001b[1;33m\u001b[0m\u001b[0m\n\u001b[0m\u001b[0;32m      2\u001b[0m \u001b[0mplt\u001b[0m\u001b[1;33m.\u001b[0m\u001b[0mscatter\u001b[0m\u001b[1;33m(\u001b[0m\u001b[0mx\u001b[0m\u001b[1;33m=\u001b[0m\u001b[0mx2_r\u001b[0m\u001b[1;33m,\u001b[0m \u001b[0my\u001b[0m\u001b[1;33m=\u001b[0m\u001b[0my2\u001b[0m\u001b[1;33m)\u001b[0m\u001b[1;33m\u001b[0m\u001b[1;33m\u001b[0m\u001b[0m\n\u001b[0;32m      3\u001b[0m \u001b[0mplt\u001b[0m\u001b[1;33m.\u001b[0m\u001b[0mscatter\u001b[0m\u001b[1;33m(\u001b[0m\u001b[0mx\u001b[0m\u001b[1;33m=\u001b[0m\u001b[0mx3_r\u001b[0m\u001b[1;33m,\u001b[0m \u001b[0my\u001b[0m\u001b[1;33m=\u001b[0m\u001b[0my3\u001b[0m\u001b[1;33m)\u001b[0m\u001b[1;33m\u001b[0m\u001b[1;33m\u001b[0m\u001b[0m\n\u001b[0;32m      4\u001b[0m \u001b[0mplt\u001b[0m\u001b[1;33m.\u001b[0m\u001b[0mscatter\u001b[0m\u001b[1;33m(\u001b[0m\u001b[0mx\u001b[0m\u001b[1;33m=\u001b[0m\u001b[0mx4_r\u001b[0m\u001b[1;33m,\u001b[0m \u001b[0my\u001b[0m\u001b[1;33m=\u001b[0m\u001b[0my4\u001b[0m\u001b[1;33m)\u001b[0m\u001b[1;33m\u001b[0m\u001b[1;33m\u001b[0m\u001b[0m\n\u001b[0;32m      5\u001b[0m \u001b[0mplt\u001b[0m\u001b[1;33m.\u001b[0m\u001b[0mshow\u001b[0m\u001b[1;33m(\u001b[0m\u001b[1;33m)\u001b[0m\u001b[1;33m\u001b[0m\u001b[1;33m\u001b[0m\u001b[0m\n",
      "\u001b[1;31mNameError\u001b[0m: name 'x1_r' is not defined"
     ]
    }
   ],
   "source": [
    "plt.scatter(x=x1_r, y=y1)\n",
    "plt.scatter(x=x2_r, y=y2)\n",
    "plt.scatter(x=x3_r, y=y3)\n",
    "plt.scatter(x=x4_r, y=y4)\n",
    "plt.show()"
   ]
  },
  {
   "cell_type": "code",
   "execution_count": null,
   "metadata": {},
   "outputs": [],
   "source": [
    "plt.plot(x1_r, y1, x2_r, y2, x3_r, y3, x4_r, y4)\n",
    "plt.show()"
   ]
  },
  {
   "cell_type": "code",
   "execution_count": null,
   "metadata": {},
   "outputs": [],
   "source": [
    "df1 = pd.DataFrame({'x1_r': x1_r.ravel(), 'y1': y1.ravel()})\n",
    "df2 = pd.DataFrame({'x2_r': x2_r.ravel(), 'y2': y2.ravel()})\n",
    "df3 = pd.DataFrame({'x3_r': x3_r.ravel(), 'y3': y3.ravel()})\n",
    "df4 = pd.DataFrame({'x4_r': x4_r.ravel(), 'y4': y4.ravel()})"
   ]
  },
  {
   "cell_type": "code",
   "execution_count": null,
   "metadata": {},
   "outputs": [],
   "source": [
    "df1"
   ]
  },
  {
   "cell_type": "markdown",
   "metadata": {},
   "source": [
    "#### With Exponential Distribution"
   ]
  },
  {
   "cell_type": "code",
   "execution_count": null,
   "metadata": {},
   "outputs": [],
   "source": [
    "x1 = np.linspace(50, 70, 100)\n",
    "y1 = 120 - x4\n",
    "x2 = np.linspace(100, 120, 100)\n",
    "y2 = 170 - x4\n",
    "x3 = np.linspace(150, 170, 100)\n",
    "y3 = 220 - x4\n",
    "x4 = np.linspace(200, 220, 100)\n",
    "y4 = 270 - x4\n",
    "plt.plot(x1, y1, x2, y2, x3, y3, x4, y4)\n",
    "plt.show()"
   ]
  },
  {
   "cell_type": "code",
   "execution_count": null,
   "metadata": {},
   "outputs": [],
   "source": [
    "x1L = rng.exponential(x1)\n",
    "x2L = rng.exponential(x2)\n",
    "x3L = rng.exponential(x3)\n",
    "x4L = rng.exponential(x4)\n",
    "\n",
    "#dfl1 = pd.DataFrame(x1L)\n",
    "#dfl2 = pd.DataFrame(x2L)\n",
    "#dfl3 = pd.DataFrame(x3L)\n",
    "#dfl4 = pd.DataFrame(x4L)\n",
    "\n",
    "plt.scatter(x=x1L, y=y1)\n",
    "plt.scatter(x=x2L, y=y2)\n",
    "plt.scatter(x=x3L, y=y3)\n",
    "plt.scatter(x=x4L, y=y4)\n",
    "plt.show()"
   ]
  },
  {
   "cell_type": "code",
   "execution_count": null,
   "metadata": {},
   "outputs": [],
   "source": [
    "# histogram of the height - males and females\n",
    "\n",
    "df[df['Gender'] == 'Male'].Height.plot(kind='hist', color='blue', edgecolor='black', alpha=0.5, figsize=(10, 7))\n",
    "df[df['Gender'] == 'Female'].Height.plot(kind='hist', color='magenta', edgecolor='black', alpha=0.5, figsize=(10, 7))\n",
    "plt.legend(labels=['Males', 'Females'])\n",
    "plt.title('Distribution of Height', size=24)\n",
    "plt.xlabel('Height (inches)', size=18)\n",
    "plt.ylabel('Frequency', size=18);"
   ]
  },
  {
   "cell_type": "markdown",
   "metadata": {},
   "source": [
    "### Plotting Each Dataset as a Distribution"
   ]
  },
  {
   "cell_type": "code",
   "execution_count": null,
   "metadata": {},
   "outputs": [],
   "source": [
    "x1 = np.linspace(1, 20, 100)\n",
    "y1 = 20 - x1\n",
    "rng = np.random.default_rng()\n",
    "values = rng.poisson(x1)\n",
    "values2 = rng.poisson(y1)\n",
    "\n",
    "x2 = np.linspace(40, 60, 100)\n",
    "y2 = 60 - x2\n",
    "rng = np.random.default_rng()\n",
    "values3 = rng.uniform(x2)\n",
    "values4 = rng.uniform(y2)\n",
    "\n",
    "x3 = np.linspace(80, 100, 100)\n",
    "y3 = 100 - x2\n",
    "rng = np.random.default_rng()\n",
    "values5 = rng.rayleigh(x3)\n",
    "values6 = rng.rayleigh(y3)\n",
    "\n",
    "\n",
    "x4 = np.linspace(120, 140, 100)\n",
    "y4 = 140 - x2\n",
    "rng = np.random.default_rng()\n",
    "values7 = rng.rayleigh(x4)\n",
    "values8 = rng.rayleigh(y4)\n",
    "\n",
    "sns.scatterplot(x=values, y=values2)\n",
    "sns.scatterplot(x=values3, y=values4)\n",
    "sns.scatterplot(x=values5, y=values6)\n",
    "sns.scatterplot(x=values7, y=values8)\n"
   ]
  },
  {
   "cell_type": "code",
   "execution_count": null,
   "metadata": {},
   "outputs": [],
   "source": []
  }
 ],
 "metadata": {
  "kernelspec": {
   "display_name": "Python 3",
   "language": "python",
   "name": "python3"
  },
  "language_info": {
   "codemirror_mode": {
    "name": "ipython",
    "version": 3
   },
   "file_extension": ".py",
   "mimetype": "text/x-python",
   "name": "python",
   "nbconvert_exporter": "python",
   "pygments_lexer": "ipython3",
   "version": "3.8.3"
  }
 },
 "nbformat": 4,
 "nbformat_minor": 4
}
