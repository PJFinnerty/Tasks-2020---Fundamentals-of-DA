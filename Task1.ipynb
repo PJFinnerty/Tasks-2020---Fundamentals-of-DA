{
 "cells": [
  {
   "cell_type": "code",
   "execution_count": 6,
   "metadata": {},
   "outputs": [
    {
     "name": "stdout",
     "output_type": "stream",
     "text": [
      "Enter:\n"
     ]
    }
   ],
   "source": [
    "v = input(\"Enter:\")"
   ]
  },
  {
   "cell_type": "code",
   "execution_count": 7,
   "metadata": {},
   "outputs": [
    {
     "data": {
      "text/plain": [
       "{}"
      ]
     },
     "execution_count": 7,
     "metadata": {},
     "output_type": "execute_result"
    }
   ],
   "source": [
    "counts(v)"
   ]
  },
  {
   "cell_type": "code",
   "execution_count": 8,
   "metadata": {},
   "outputs": [
    {
     "name": "stdout",
     "output_type": "stream",
     "text": [
      "{'A': 5, 'B': 1, 'C': 2}\n"
     ]
    }
   ],
   "source": [
    "def counts(list_input): \n",
    "      \n",
    "   # Creating an empty dictionary  \n",
    "   empty_dict = {} \n",
    "   # Create a loop and incorporate dict.get() to traverse through each element of list and assign to dictionary\n",
    "   for i in list_input: \n",
    "    # Increase by 1 for each iteration.\n",
    "        empty_dict[i] = empty_dict.get(i, 0) + 1\n",
    "   return empty_dict \n",
    "  \n",
    "# Driver function \n",
    "if __name__ == \"__main__\":  \n",
    "    list_input = ['A', 'A', 'B', 'C', 'A', 'A', 'A', 'C'] \n",
    "    print(counts(list_input)) "
   ]
  },
  {
   "cell_type": "code",
   "execution_count": 9,
   "metadata": {},
   "outputs": [],
   "source": [
    "list_input = ['A', 'A', 'B', 'C', 'A'] "
   ]
  },
  {
   "cell_type": "code",
   "execution_count": 5,
   "metadata": {},
   "outputs": [
    {
     "data": {
      "text/plain": [
       "{'A': 3, 'B': 1, 'C': 1}"
      ]
     },
     "execution_count": 5,
     "metadata": {},
     "output_type": "execute_result"
    }
   ],
   "source": [
    "counts(list_input)"
   ]
  },
  {
   "cell_type": "code",
   "execution_count": null,
   "metadata": {},
   "outputs": [],
   "source": []
  }
 ],
 "metadata": {
  "kernelspec": {
   "display_name": "Python 3",
   "language": "python",
   "name": "python3"
  },
  "language_info": {
   "codemirror_mode": {
    "name": "ipython",
    "version": 3
   },
   "file_extension": ".py",
   "mimetype": "text/x-python",
   "name": "python",
   "nbconvert_exporter": "python",
   "pygments_lexer": "ipython3",
   "version": "3.8.3"
  }
 },
 "nbformat": 4,
 "nbformat_minor": 4
}
