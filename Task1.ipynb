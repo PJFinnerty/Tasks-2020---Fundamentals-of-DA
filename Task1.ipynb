{
 "cells": [
  {
   "cell_type": "markdown",
   "metadata": {},
   "source": [
    "## Peter Finnerty\n",
    "\n",
    "## Task 1: Taking a List as Input and Outputting a Dictionary\n",
    "\n",
    "#### October 5th, 2020: \n",
    "\n",
    "**Question:** Write a Python function called counts that takes a list as\n",
    "input and returns a dictionary of unique items in the list as keys and the number of\n",
    "times each item appears as values. \n",
    "\n",
    "* So, the input ['A', 'A', 'B', 'C', 'A'] should have output {'A': 3, 'B': 1, 'C': 1} . \n",
    "\n",
    "\n",
    "* Your code should not depend on any module from the standard library1 or otherwise. \n",
    "\n",
    "\n",
    "* You should research the task first and include a description with references of your algorithm in the notebook.\n"
   ]
  },
  {
   "cell_type": "markdown",
   "metadata": {},
   "source": [
    "-------------------------------------"
   ]
  },
  {
   "cell_type": "markdown",
   "metadata": {},
   "source": [
    "### 1.1. Components Necessary for the *counts()* Function\n",
    "\n",
    "The Task requires for the production of a function that takes a list as input and outputs a dictionary of key/value pairs of the elements/occurrences from the list. \n",
    "\n",
    "Achieving this will necessitate the use of a *for* loop, in order to iterate through each element of the list so that they can be translated into keys in a dictionary.\n",
    "\n",
    "Furthermore, the function will make use of a method Python has built-in for working with Dictionaries; the .get() method. This function will be used within the loop in order to get a key value for each element of the list and to count the number of each element incrementally moving throgh each element. \n",
    "\n",
    "Therefore, the *counts()* function will utilise 4 main components:\n",
    "\n",
    "<span style=\"color:blue\">**1. Lists**</span>\n",
    "\n",
    "<span style=\"color:blue\">**2. Dictionaries**</span>\n",
    "\n",
    "<span style=\"color:blue\">**3. For Loops**</span>\n",
    "\n",
    "<span style=\"color:blue\">**4. The .get() Method**</span>\n",
    "\n",
    "More understanding of each of these components is needed before the function can be created. Below is a description of each of these components and their role in achieving the objective of this task.\n",
    "\n",
    "### 1.2. Lists\n",
    "\n",
    "#### 1.2.1. Summary of Lists\n",
    "Lists are data structures within Python that the programming language interprets as objects. They are marked by the encapsulation of square brackets. Lists are just 1 of 4 datatypes used in Python to store multiple elements within a single variable. The others are tuples, sets and dictionaries.\n",
    "\n",
    "Below is a list of integers:"
   ]
  },
  {
   "cell_type": "code",
   "execution_count": 28,
   "metadata": {},
   "outputs": [
    {
     "name": "stdout",
     "output_type": "stream",
     "text": [
      "<class 'list'>\n"
     ]
    }
   ],
   "source": [
    "list_1 = [10, 23, 4, 54, 100034, 210, 6, 11]\n",
    "print(type(a))"
   ]
  },
  {
   "cell_type": "markdown",
   "metadata": {},
   "source": [
    "As can be in the output of the print/datatype functions above, lists are classified as the object 'list'. \n",
    "\n",
    "Python interprets lists as ordered datatypes - that is to say that the order in which one places the elements in a list will be remembered by Python as an intentional and fixed way of presenting the data. If one should add extra elements to a list using the append() method for example, these new elements will be added at the end of the list, i.e. the new variable will comprise of the original data ordering with an appendix of new elements at the end.\n",
    "\n",
    "Lists can contain any datatypes. Integers, Floats, Boolean values and Strings can all be used in lists together. Additionally an element of a list can actually be another list stored as a variable. This is seen below:"
   ]
  },
  {
   "cell_type": "code",
   "execution_count": 29,
   "metadata": {},
   "outputs": [
    {
     "name": "stdout",
     "output_type": "stream",
     "text": [
      "[5, True, 'Cat', 187.88478, ['Jack Russel', 'Labrador', 'Poodle']]\n"
     ]
    }
   ],
   "source": [
    "# Create variable for list of dog breeds\n",
    "dogs = [\"Jack Russel\", \"Labrador\", \"Poodle\"]\n",
    "\n",
    "# Create list that contains Int, Bool, String, Float and other list\n",
    "list_2 = [5, True, \"Cat\", 187.88478, dogs] \n",
    "print(list_2)"
   ]
  },
  {
   "cell_type": "markdown",
   "metadata": {},
   "source": [
    "#### Summary of lists: Reference: https://www.w3schools.com/python/python_lists_access.asp"
   ]
  },
  {
   "cell_type": "markdown",
   "metadata": {},
   "source": [
    "#### 1.2.2. List Mutability\n",
    "\n",
    "In contrast with Tuples, a datatype in Python demarcated by the encapsulation of round brackets, elements within lists can be changed. Lists are essential in Python for this reason. They are **mutable**, that is to say that the elements can be changed without assiging the list to a new variable. \n",
    "\n",
    "To alter elements within a list, indexing is utilised. As each element within a list is indexed, with the first element being assigned to **0** and subdequent elements incrementing by 1 index number, we can do a number of mutations that are useful within functions. This mutability means that lists are useful when we are using loops.\n",
    "\n",
    "Examining the simple loop below, we can see how the list_3 variable is altered by the **for loop**:"
   ]
  },
  {
   "cell_type": "code",
   "execution_count": 30,
   "metadata": {},
   "outputs": [
    {
     "name": "stdout",
     "output_type": "stream",
     "text": [
      "3\n",
      "5\n",
      "7\n",
      "9\n",
      "11\n"
     ]
    }
   ],
   "source": [
    "list_3 = [2, 4, 6, 8, 10]\n",
    "\n",
    "for i in list_3:\n",
    "    print(i + 1)"
   ]
  },
  {
   "cell_type": "markdown",
   "metadata": {},
   "source": [
    "The loop in the above example, iterates through each of the list elements, adding 1 to each 'i' that is present. The output shows that each even number present in the list, a number has been output that is 1 greater than this. \n",
    "\n",
    "Lists are presented as the input of the *counts()* function. Therefore, the function will need to operate of each element of the list - this will be achieved through the use of a loop as previously stated. This is perhaps the easier datatype to work with, when compared with lists."
   ]
  },
  {
   "cell_type": "markdown",
   "metadata": {},
   "source": [
    "----------------------------------------------"
   ]
  },
  {
   "cell_type": "markdown",
   "metadata": {},
   "source": [
    "### 1.2. Dictionaries\n",
    "\n",
    "#### 1.2.1. Summary of Dictionaries\n",
    "\n"
   ]
  },
  {
   "cell_type": "markdown",
   "metadata": {},
   "source": []
  },
  {
   "cell_type": "markdown",
   "metadata": {},
   "source": []
  },
  {
   "cell_type": "markdown",
   "metadata": {},
   "source": []
  },
  {
   "cell_type": "markdown",
   "metadata": {},
   "source": []
  },
  {
   "cell_type": "code",
   "execution_count": 31,
   "metadata": {},
   "outputs": [],
   "source": [
    "def counts(list_input): \n",
    "      \n",
    "   # Creating an empty dictionary  \n",
    "   empty_dict = {} \n",
    "   # Create a for loop and incorporate dict.get() to traverse through each element of list and assign to dictionary\n",
    "   for i in list_input: \n",
    "        \n",
    "    # Create a variable to get the number of each element in the input list. Use .get() method to \n",
    "    # pair up each input element (as a key) in the empty_dict variable with the number of occurrences (as the values).\n",
    "    # Increment by 1 to move through input list    \n",
    "        empty_dict[i] = empty_dict.get(i, 0) + 1\n",
    "        \n",
    "        # Return empty_dict to provide method to return dict of key, value pairs\n",
    "   return empty_dict \n",
    "  \n"
   ]
  },
  {
   "cell_type": "code",
   "execution_count": 27,
   "metadata": {},
   "outputs": [],
   "source": [
    "list_input = ['A', 'A', 'B', 'C', 'A'] "
   ]
  },
  {
   "cell_type": "code",
   "execution_count": 7,
   "metadata": {},
   "outputs": [
    {
     "data": {
      "text/plain": [
       "{'A': 3, 'B': 1, 'C': 1}"
      ]
     },
     "execution_count": 7,
     "metadata": {},
     "output_type": "execute_result"
    }
   ],
   "source": [
    "counts(list_input)"
   ]
  },
  {
   "cell_type": "code",
   "execution_count": null,
   "metadata": {},
   "outputs": [],
   "source": []
  }
 ],
 "metadata": {
  "kernelspec": {
   "display_name": "Python 3",
   "language": "python",
   "name": "python3"
  },
  "language_info": {
   "codemirror_mode": {
    "name": "ipython",
    "version": 3
   },
   "file_extension": ".py",
   "mimetype": "text/x-python",
   "name": "python",
   "nbconvert_exporter": "python",
   "pygments_lexer": "ipython3",
   "version": "3.8.3"
  }
 },
 "nbformat": 4,
 "nbformat_minor": 4
}
