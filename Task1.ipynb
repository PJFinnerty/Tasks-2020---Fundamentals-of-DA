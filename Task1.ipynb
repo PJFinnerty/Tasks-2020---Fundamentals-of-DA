{
 "cells": [
  {
   "cell_type": "code",
   "execution_count": 32,
   "metadata": {},
   "outputs": [
    {
     "name": "stdout",
     "output_type": "stream",
     "text": [
      "Enter a list:1 1 2 2 2 3 3\n"
     ]
    }
   ],
   "source": [
    "U = input(\"Enter a list:\")"
   ]
  },
  {
   "cell_type": "markdown",
   "metadata": {},
   "source": [
    "#### Reference: Python program to check if two to get unique values from list using traversal. Example found at ** https://www.geeksforgeeks.org/python-get-unique-values-list/ **"
   ]
  },
  {
   "cell_type": "code",
   "execution_count": 33,
   "metadata": {},
   "outputs": [],
   "source": [
    "# function to get unique values \n",
    "def unique(unique_list):\n",
    "        # intilize a null list \n",
    "    unique_list = U\n",
    "      # traverse for all elements \n",
    "    for x in unique_list: \n",
    "        # check if exists in unique_list or not \n",
    "        if x not in unique_list: \n",
    "            unique_list.append(x)\n",
    "    # print list \n",
    "    for x in unique_list: \n",
    "        print (x, )"
   ]
  },
  {
   "cell_type": "code",
   "execution_count": 35,
   "metadata": {},
   "outputs": [
    {
     "name": "stdout",
     "output_type": "stream",
     "text": [
      "the unique values from user input are:\n",
      "1\n",
      " \n",
      "1\n",
      " \n",
      "2\n",
      " \n",
      "2\n",
      " \n",
      "2\n",
      " \n",
      "3\n",
      " \n",
      "3\n"
     ]
    }
   ],
   "source": [
    "# driver code  \n",
    "print(\"the unique values from user input are:\") \n",
    "unique(U)"
   ]
  },
  {
   "cell_type": "code",
   "execution_count": 1,
   "metadata": {},
   "outputs": [
    {
     "name": "stdout",
     "output_type": "stream",
     "text": [
      "Enter a list:['A', 'A', 'B', 'C', 'A']\n",
      "{' ': 4, 'A': 3, 'C': 1, ',': 4, 'B': 1, ']': 1, '[': 1, \"'\": 10}\n"
     ]
    }
   ],
   "source": [
    "import string\n",
    "\n",
    "U = input(\"Enter a list:\")\n",
    "\n",
    "print(dict((x,U.count(x)) for x in set(U)) )"
   ]
  },
  {
   "cell_type": "code",
   "execution_count": null,
   "metadata": {},
   "outputs": [],
   "source": []
  }
 ],
 "metadata": {
  "kernelspec": {
   "display_name": "Python 3",
   "language": "python",
   "name": "python3"
  },
  "language_info": {
   "codemirror_mode": {
    "name": "ipython",
    "version": 3
   },
   "file_extension": ".py",
   "mimetype": "text/x-python",
   "name": "python",
   "nbconvert_exporter": "python",
   "pygments_lexer": "ipython3",
   "version": "3.8.3"
  }
 },
 "nbformat": 4,
 "nbformat_minor": 4
}
