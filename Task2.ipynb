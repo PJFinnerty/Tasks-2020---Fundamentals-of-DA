{
 "cells": [
  {
   "cell_type": "markdown",
   "metadata": {},
   "source": [
    "## Task 2: *dicerolls()*"
   ]
  },
  {
   "cell_type": "markdown",
   "metadata": {},
   "source": [
    "### **November 2nd, 2020:** \n",
    "\n",
    "**Write a Python function called dicerolls that simulates\n",
    "rolling dice.** \n",
    "\n",
    "* Your function should take two parameters: the number of dice k and the number of times to roll the dice n. The function should simulate randomly rolling k dice n times, keeping track of each total face value.\n",
    "\n",
    "\n",
    "* It should then return a dictionary with the number of times each possible total face value occurred. So, calling the function as diceroll(k=2, n=1000) should return a dictionary like: {2:19,3:50,4:82,5:112,6:135,7:174,8:133,9:114,10:75,11:70,12:36}\n",
    "\n",
    "\n",
    "* You can use any module from the Python standard library you wish and you should include a description with references of your algorithm in the notebook.\n"
   ]
  },
  {
   "cell_type": "markdown",
   "metadata": {},
   "source": [
    "### Use of the Choice Function From Numpy's Random Package\n",
    "\n",
    "The function created for Task 2 should utilise the Choice Function to generate random return values from *k* number of dice rolls *n* number of times. \n",
    "\n"
   ]
  },
  {
   "cell_type": "markdown",
   "metadata": {},
   "source": [
    "### The Necessary Components of the Function\n",
    "\n",
    "#### Parameters: *k, n* and *sides*\n",
    "\n",
    "The Function is required to contain two parameters, the number of dice to be rolled in the simulation (*k*) and the number of dice rolls in the simulation (*n*). The minimum number of dice that should be simulated is 2. There should be no limit on the number of rolls simulated.\n",
    "\n",
    "A third parameter will be required to correctly simulate dice rolls: the number of faces per die. Therefore, the third parameter will be a variable called *sides* that will be set at 6. \n",
    "\n",
    "The output of the function should produce a list of the total from the upturned face of the combined dice. This will provide for a minimum of two and a maximum of 12 for an input of two dice, for example. \n",
    "\n",
    "Additionaly, the output should provide the number of times out of the total rolls, *n*, where each possible dice result occurred. So if there are two dice and they are rolled 20 times, if the result of 2 occurrs once, the result of 3 occurs twice and the output of 4 occurs three times, the output should read: 2:1, 3:2, 4:3 ... and so on for each possible combinations. \n",
    "\n",
    "\n"
   ]
  },
  {
   "cell_type": "markdown",
   "metadata": {},
   "source": [
    "#### Dictionary\n",
    "\n",
    "Similar to the function created for Task 1, the *dicerolls* function should utilise a dictionary, in order to produce an output that will provide a dictionary return of key/value pairs (or *k's* and *n's*).\n",
    "\n",
    "This dictionary should be "
   ]
  },
  {
   "cell_type": "code",
   "execution_count": null,
   "metadata": {},
   "outputs": [],
   "source": [
    "import numpy as np\n",
    "rng = np.random.default_rng(0)"
   ]
  },
  {
   "cell_type": "code",
   "execution_count": 56,
   "metadata": {},
   "outputs": [],
   "source": [
    "import numpy as np\n",
    "rng = np.random.default_rng()\n",
    "\n",
    "def draft1_dicerolls(k, n):\n",
    "      \n",
    "# Creating a dict populated by the keys based on k*6 (6 sides of a dice)\n",
    "# for all possible combinations, e.g. 2 dice: 2 - 12:\n",
    "\n",
    "   # Set dict variable and iterate throgh combinations with for loop\n",
    "   draft_dict = {i : 0 for i in range(k, k*6 + 1)} \n",
    "   \n",
    "   # Create for loop to replicate multiple rolls, based on n\n",
    "   for i in range(n):\n",
    "   # Assign rolls to choice() method in the range k to k*6 + 1 to iterate though each possible combination\n",
    "        rolls = rng.choice(range(k, k*6 + 1)) \n",
    "      \n",
    "   # Populate the values of dict:\n",
    "\n",
    "        # Assign rolls as the values of the dict using square brackets\n",
    "        # Set to the .get method with the parameters rolls and k\n",
    "        # Add 1 to move through key/value pairs in dict\n",
    "        draft_dict[rolls] = draft_dict.get(rolls, k) + 1\n",
    "   \n",
    "   return draft_dict  "
   ]
  },
  {
   "cell_type": "code",
   "execution_count": 57,
   "metadata": {},
   "outputs": [
    {
     "name": "stdout",
     "output_type": "stream",
     "text": [
      "{2: 94, 3: 93, 4: 85, 5: 95, 6: 98, 7: 92, 8: 94, 9: 90, 10: 85, 11: 89, 12: 85}\n"
     ]
    }
   ],
   "source": [
    "print(draft1_dicerolls(2, 1000))"
   ]
  },
  {
   "cell_type": "code",
   "execution_count": 60,
   "metadata": {},
   "outputs": [],
   "source": [
    "def draft2_diceroll(k, n):\n",
    "    \n",
    "    # Populate the keys of dict variable based on k * 6 (number of sides)\n",
    "    # Iterate throgh combos with for loop \n",
    "    draft_dict2 = {i : 0 for i in range(k, k*6 + 1)}\n",
    "\n",
    "    # Create loop to replicate multiple rolls, n times\n",
    "    for p in range(n):\n",
    "        \n",
    "    # Populate the values of the dict:\n",
    "            \n",
    "            # Assign rolls to random.integer() method in range based on k\n",
    "            roll = rng.integers(k, k*6 + 1)\n",
    "            \n",
    "            # Access the values and add 1 to move through pairs in dict\n",
    "            draft_dict2[roll] = draft_dict2[roll] + 1\n",
    "\n",
    "    return draft_dict2"
   ]
  },
  {
   "cell_type": "code",
   "execution_count": 61,
   "metadata": {},
   "outputs": [
    {
     "name": "stdout",
     "output_type": "stream",
     "text": [
      "{2: 77, 3: 101, 4: 91, 5: 87, 6: 115, 7: 86, 8: 82, 9: 89, 10: 95, 11: 84, 12: 93}\n"
     ]
    }
   ],
   "source": [
    "print(draft2_diceroll(2, 1000))"
   ]
  },
  {
   "cell_type": "markdown",
   "metadata": {},
   "source": []
  },
  {
   "cell_type": "code",
   "execution_count": 73,
   "metadata": {},
   "outputs": [],
   "source": [
    "def dicerolls(k, n):\n",
    "    \n",
    "    # Assign rolls varible to random.integers(), subbing in n,k as size parameters:\n",
    "    # This will produce n amount of k dice combos as arrays\n",
    "    rolls = rng.integers(6, size = (n, k)) + 1\n",
    "    \n",
    "    # Create dict and populate using np.unique(), using return_counts=True parameter\n",
    "    # Populate the keys by using np.unique() and values with rolls.sum to count occurrences\n",
    "    dice = {n:i for n, i in zip(*np.unique(rolls.sum(1), return_counts = True))}\n",
    "    \n",
    "    return dice"
   ]
  },
  {
   "cell_type": "code",
   "execution_count": 75,
   "metadata": {},
   "outputs": [
    {
     "data": {
      "text/plain": [
       "{2: 2879,\n",
       " 3: 5432,\n",
       " 4: 8266,\n",
       " 5: 11086,\n",
       " 6: 13877,\n",
       " 7: 16740,\n",
       " 8: 13951,\n",
       " 9: 11129,\n",
       " 10: 8301,\n",
       " 11: 5561,\n",
       " 12: 2778}"
      ]
     },
     "execution_count": 75,
     "metadata": {},
     "output_type": "execute_result"
    }
   ],
   "source": [
    "dicerolls(2, 100000)"
   ]
  },
  {
   "cell_type": "markdown",
   "metadata": {},
   "source": [
    "-----------------------------------------------"
   ]
  },
  {
   "cell_type": "code",
   "execution_count": null,
   "metadata": {},
   "outputs": [],
   "source": []
  }
 ],
 "metadata": {
  "kernelspec": {
   "display_name": "Python 3",
   "language": "python",
   "name": "python3"
  },
  "language_info": {
   "codemirror_mode": {
    "name": "ipython",
    "version": 3
   },
   "file_extension": ".py",
   "mimetype": "text/x-python",
   "name": "python",
   "nbconvert_exporter": "python",
   "pygments_lexer": "ipython3",
   "version": "3.8.3"
  }
 },
 "nbformat": 4,
 "nbformat_minor": 4
}
