{
 "cells": [
  {
   "cell_type": "markdown",
   "metadata": {},
   "source": [
    "## Fundamentals of Data Analysis - Task 2"
   ]
  },
  {
   "cell_type": "markdown",
   "metadata": {},
   "source": [
    "**November 2nd, 2020: Write a Python function called dicerolls that simulates\n",
    "rolling dice.** \n",
    "* Your function should take two parameters: the number of dice k and the number of times to roll the dice n. The function should simulate randomly rolling k dice n times, keeping track of each total face value.\n",
    "* It should then return a dictionary with the number of times each possible total face value occurred. So, calling the function as diceroll(k=2, n=1000) should return a dictionary like: {2:19,3:50,4:82,5:112,6:135,7:174,8:133,9:114,10:75,11:70,12:36}\n",
    "* You can use any module from the Python standard library you wish and you should include a description with references of your algorithm in the notebook.\n"
   ]
  },
  {
   "cell_type": "markdown",
   "metadata": {},
   "source": [
    "#### Use of the Choice Function From Numpy's Random Package\n",
    "\n",
    "The function created for Task 2 should utilise the Choice Function to generate random return values from *k* number of dice rolls *n* number of times. \n",
    "\n"
   ]
  },
  {
   "cell_type": "markdown",
   "metadata": {},
   "source": [
    "### The Necessary Components of the Function\n",
    "\n",
    "#### Parameters: *k, n* and *sides*\n",
    "\n",
    "The Function is required to contain two parameters, the number of dice to be rolled in the simulation (*k*) and the number of dice rolls in the simulation (*n*). The minimum number of dice that should be simulated is 2. There should be no limit on the number of rolls simulated.\n",
    "\n",
    "A third parameter will be required to correctly simulate dice rolls: the number of faces per die. Therefore, the third parameter will be a variable called *sides* that will be set at 6. \n",
    "\n",
    "The output of the function should produce a list of the total from the upturned face of the combined dice. This will provide for a minimum of two and a maximum of 12 for an input of two dice, for example. \n",
    "\n",
    "Additionaly, the output should provide the number of times out of the total rolls, *n*, where each possible dice result occurred. So if there are two dice and they are rolled 20 times, if the result of 2 occurrs once, the result of 3 occurs twice and the output of 4 occurs three times, the output should read: 2:1, 3:2, 4:3 ... and so on for each possible combinations. \n",
    "\n",
    "\n"
   ]
  },
  {
   "cell_type": "markdown",
   "metadata": {},
   "source": [
    "#### Dictionary\n",
    "\n",
    "Similar to the function created for Task 1, the *dicerolls* function should utilise a dictionary, in order to produce an output that will provide a dictionary return of key/value pairs (or *k's* and *n's*).\n",
    "\n",
    "This dictionary should be "
   ]
  },
  {
   "cell_type": "code",
   "execution_count": 2,
   "metadata": {},
   "outputs": [
    {
     "name": "stdout",
     "output_type": "stream",
     "text": [
      "{0: 1, 1: 1, 2: 1, 3: 1, 4: 1, 5: 1, 6: 1, 7: 1, 8: 1, 9: 1, 10: 1, 11: 1, 12: 1}\n"
     ]
    }
   ],
   "source": [
    "def diceroll(dice_number, sides=6):\n",
    "      \n",
    "   # Creating an empty dictionary  \n",
    "   empty_dict = {} \n",
    "   # Create a loop and incorporate dict.get() to traverse through each element of list and assign to dictionary\n",
    "   for i in range(dice_number * sides + 1):\n",
    "    # Increase by 1 for each iteration.\n",
    "        empty_dict[i] = empty_dict.get(i, 0) + 1\n",
    "   return empty_dict \n",
    "  \n",
    "# Driver function \n",
    "if __name__ == \"__main__\":  \n",
    "    dice_number = 2\n",
    "    print(diceroll(dice_number)) "
   ]
  },
  {
   "cell_type": "code",
   "execution_count": null,
   "metadata": {},
   "outputs": [],
   "source": []
  },
  {
   "cell_type": "code",
   "execution_count": 3,
   "metadata": {},
   "outputs": [
    {
     "name": "stdout",
     "output_type": "stream",
     "text": [
      "{'A': 5, 'B': 1, 'C': 2}\n"
     ]
    }
   ],
   "source": [
    "def diceroll2(dice_number2):\n",
    "      \n",
    "   # Creating an empty dictionary  \n",
    "   empty_dict = {} \n",
    "   # Create a loop and incorporate dict.get() to traverse through each element of list and assign to dictionary\n",
    "   for i in dice_number2:\n",
    "    # Increase by 1 for each iteration.\n",
    "        empty_dict[i] = empty_dict.get(i, 0) + 1\n",
    "   return empty_dict \n",
    "  \n",
    "# Driver function \n",
    "if __name__ == \"__main__\":  \n",
    "    dice_number2= ['A', 'A', 'B', 'C', 'A', 'A', 'A', 'C'] \n",
    "    print(diceroll2(dice_number2))"
   ]
  },
  {
   "cell_type": "markdown",
   "metadata": {},
   "source": [
    "\n"
   ]
  },
  {
   "cell_type": "markdown",
   "metadata": {},
   "source": [
    "### Example 1:"
   ]
  },
  {
   "cell_type": "code",
   "execution_count": null,
   "metadata": {},
   "outputs": [],
   "source": [
    "# Python3 program explaining work \n",
    "# of randint() function \n",
    "  \n",
    "# imports random module \n",
    "import random \n",
    "  \n",
    "# Generates a random number between \n",
    "# a given positive range \n",
    "r1 = random.randint(0, 10) \n",
    "print(\"Random number between 0 and 10 is % s\" % (r1)) \n",
    "  \n",
    "# Generates a random number between  \n",
    "# two given negative range \n",
    "r2 = random.randint(-10, -1) \n",
    "print(\"Random number between -10 and -1 is % d\" % (r2)) \n",
    "  \n",
    "# Generates a random number between  \n",
    "# a positive and a negative range \n",
    "r3 = random.randint(-5, 5) \n",
    "print(\"Random number between -5 and 5 is % d\" % (r3)) "
   ]
  }
 ],
 "metadata": {
  "kernelspec": {
   "display_name": "Python 3",
   "language": "python",
   "name": "python3"
  },
  "language_info": {
   "codemirror_mode": {
    "name": "ipython",
    "version": 3
   },
   "file_extension": ".py",
   "mimetype": "text/x-python",
   "name": "python",
   "nbconvert_exporter": "python",
   "pygments_lexer": "ipython3",
   "version": "3.8.3"
  }
 },
 "nbformat": 4,
 "nbformat_minor": 4
}
