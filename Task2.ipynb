{
 "cells": [
  {
   "cell_type": "markdown",
   "metadata": {},
   "source": [
    "## 2. Task 2: *dicerolls()*"
   ]
  },
  {
   "cell_type": "markdown",
   "metadata": {},
   "source": [
    "### **November 2nd, 2020:** \n",
    "\n",
    "**Write a Python function called dicerolls that simulates\n",
    "rolling dice.** \n",
    "\n",
    "* Your function should take two parameters: the number of dice k and the number of times to roll the dice n. The function should simulate randomly rolling k dice n times, keeping track of each total face value.\n",
    "\n",
    "\n",
    "* It should then return a dictionary with the number of times each possible total face value occurred. So, calling the function as diceroll(k=2, n=1000) should return a dictionary like: {2:19,3:50,4:82,5:112,6:135,7:174,8:133,9:114,10:75,11:70,12:36}\n",
    "\n",
    "\n",
    "* You can use any module from the Python standard library you wish and you should include a description with references of your algorithm in the notebook.\n"
   ]
  },
  {
   "cell_type": "markdown",
   "metadata": {},
   "source": [
    "------------------------"
   ]
  },
  {
   "cell_type": "markdown",
   "metadata": {},
   "source": [
    "### 2.1. The Necessary Components of the Function\n",
    "\n",
    "#### Parameters: *k, n* and *sides*\n",
    "\n",
    "The Function is required to contain two parameters, the number of dice to be rolled in the simulation (*k*) and the number of dice rolls in the simulation (*n*). The minimum number of dice that should be simulated is 2. There should be no limit on the number of rolls simulated.\n",
    "\n",
    "In addition to this the k value will be multiplied by 6 within the function to account for the 6 sides and combinations of a single die. \n",
    "\n",
    "#### Dictionary\n",
    "\n",
    "Similar to the function created for Task 1, the *dicerolls* function should utilise a dictionary, in order to produce an output that will provide a dictionary return of key/value pairs (or *k's* and *n's*).\n",
    "\n",
    "Therefore, the keys in the dictionary should be the unique combinations of dice, e.g. for 2 dice the keys will be 2-12 inclusive. \n",
    "\n",
    "The values should provide the number of times out of the total rolls, *n*, where each possible dice result occurred. So if there are two dice and they are rolled 20 times, if the result of 2 occurrs once, the result of 3 occurs twice and the output of 4 occurs three times, the output should read: 2:1, 3:2, 4:3 ... and so on for each possible combinations. These numbers will function as the values in the dictionary pairs.\n",
    "\n",
    "#### Numpy's Random Module\n",
    "\n",
    "In contrast to Task 1, Task 2 requires the creation of a function that can simulate the 'randomness' of rolling dice. As such it is necessary to create random numbers. To do this, we will use the numpy.random package. This package includes various method for the simulation of pseudo-random numbers. As there are a few different Numpy methods that can be used in the creation of the *dicerolls()* function, we will investigate two to determine which is most effective: *choice()* and *integers()*."
   ]
  },
  {
   "cell_type": "markdown",
   "metadata": {},
   "source": [
    "------------------"
   ]
  },
  {
   "cell_type": "markdown",
   "metadata": {},
   "source": [
    "### 2.2. The Distribution of the Outcomes of Rolled Dice\n",
    "\n",
    "It may seem intuitive that the probabilities for each combination of dice roll, remain the same regardless of how many dice are being rolled. The assumed probability is the Uniform distribution, whereby, each combination are equally as likely to happen.\n",
    "\n",
    "However, this is only true when a single die is being rolled. As a single die produces a single result ranging from 1-6 inclusive, every possibile outcome is equally possible. If the die is rolled 1000 times, the distribution of the outcomes is even, the same as the probability of a single die is even. This places a the outcomes of a single die rolled repeatedy in the Uniform Distribution.\n",
    "\n",
    "When more than one die are rolled, for example 2 dice and the sum of the outcomes for each combination is graphed, we will be presented with a distribution that resembles the Gaussian Distribution. A bell shaped curve, where the peak is at the combination of 7. For the other outcomes getting closer to 1 or to 12, the probability decreases steadily. \n",
    "\n",
    "This is due to the fact that there are more outcomes from rolling two dice that result in 7 than any other outcome.\n",
    "\n",
    "The table below illustrates the potential outcomes of rolling 2 dice, one after the other. The diagonal line from the top right to the bottom left contains 6 outcomes, each of which result in 7 (note: this table represents a dice being rolled twice repeatedly and therefore includes the reverse outcomes, e.g. 3 and 4 / 4 and 3). "
   ]
  },
  {
   "cell_type": "markdown",
   "metadata": {},
   "source": [
    "|        |       |         |         |        |           |\n",
    "| ---    | ---   | ---     | ---     | ---    | ---       |   \n",
    "|  (1,1)  |\t   (1,2)\t| (1,3)  |  (1,4) |   (1,5)   |**(1,6)**|\n",
    "|  (2,1)  |\t   (2,2)\t| (2,3)\t|  (2,4)   |**(2,5)**  |\t (2,6)|\n",
    "|  (3,1)  |\t   (3,2)\t| (3,3) | **(3,4)** | (3,5)    | (3,6)|\n",
    "|  (4,1)   |   (4,2)  | **(4,3)** | (4,4)\t |  (4,5)  |\t (4,6)|\n",
    "|  (5,1)  |\t **(5,2)** | (5,3)\t|  (5,4)\t  | (5,5)  |\t (5,6)|\n",
    "|**(6,1)** | (6,2)\t |   (6,3)\t | (6,4)\t  | (6,5)  | (6,6)|"
   ]
  },
  {
   "cell_type": "markdown",
   "metadata": {},
   "source": [
    "Although the distributions of outcomes from simulations with 2 or more dice resemble the Gaussian Distribution, it is not technically correct to assume this. The outcomes of dice are discrete distributions, that is to say the outcomes are distinct and non-overlapping. When you roll dice you might get 7, but you cannot roll a 7.5. The Gaussian Distribution on the other hand is a Continuous Distribution\n",
    ", it is more correct to identify dice outcomes as being in the Binomial Ditribution. \n",
    "\n",
    "The Binomial Distribution for a random variable is one where is where there are two possible outcomes, 'success' or 'failure' for a finite number of 'trials'. 'Success' and 'failure' must be mutually exclusive, i.e. they cannot occur at the same time. Furthemore, each trial must be independent of the last, that is to say that the rolling of 2 dice in Trial A, does not affect the outcomes from Trial B.\n",
    "\n",
    "The *dicerolls()* function will be keeping track of each outcome from each 'trial' and although, we are not using the 'success'/'failure' lens to understand out function, essentially this is what each simulated roll will achieve. \n",
    "\n",
    "Another key feature of dice rolls that situates the outcomes within the Binomial distribution is that the shape of the distribution will change depending on *n*, the number of dice. The higher *n* is, the more flat the distribution will be.  \n",
    "\n",
    "The image below demonstrates the shape of the distributions from n=1, n=5. Notice the uniform shape of the graph of n=1 and the flattening of the curve as *n* increases: "
   ]
  },
  {
   "cell_type": "markdown",
   "metadata": {},
   "source": [
    "<img src=\"https://cf.geekdo-images.com/camo/e8895fa4525ec79fd845fbf21c49b2b24580f1af/687474703a2f2f75706c6f61642e77696b696d656469612e6f72672f77696b6970656469612f636f6d6d6f6e732f7468756d622f382f38632f446963655f73756d5f63656e7472616c5f6c696d69745f7468656f72656d2e7376672f35303070782d446963655f73756d5f63656e7472616c5f6c696d69745f7468656f72656d2e7376672e706e67\" alt=\"Drawing\" style=\"width: 650px;\"/>\n",
    "\n",
    "*image from boardgamegeek.com*"
   ]
  },
  {
   "cell_type": "markdown",
   "metadata": {},
   "source": [
    "#### The Distribution of *dicerolls()*\n",
    "\n",
    "With this knowledge of the Binomial distribution in mind, it is clear that the dictionary returns from the *dicerolls()* function, must show a higher occurence for the numbers that exhibit more combinations. I.e. for two dice, the key for 7 should contain a higher value than 1 or 12."
   ]
  },
  {
   "cell_type": "markdown",
   "metadata": {},
   "source": [
    "#### Reference: https://people.richland.edu/james/lecture/m113/binomial.html\n",
    "\n",
    "#### Reference: https://www.investopedia.com/terms/d/discrete-distribution.asp#:~:text=A%20discrete%20distribution%20is%20a,%2C%202%2C%203...&text=Overall%2C%20the%20concepts%20of%20discrete,probability%20theory%20and%20statistical%20analysis.\n",
    "\n",
    "#### Reference: https://magoosh.com/statistics/understanding-binomial-distribution/#:~:text=Lastly%2C%20the%20binomial%20distribution%20is,you%20cannot%20roll%20a%203.5."
   ]
  },
  {
   "cell_type": "markdown",
   "metadata": {},
   "source": [
    "-------------------------"
   ]
  },
  {
   "cell_type": "markdown",
   "metadata": {},
   "source": [
    "### 2.3. The Draft Functions\n",
    "\n",
    "Rather than simply presenting the final function, I have decided to show the evolution of the function, beginning with the *counts()* function and demonstrating how this can be altered until we have a function capable of simulating rolling dice. I have therefore included the *counts()* and *draft_dicerolls()* function below."
   ]
  },
  {
   "cell_type": "code",
   "execution_count": 1,
   "metadata": {},
   "outputs": [],
   "source": [
    "# Import numpy and set the rng constructor to seed value 0\n",
    "\n",
    "import numpy as np\n",
    "rng = np.random.default_rng(0)"
   ]
  },
  {
   "cell_type": "markdown",
   "metadata": {},
   "source": [
    "#### The counts() Function\n",
    "\n",
    "The *counts()* function made use of the .get() method to take a list as input and use the elements to populate a dictionary of key/value pairs. The dictionary was initialised as empty, in order for it to be populated by a number of statements within a for loop."
   ]
  },
  {
   "cell_type": "code",
   "execution_count": 2,
   "metadata": {},
   "outputs": [],
   "source": [
    "def counts(list_input): \n",
    "      \n",
    "   # Creating an empty dictionary  \n",
    "   empty_dict = {} \n",
    "   # Create a for loop to traverse through each element of list\n",
    "   for i in list_input: \n",
    "        \n",
    "    # Create a variable to get the number of each element in the input list. Use .get() method to \n",
    "    # pair up each input element (as a key) in the empty_dict variable with the number of occurrences (as the values).\n",
    "    # Increment by 1 to move through input list    \n",
    "        empty_dict[i] = empty_dict.get(i, 0) + 1\n",
    "        \n",
    "        # Return empty_dict to provide method to return dict of key, value pairs\n",
    "   return empty_dict "
   ]
  },
  {
   "cell_type": "markdown",
   "metadata": {},
   "source": [
    "#### Random Number Generation\n",
    "\n",
    "Task 2 requires the generation of pseudo-random numbers to achieve the simulation of rolling dice.\n",
    "\n",
    "The chosen random generator for this task, is Numpy's Random *integers()* function. This function generates random integers with the parameters low, high and size. \n",
    "\n",
    "In our function, the low will be set as the value of k, the high will be the value of k * 6 + 1. This will call on *integers()* to produce in the range of 2-12 (if there are 2 dices in the simulation).\n",
    "\n",
    "Below is a simple example of the integers function creating 20 random numbers in this range:"
   ]
  },
  {
   "cell_type": "code",
   "execution_count": 3,
   "metadata": {},
   "outputs": [
    {
     "data": {
      "text/plain": [
       "array([11,  9,  7,  4,  5,  2,  2,  2,  3, 10,  9, 12,  7,  8, 12, 10,  8,\n",
       "        7,  8, 12], dtype=int64)"
      ]
     },
     "execution_count": 3,
     "metadata": {},
     "output_type": "execute_result"
    }
   ],
   "source": [
    "rng.integers(2, 13, 20)"
   ]
  },
  {
   "cell_type": "markdown",
   "metadata": {},
   "source": [
    "With this in mind, below is the *draft_dicerolls()* function that contains a statement to create random integers."
   ]
  },
  {
   "cell_type": "markdown",
   "metadata": {},
   "source": [
    "#### draft_dicerolls()"
   ]
  },
  {
   "cell_type": "code",
   "execution_count": 4,
   "metadata": {},
   "outputs": [],
   "source": [
    "def draft_diceroll(k, n):\n",
    "    \n",
    "    # Populate the keys of dict variable based on k * 6 (number of sides)\n",
    "    # Iterate throgh combos with for loop \n",
    "    draft_dict = {i : 0 for i in range(k, k*6 + 1)}\n",
    "\n",
    "    # Create loop to replicate multiple rolls, n times\n",
    "    for p in range(n):\n",
    "        \n",
    "    # Populate the values of the dict:\n",
    "            \n",
    "            # Assign rolls to random.integer() method in range based on k\n",
    "            roll = rng.integers(k, k*6 + 1)\n",
    "            \n",
    "            # Access the values and add 1 to move through pairs in dict\n",
    "            draft_dict[roll] = draft_dict[roll] + 1\n",
    "\n",
    "    return draft_dict"
   ]
  },
  {
   "cell_type": "code",
   "execution_count": 5,
   "metadata": {},
   "outputs": [
    {
     "name": "stdout",
     "output_type": "stream",
     "text": [
      "{2: 960, 3: 898, 4: 873, 5: 927, 6: 890, 7: 863, 8: 937, 9: 925, 10: 875, 11: 927, 12: 925}\n"
     ]
    }
   ],
   "source": [
    "print(draft_diceroll(2, 10000))"
   ]
  },
  {
   "cell_type": "markdown",
   "metadata": {},
   "source": [
    "As can be seen, the draft function has succeeded in simulating a range of combinations from 2 - 12 and the occurences of each combination. They have successfully been output as key value pairs.\n",
    "\n",
    "However, looking at the values in the dictionary pairs, it is clear that the function is producing values in the Uniform Distribution, not the Binomial Distribution. So this is not an adequate simulation of rolling dice."
   ]
  },
  {
   "cell_type": "markdown",
   "metadata": {},
   "source": [
    "--------------------------------"
   ]
  },
  {
   "cell_type": "markdown",
   "metadata": {},
   "source": [
    "### 2.4. Description of dicerolls() Code"
   ]
  },
  {
   "cell_type": "markdown",
   "metadata": {},
   "source": [
    "By populating the dictionary at the end of the function, following the production of random combinations with the *integers()* function, we can create a dictionary output that reflects the Binomial Distribution."
   ]
  },
  {
   "cell_type": "markdown",
   "metadata": {},
   "source": [
    "The *rolls* variable is first assigned to the *integers()* function and the parameters set to **1-6(range)**, **size=(n,k)** and **+ 1** to ensure that 0 is not returned."
   ]
  },
  {
   "cell_type": "code",
   "execution_count": 6,
   "metadata": {},
   "outputs": [],
   "source": [
    "K = 2\n",
    "N = 3\n",
    "example_rolls = rng.integers(6, size = (N, K)) + 1"
   ]
  },
  {
   "cell_type": "markdown",
   "metadata": {},
   "source": [
    "Printing this variable will then present us with *n* number of arrays, each with *k* number of elements, with each element having a range of 1-6. "
   ]
  },
  {
   "cell_type": "code",
   "execution_count": 7,
   "metadata": {},
   "outputs": [
    {
     "name": "stdout",
     "output_type": "stream",
     "text": [
      "[[5 6]\n",
      " [4 4]\n",
      " [4 4]]\n"
     ]
    }
   ],
   "source": [
    "print(example_rolls)"
   ]
  },
  {
   "cell_type": "markdown",
   "metadata": {},
   "source": [
    "As we now have the simulated combinations for the rolled dice, it is now necessary to pass these values into a dictionary. First we must create a loop to iterate through the dictionary using the structure of **{n:i for n, i in...}**. \n",
    "\n",
    "As an example below, I have populated a dictionary with the *example_rolls* variable, where the keys are the unique numbers and the values are the number of times these numbers appear:"
   ]
  },
  {
   "cell_type": "code",
   "execution_count": 8,
   "metadata": {},
   "outputs": [
    {
     "name": "stdout",
     "output_type": "stream",
     "text": [
      "{5: 6, 4: 4}\n"
     ]
    }
   ],
   "source": [
    "example_dict = {n:i for n, i in example_rolls}\n",
    "print(example_dict)"
   ]
  },
  {
   "cell_type": "markdown",
   "metadata": {},
   "source": [
    "In the *dicerolls()* function however, the keys will be a range from *k* to *k* * 6 + 1 (1-12 for *k*=2). We will use Numpy's *unique()* function to achieve this."
   ]
  },
  {
   "cell_type": "markdown",
   "metadata": {},
   "source": [
    "We must then place the *unique()* function inside the *.zip()* function. This takes iterables as objects and passes out an iterator. \n",
    "\n",
    "Now that we have described the individual elements of the function, it is time to put it together."
   ]
  },
  {
   "cell_type": "markdown",
   "metadata": {},
   "source": [
    "#### Reference: https://realpython.com/python-zip-function/#:~:text=Python's%20zip()%20function%20is,%2C%20sets%2C%20and%20so%20on."
   ]
  },
  {
   "cell_type": "markdown",
   "metadata": {},
   "source": [
    "---------------------------------------"
   ]
  },
  {
   "cell_type": "markdown",
   "metadata": {},
   "source": [
    "### 2.5. dicerolls()"
   ]
  },
  {
   "cell_type": "code",
   "execution_count": 9,
   "metadata": {},
   "outputs": [],
   "source": [
    "def dicerolls(k, n):\n",
    "    \n",
    "    # Assign rolls varible to random.integers(), subbing in n,k as size parameters:\n",
    "    # This will produce n amount of k dice combos as arrays\n",
    "    rolls = rng.integers(6, size = (n, k)) + 1\n",
    "    \n",
    "    # Create dict and populate using np.unique(), using return_counts=True parameter\n",
    "    # Populate the keys by using np.unique() and values with rolls.sum to count occurrences\n",
    "    dice = {n:i for n, i in zip(*np.unique(rolls.sum(1), return_counts = True))}\n",
    "    \n",
    "    return dice"
   ]
  },
  {
   "cell_type": "code",
   "execution_count": 10,
   "metadata": {},
   "outputs": [
    {
     "data": {
      "text/plain": [
       "{3: 10,\n",
       " 4: 15,\n",
       " 5: 25,\n",
       " 6: 40,\n",
       " 7: 65,\n",
       " 8: 118,\n",
       " 9: 92,\n",
       " 10: 122,\n",
       " 11: 137,\n",
       " 12: 114,\n",
       " 13: 113,\n",
       " 14: 59,\n",
       " 15: 48,\n",
       " 16: 29,\n",
       " 17: 11,\n",
       " 18: 2}"
      ]
     },
     "execution_count": 10,
     "metadata": {},
     "output_type": "execute_result"
    }
   ],
   "source": [
    "dicerolls(3, 1000)"
   ]
  },
  {
   "cell_type": "markdown",
   "metadata": {},
   "source": [
    "As can be seen, the values in the dictionary output exhibit the Binomial distribution."
   ]
  },
  {
   "cell_type": "markdown",
   "metadata": {},
   "source": [
    "--------------------------------"
   ]
  }
 ],
 "metadata": {
  "kernelspec": {
   "display_name": "Python 3",
   "language": "python",
   "name": "python3"
  },
  "language_info": {
   "codemirror_mode": {
    "name": "ipython",
    "version": 3
   },
   "file_extension": ".py",
   "mimetype": "text/x-python",
   "name": "python",
   "nbconvert_exporter": "python",
   "pygments_lexer": "ipython3",
   "version": "3.8.3"
  }
 },
 "nbformat": 4,
 "nbformat_minor": 4
}
