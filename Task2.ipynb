{
 "cells": [
  {
   "cell_type": "markdown",
   "metadata": {},
   "source": [
    "## Fundamentals of Data Analysis - Task 2"
   ]
  },
  {
   "cell_type": "markdown",
   "metadata": {},
   "source": [
    "**November 2nd, 2020: Write a Python function called dicerolls that simulates\n",
    "rolling dice.** \n",
    "* Your function should take two parameters: the number of dice k and the number of times to roll the dice n. The function should simulate randomly rolling k dice n times, keeping track of each total face value.\n",
    "* It should then return a dictionary with the number of times each possible total face value occurred. So, calling the function as diceroll(k=2, n=1000) should return a dictionary like: {2:19,3:50,4:82,5:112,6:135,7:174,8:133,9:114,10:75,11:70,12:36}\n",
    "* You can use any module from the Python standard library you wish and you should include a description with references of your algorithm in the notebook.\n"
   ]
  },
  {
   "cell_type": "code",
   "execution_count": null,
   "metadata": {},
   "outputs": [],
   "source": [
    "def diceroll(list_input): \n",
    "      \n",
    "   # Creating an empty dictionary  \n",
    "   empty_dict = {} \n",
    "   # Create a loop and incorporate dict.get() to traverse through each element of list and assign to dictionary\n",
    "   for i in list_input: \n",
    "    # Increase by 1 for each iteration.\n",
    "        empty_dict[i] = empty_dict.get(i, 0) + 1\n",
    "   return empty_dict \n",
    "  \n",
    "# Driver function \n",
    "if __name__ == \"__main__\":  \n",
    "    list_input = ['A', 'A', 'B', 'C', 'A', 'A', 'A', 'C'] \n",
    "    print(counts(list_input)) "
   ]
  },
  {
   "cell_type": "code",
   "execution_count": null,
   "metadata": {},
   "outputs": [],
   "source": [
    "import random"
   ]
  },
  {
   "cell_type": "code",
   "execution_count": null,
   "metadata": {},
   "outputs": [],
   "source": [
    "for i in range(20):\n",
    "    print(random.randint(2, 12))"
   ]
  },
  {
   "cell_type": "markdown",
   "metadata": {},
   "source": [
    "ref: https://www.youtube.com/watch?v=zWL3z7NMqAs"
   ]
  },
  {
   "cell_type": "markdown",
   "metadata": {},
   "source": [
    "ref: https://www.youtube.com/watch?v=boG9jqXHWG0 - how to use randint\n"
   ]
  },
  {
   "cell_type": "markdown",
   "metadata": {},
   "source": [
    "## randint() Function in Python\n",
    "\n",
    "### Reference: https://www.geeksforgeeks.org/python-randint-function/#:~:text=randint()%20is%20an%20inbuilt,numbers%2C%20which%20is%20randint().&text=Parameters%20%3A,must%20be%20integer%20type%20values.\n",
    "\n",
    "randint() is an inbuilt function of the random module in Python3. The random module gives access to various useful functions and one of them being able to generate random numbers, which is randint()."
   ]
  },
  {
   "cell_type": "markdown",
   "metadata": {},
   "source": [
    "**Syntax:**\n",
    "\n",
    "randint(start, end)\n",
    "\n",
    "**Parameters:**\n",
    "\n",
    "(start, end) : Both of them must be integer type values.\n",
    "\n",
    "**Returns :**\n",
    "\n",
    "A random integer in range [start, end] including the end points.\n",
    "\n",
    "**Errors and Exceptions:**\n",
    "\n",
    "**ValueError :** Returns a ValueError when floating\n",
    "             point values are passed as parameters.\n",
    "\n",
    "**TypeError :** Returns a TypeError when anything other than \n",
    "            numeric values are passed as parameters."
   ]
  },
  {
   "cell_type": "markdown",
   "metadata": {},
   "source": [
    "### Example 1:"
   ]
  },
  {
   "cell_type": "code",
   "execution_count": null,
   "metadata": {},
   "outputs": [],
   "source": [
    "# Python3 program explaining work \n",
    "# of randint() function \n",
    "  \n",
    "# imports random module \n",
    "import random \n",
    "  \n",
    "# Generates a random number between \n",
    "# a given positive range \n",
    "r1 = random.randint(0, 10) \n",
    "print(\"Random number between 0 and 10 is % s\" % (r1)) \n",
    "  \n",
    "# Generates a random number between  \n",
    "# two given negative range \n",
    "r2 = random.randint(-10, -1) \n",
    "print(\"Random number between -10 and -1 is % d\" % (r2)) \n",
    "  \n",
    "# Generates a random number between  \n",
    "# a positive and a negative range \n",
    "r3 = random.randint(-5, 5) \n",
    "print(\"Random number between -5 and 5 is % d\" % (r3)) "
   ]
  },
  {
   "cell_type": "markdown",
   "metadata": {},
   "source": [
    "### Example 2: Prgram demonstating the ValueError"
   ]
  },
  {
   "cell_type": "code",
   "execution_count": null,
   "metadata": {},
   "outputs": [],
   "source": [
    "# imports random module \n",
    "import random \n",
    "  \n",
    "'''If we pass floating point values as \n",
    "parameters in the randint() function'''\n",
    "  \n",
    "r1 = random.randint(1.23, 9.34) \n",
    "print(r1)"
   ]
  },
  {
   "cell_type": "markdown",
   "metadata": {},
   "source": [
    "### Example 3: Program demonstrating the TypeError"
   ]
  },
  {
   "cell_type": "code",
   "execution_count": null,
   "metadata": {},
   "outputs": [],
   "source": [
    "# imports random \n",
    "import random \n",
    "  \n",
    "'''If we pass string or character literals as \n",
    "parameters in the randint() function'''\n",
    "  \n",
    "r2 = random.randint('a', 'z') \n",
    "print(r2)"
   ]
  },
  {
   "cell_type": "markdown",
   "metadata": {},
   "source": [
    "## Applications\n",
    "\n",
    "The randint() function can be used to simulate a lucky draw situation.\n",
    "\n",
    "Let’s say User has participated in a lucky draw competition. The user gets three chances to guess the number between 1 and 10. If guess is correct user wins, else loses the competition."
   ]
  },
  {
   "cell_type": "code",
   "execution_count": null,
   "metadata": {},
   "outputs": [],
   "source": [
    "# importing randint function \n",
    "# from random module \n",
    "from random import randint \n",
    "  \n",
    "# Function which generates a new  \n",
    "# random number everytime it executes \n",
    "def generator(): \n",
    "    return randint(1, 10) \n",
    "      \n",
    "# Function takes user input and returns \n",
    "# true or false depending whether the \n",
    "# user wins the lucky draw! \n",
    "def rand_guess(): \n",
    "  \n",
    "    # calls generator() which returns a \n",
    "    # random integer between 1 and 10 \n",
    "    random_number = generator() \n",
    "      \n",
    "    # defining the number of \n",
    "    # guesses the user gets \n",
    "    guess_left = 3\n",
    "  \n",
    "    # Setting a flag variable to check \n",
    "    # the win-condition for user \n",
    "    flag = 0\n",
    "  \n",
    "    # looping the number of times \n",
    "    # the user gets chances \n",
    "    while guess_left > 0: \n",
    "  \n",
    "        # Taking a input from the user \n",
    "        guess = int(input(\"Pick your number to \"\n",
    "                      \"enter the lucky draw\\n\")) \n",
    "  \n",
    "        # checking whether user's guess \n",
    "        # matches the generated win-condition \n",
    "        if guess == random_number: \n",
    "  \n",
    "            # setting flag as 1 if user guessses  \n",
    "            # correctly and then loop is broken \n",
    "            flag = 1\n",
    "            break\n",
    "          \n",
    "        else: \n",
    "              \n",
    "            # If user's choice doesn't match \n",
    "            # win-condition then it is printed \n",
    "            print(\"Wrong Guess!!\") \n",
    "  \n",
    "        # Decrementing number of  \n",
    "        # guesses left by 1  \n",
    "        guess_left -= 1\n",
    "  \n",
    "    # If win-condition is satisfied then, \n",
    "    # the function rand_guess returns True \n",
    "    if flag is 1: \n",
    "        return True\n",
    "  \n",
    "    # Else the function returns False \n",
    "    else: \n",
    "        return False\n",
    "  \n",
    "# Driver code \n",
    "if __name__ == '__main__': \n",
    "    if rand_guess() is True: \n",
    "        print(\"Congrats!! You Win.\") \n",
    "    else : \n",
    "        print(\"Sorry, You Lost!\") "
   ]
  },
  {
   "cell_type": "code",
   "execution_count": null,
   "metadata": {},
   "outputs": [],
   "source": []
  }
 ],
 "metadata": {
  "kernelspec": {
   "display_name": "Python 3",
   "language": "python",
   "name": "python3"
  },
  "language_info": {
   "codemirror_mode": {
    "name": "ipython",
    "version": 3
   },
   "file_extension": ".py",
   "mimetype": "text/x-python",
   "name": "python",
   "nbconvert_exporter": "python",
   "pygments_lexer": "ipython3",
   "version": "3.8.3"
  }
 },
 "nbformat": 4,
 "nbformat_minor": 4
}
