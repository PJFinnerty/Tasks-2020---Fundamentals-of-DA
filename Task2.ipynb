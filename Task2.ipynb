{
 "cells": [
  {
   "cell_type": "markdown",
   "metadata": {},
   "source": [
    "## Task 2: *dicerolls()*"
   ]
  },
  {
   "cell_type": "markdown",
   "metadata": {},
   "source": [
    "**November 2nd, 2020:** \n",
    "\n",
    "**Write a Python function called dicerolls that simulates\n",
    "rolling dice.** \n",
    "\n",
    "* Your function should take two parameters: the number of dice k and the number of times to roll the dice n. The function should simulate randomly rolling k dice n times, keeping track of each total face value.\n",
    "\n",
    "\n",
    "* It should then return a dictionary with the number of times each possible total face value occurred. So, calling the function as diceroll(k=2, n=1000) should return a dictionary like: {2:19,3:50,4:82,5:112,6:135,7:174,8:133,9:114,10:75,11:70,12:36}\n",
    "\n",
    "\n",
    "* You can use any module from the Python standard library you wish and you should include a description with references of your algorithm in the notebook.\n"
   ]
  },
  {
   "cell_type": "markdown",
   "metadata": {},
   "source": [
    "#### Use of the Choice Function From Numpy's Random Package\n",
    "\n",
    "The function created for Task 2 should utilise the Choice Function to generate random return values from *k* number of dice rolls *n* number of times. \n",
    "\n"
   ]
  },
  {
   "cell_type": "markdown",
   "metadata": {},
   "source": [
    "### The Necessary Components of the Function\n",
    "\n",
    "#### Parameters: *k, n* and *sides*\n",
    "\n",
    "The Function is required to contain two parameters, the number of dice to be rolled in the simulation (*k*) and the number of dice rolls in the simulation (*n*). The minimum number of dice that should be simulated is 2. There should be no limit on the number of rolls simulated.\n",
    "\n",
    "A third parameter will be required to correctly simulate dice rolls: the number of faces per die. Therefore, the third parameter will be a variable called *sides* that will be set at 6. \n",
    "\n",
    "The output of the function should produce a list of the total from the upturned face of the combined dice. This will provide for a minimum of two and a maximum of 12 for an input of two dice, for example. \n",
    "\n",
    "Additionaly, the output should provide the number of times out of the total rolls, *n*, where each possible dice result occurred. So if there are two dice and they are rolled 20 times, if the result of 2 occurrs once, the result of 3 occurs twice and the output of 4 occurs three times, the output should read: 2:1, 3:2, 4:3 ... and so on for each possible combinations. \n",
    "\n",
    "\n"
   ]
  },
  {
   "cell_type": "markdown",
   "metadata": {},
   "source": [
    "#### Dictionary\n",
    "\n",
    "Similar to the function created for Task 1, the *dicerolls* function should utilise a dictionary, in order to produce an output that will provide a dictionary return of key/value pairs (or *k's* and *n's*).\n",
    "\n",
    "This dictionary should be "
   ]
  },
  {
   "cell_type": "code",
   "execution_count": 4,
   "metadata": {},
   "outputs": [],
   "source": [
    "import numpy as np\n",
    "rng = np.random.default_rng(0)"
   ]
  },
  {
   "cell_type": "code",
   "execution_count": 53,
   "metadata": {},
   "outputs": [
    {
     "name": "stdout",
     "output_type": "stream",
     "text": [
      "{3: 3, 4: 1, 5: 14, 6: 10, 7: 7, 8: 5, 9: 6, 10: 7, 11: 9, 12: 4, 13: 9, 14: 6, 15: 5, 16: 5, 17: 7, 18: 2}\n"
     ]
    }
   ],
   "source": [
    "def diceroll(K, n):\n",
    "    dices = {i : 0 for i in range(K, K*6 + 1)}\n",
    "\n",
    "    for p in range(n):\n",
    "            times = rng.integers(K, K*6 + 1)\n",
    "            dices[times] = dices[times] + 1\n",
    "\n",
    "\n",
    "    return dices\n",
    "\n",
    "print(diceroll(3, 100))"
   ]
  },
  {
   "cell_type": "code",
   "execution_count": 54,
   "metadata": {},
   "outputs": [
    {
     "name": "stdout",
     "output_type": "stream",
     "text": [
      "{2: 6, 3: 4, 4: 11, 5: 11, 6: 5, 7: 9, 8: 12, 9: 7, 10: 15, 11: 14, 12: 6}\n"
     ]
    }
   ],
   "source": [
    "import numpy as np\n",
    "rng = np.random.default_rng()\n",
    "def diceroll(dice_number, rolls):\n",
    "      \n",
    "   # Creating an empty dictionary  \n",
    "   empty_dict = {i : 0 for i in range(dice_number, dice_number*6 + 1)} \n",
    "   \n",
    "   # Create a loop and incorporate dict.get() to traverse through each element of list and assign to dictionary\n",
    "   for i in range(rolls):\n",
    "    # Increase by 1 for each iteration.\n",
    "        b= rng.choice(range(dice_number, dice_number*6+ 1)) # k = dice_number)\n",
    "        #print(b)\n",
    "        empty_dict[b] = empty_dict.get(b, 2) + 1\n",
    "   return empty_dict \n",
    "  \n",
    "# Driver function \n",
    "\n",
    "if __name__ == \"__main__\":  \n",
    "    dice_number = 2\n",
    "    rolls = 100\n",
    "    print(diceroll(dice_number, rolls)) "
   ]
  },
  {
   "cell_type": "code",
   "execution_count": null,
   "metadata": {},
   "outputs": [],
   "source": []
  },
  {
   "cell_type": "code",
   "execution_count": null,
   "metadata": {},
   "outputs": [],
   "source": []
  },
  {
   "cell_type": "code",
   "execution_count": null,
   "metadata": {},
   "outputs": [],
   "source": []
  },
  {
   "cell_type": "code",
   "execution_count": null,
   "metadata": {},
   "outputs": [],
   "source": []
  },
  {
   "cell_type": "code",
   "execution_count": null,
   "metadata": {},
   "outputs": [],
   "source": []
  },
  {
   "cell_type": "code",
   "execution_count": null,
   "metadata": {},
   "outputs": [],
   "source": []
  },
  {
   "cell_type": "code",
   "execution_count": null,
   "metadata": {},
   "outputs": [],
   "source": []
  },
  {
   "cell_type": "code",
   "execution_count": null,
   "metadata": {},
   "outputs": [],
   "source": []
  },
  {
   "cell_type": "code",
   "execution_count": 23,
   "metadata": {},
   "outputs": [
    {
     "name": "stdout",
     "output_type": "stream",
     "text": [
      "11\n",
      "8\n",
      "7\n",
      "3\n",
      "4\n",
      "0\n",
      "1\n",
      "0\n",
      "2\n",
      "11\n",
      "9\n",
      "12\n",
      "7\n",
      "8\n"
     ]
    }
   ],
   "source": [
    "import numpy as np\n",
    "rng = np.random.default_rng(0)\n",
    "def diceroll(dice_number, sides=6, rolls=10):\n",
    "      \n",
    "   # Creating an empty dictionary  \n",
    "   empty_dict = {} \n",
    "   \n",
    "   # Create a loop and incorporate dict.get() to traverse through each element of list and assign to dictionary\n",
    "   for i in range(dice_number * sides + 1):\n",
    "    # Increase by 1 for each iteration.\n",
    "       \n",
    "        b= rng.choice(sum(range(dice_number, sides))) # k = dice_number)\n",
    "        a= range(2, 12)\n",
    "        print(b)\n",
    "        empty_dictc = empty_dict.get(0, b) + 1\n",
    "        \n",
    "   return empty_dictc\n",
    "  \n",
    "# Driver function \n",
    "\n",
    "if __name__ == \"__main__\":  \n",
    "    dice_number = 2\n",
    "    \n",
    "    print(diceroll(dice_number)) "
   ]
  },
  {
   "cell_type": "code",
   "execution_count": 24,
   "metadata": {},
   "outputs": [
    {
     "name": "stdout",
     "output_type": "stream",
     "text": [
      "{'A': 5, 'B': 1, 'C': 2}\n"
     ]
    }
   ],
   "source": [
    "def diceroll2(dice_number2):\n",
    "      \n",
    "   # Creating an empty dictionary  \n",
    "   empty_dict = {} \n",
    "   # Create a loop and incorporate dict.get() to traverse through each element of list and assign to dictionary\n",
    "   for i in dice_number2:\n",
    "    # Increase by 1 for each iteration.\n",
    "        empty_dict[i] = empty_dict.get(i, 0) + 1\n",
    "   return empty_dict \n",
    "  \n",
    "# Driver function \n",
    "if __name__ == \"__main__\":  \n",
    "    dice_number2= ['A', 'A', 'B', 'C', 'A', 'A', 'A', 'C'] \n",
    "    print(diceroll2(dice_number2))"
   ]
  },
  {
   "cell_type": "markdown",
   "metadata": {},
   "source": [
    "\n"
   ]
  },
  {
   "cell_type": "markdown",
   "metadata": {},
   "source": [
    "### Example 1:"
   ]
  },
  {
   "cell_type": "code",
   "execution_count": null,
   "metadata": {},
   "outputs": [],
   "source": [
    "# Python3 program explaining work \n",
    "# of randint() function \n",
    "  \n",
    "# imports random module \n",
    "import random \n",
    "  \n",
    "# Generates a random number between \n",
    "# a given positive range \n",
    "r1 = random.randint(0, 10) \n",
    "print(\"Random number between 0 and 10 is % s\" % (r1)) \n",
    "  \n",
    "# Generates a random number between  \n",
    "# two given negative range \n",
    "r2 = random.randint(-10, -1) \n",
    "print(\"Random number between -10 and -1 is % d\" % (r2)) \n",
    "  \n",
    "# Generates a random number between  \n",
    "# a positive and a negative range \n",
    "r3 = random.randint(-5, 5) \n",
    "print(\"Random number between -5 and 5 is % d\" % (r3)) "
   ]
  }
 ],
 "metadata": {
  "kernelspec": {
   "display_name": "Python 3",
   "language": "python",
   "name": "python3"
  },
  "language_info": {
   "codemirror_mode": {
    "name": "ipython",
    "version": 3
   },
   "file_extension": ".py",
   "mimetype": "text/x-python",
   "name": "python",
   "nbconvert_exporter": "python",
   "pygments_lexer": "ipython3",
   "version": "3.8.3"
  }
 },
 "nbformat": 4,
 "nbformat_minor": 4
}
