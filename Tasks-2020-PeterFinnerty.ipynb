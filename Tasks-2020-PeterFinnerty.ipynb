{
 "cells": [
  {
   "cell_type": "markdown",
   "metadata": {},
   "source": [
    "## Peter Finnerty\n",
    "\n",
    "## Task 1: *counts()*\n",
    "\n",
    "#### October 5th, 2020: \n",
    "\n",
    "**Write a Python function called counts that takes a list as\n",
    "input and returns a dictionary of unique items in the list as keys and the number of\n",
    "times each item appears as values.** \n",
    "\n",
    "* So, the input ['A', 'A', 'B', 'C', 'A'] should have output {'A': 3, 'B': 1, 'C': 1} . \n",
    "\n",
    "\n",
    "* Your code should not depend on any module from the standard library1 or otherwise. \n",
    "\n",
    "\n",
    "* You should research the task first and include a description with references of your algorithm in the notebook.\n"
   ]
  },
  {
   "cell_type": "markdown",
   "metadata": {},
   "source": [
    "-------------------------------------"
   ]
  },
  {
   "cell_type": "markdown",
   "metadata": {},
   "source": [
    "### 1.1. Components Necessary for the *counts()* Function\n",
    "\n",
    "The Task requires for the production of a function that takes a list as input and outputs a dictionary of key/value pairs of the elements/occurrences from the list. \n",
    "\n",
    "This sectin will, therefore, outline the basic use of <span style=\"color:blue\">**Lists**</span> and <span style=\"color:blue\">**Dictionaries**</span> as a foundation for creating the *counts* function.\n",
    "\n",
    "Achieving this will also necessitate the use of a *for* loop, in order to iterate through each element of the list so that they can be translated into keys in a dictionary.\n",
    "\n",
    "Furthermore, the function will make use of a method Python has built-in for working with Dictionaries; the .get() method. This function will be used within the loop in order to get a key value for each element of the list and to count the number of each element incrementally moving throgh each element. \n",
    "\n",
    "More understanding of each of these components is needed before the function can be created. Below is a description of each of these components and their role in achieving the objective of this task."
   ]
  },
  {
   "cell_type": "markdown",
   "metadata": {},
   "source": [
    "-----------------------------------"
   ]
  },
  {
   "cell_type": "markdown",
   "metadata": {},
   "source": [
    "### 1.2. Lists\n",
    "\n",
    "#### 1.2.1. Summary of Lists\n",
    "Lists are data structures within Python that the programming language interprets as objects. They are marked by the encapsulation of square brackets. Lists are just 1 of 4 datatypes used in Python to store multiple elements within a single variable. The others are tuples, sets and dictionaries.\n",
    "\n",
    "The image below outlines the structure of lists in Python:\n",
    "\n",
    "<img src=\"https://blog.finxter.com/wp-content/uploads/2020/07/pythonlist-scaled.jpg\" alt=\"Drawing\" style=\"width: 650px;\"/>\n",
    "\n",
    "*Image from fixter.com*"
   ]
  },
  {
   "cell_type": "markdown",
   "metadata": {},
   "source": [
    "Below is a simple line of code that creates a list of integers:"
   ]
  },
  {
   "cell_type": "code",
   "execution_count": 51,
   "metadata": {},
   "outputs": [
    {
     "name": "stdout",
     "output_type": "stream",
     "text": [
      "<class 'list'>\n"
     ]
    }
   ],
   "source": [
    "# Assign variable to list of integers\n",
    "list_1 = [10, 23, 4, 54, 100034, 210, 6, 11]\n",
    "print(type(list_1))"
   ]
  },
  {
   "cell_type": "markdown",
   "metadata": {},
   "source": [
    "As can be in the output of the print/datatype functions above, lists are classified as the object 'list'. \n",
    "\n",
    "Python interprets lists as ordered datatypes - that is to say that the order in which one places the elements in a list will be remembered by Python as an intentional and fixed way of presenting the data. If one should add extra elements to a list using the append() method for example, these new elements will be added at the end of the list, i.e. the new variable will comprise of the original data ordering with an appendix of new elements at the end.\n",
    "\n",
    "Lists can contain any datatypes. Integers, Floats, Boolean values and Strings can all be used in lists together. Additionally an element of a list can actually be another list stored as a variable. This is seen below:"
   ]
  },
  {
   "cell_type": "code",
   "execution_count": 40,
   "metadata": {},
   "outputs": [
    {
     "name": "stdout",
     "output_type": "stream",
     "text": [
      "[5, True, 'Cat', 187.88478, ['Jack Russel', 'Labrador', 'Poodle']]\n"
     ]
    }
   ],
   "source": [
    "# Create variable for list of dog breeds\n",
    "dogs = [\"Jack Russel\", \"Labrador\", \"Poodle\"]\n",
    "\n",
    "# Create list that contains Int, Bool, String, Float and other list\n",
    "list_2 = [5, True, \"Cat\", 187.88478, dogs] \n",
    "print(list_2)"
   ]
  },
  {
   "cell_type": "markdown",
   "metadata": {},
   "source": [
    "#### Reference: https://www.w3schools.com/python/python_lists_access.asp\n",
    "\n",
    "#### Image: https://blog.finxter.com/wp-content/uploads/2020/07/pythonlist-scaled.jpg"
   ]
  },
  {
   "cell_type": "markdown",
   "metadata": {},
   "source": [
    "#### 1.2.2. List Mutability\n",
    "\n",
    "In contrast with Tuples, a datatype in Python demarcated by the encapsulation of round brackets, elements within lists can be changed. Lists are essential in Python for this reason. They are **mutable**, that is to say that the elements can be changed without assiging the list to a new variable. \n",
    "\n",
    "To alter elements within a list, indexing is utilised. As each element within a list is indexed, with the first element being assigned to **0** and subdequent elements incrementing by 1 index number, we can do a number of mutations that are useful within functions. This mutability means that lists are useful when we are using loops.\n",
    "\n",
    "Examining the simple loop below, we can see how the list_3 variable is altered by the **for loop**:"
   ]
  },
  {
   "cell_type": "code",
   "execution_count": 52,
   "metadata": {},
   "outputs": [
    {
     "name": "stdout",
     "output_type": "stream",
     "text": [
      "3\n",
      "5\n",
      "7\n",
      "9\n",
      "11\n"
     ]
    }
   ],
   "source": [
    "# Assign variable to list of even numbers\n",
    "list_3 = [2, 4, 6, 8, 10]\n",
    "\n",
    "# Create for loop to iterate through each element in the list and add 1\n",
    "for i in list_3:\n",
    "    print(i + 1)"
   ]
  },
  {
   "cell_type": "markdown",
   "metadata": {},
   "source": [
    "The loop in the above example, iterates through each of the list elements, adding 1 to each 'i' that is present. The output shows that each even number present in the list, a number has been output that is 1 greater than this. \n",
    "\n",
    "Lists are presented as the input of the *counts()* function. Therefore, the function will need to operate of each element of the list - this will be achieved through the use of a loop as previously stated. This is perhaps the easier datatype to work with, when compared with lists."
   ]
  },
  {
   "cell_type": "markdown",
   "metadata": {},
   "source": [
    "----------------------------------------------"
   ]
  },
  {
   "cell_type": "markdown",
   "metadata": {},
   "source": [
    "### 1.2. Dictionaries\n",
    "\n",
    "#### 1.2.1. Summary of Dictionaries\n",
    "\n"
   ]
  },
  {
   "cell_type": "markdown",
   "metadata": {},
   "source": [
    "Dictionaries are a dataype used in Python to store key/value pairs. They are encapsulated in curly brackets, with each key value pair being separated by a colon and each pair separated by a comma.\n",
    "\n",
    "The image below lays out the structure of a dictionary: \n",
    "\n",
    "<img src=\"https://lh3.googleusercontent.com/proxy/B9LcP89oAQcratFVugwrpZXUzWhEUn2QYCAbOmiEzDACY8YwGNFKlq1euqQKhz04vykCUDrdjkMX4Pz_OkQRRrymMwoeb2dUF__YbSWKBjI\" alt=\"Drawing\" style=\"width: 650px;\"/>\n",
    "\n",
    "*Image fron trytoprogram.com*"
   ]
  },
  {
   "cell_type": "markdown",
   "metadata": {},
   "source": [
    "The keys within a dictionary can contain any immutable datatype. Therefore Keys can be integers, strings or tuples, but not lists. When accessing a dictionary, one can call upon the key and will be presented with the value associated with this key. As such, dictionaries are known as **associative arrays**.\n",
    "\n",
    "The values operate similar to list elements in that they are heterogenous and can contain any datatype. Therefore, the values of a list *are* mutable.\n",
    "\n",
    "Despite the immutability of keys, Dictionaries are considered mutable datatypes, as entries can be altered or changed. The only caveat is that no two keys can be identical."
   ]
  },
  {
   "cell_type": "markdown",
   "metadata": {},
   "source": [
    "#### 1.2.2. Simple Example of Dictionaries\n",
    "\n",
    "Below is a dictionary featuring school subjects and grades as values for a particular student. Notice the use of curly brackets, colons and commas in forming a dictionary."
   ]
  },
  {
   "cell_type": "code",
   "execution_count": 53,
   "metadata": {},
   "outputs": [
    {
     "name": "stdout",
     "output_type": "stream",
     "text": [
      "{'Maths': 75, 'English': 66, 'History': 87, 'Irish': 55, 'Chemistry': 51, 'Biology': 68, 'French': 44}\n"
     ]
    }
   ],
   "source": [
    "# Assign variable 'dict_1' to a dictionary of key/value pairs of Subjects/Grades\n",
    "dict_1 = { \"Maths\": 75, \n",
    "          \"English\": 66, \n",
    "          \"History\": 87, \n",
    "          \"Irish\": 55, \n",
    "          \"Chemistry\": 51,\n",
    "          \"Biology\": 68,\n",
    "          \"French\": 44 }\n",
    "\n",
    "# Print to screen\n",
    "print(dict_1)"
   ]
  },
  {
   "cell_type": "markdown",
   "metadata": {},
   "source": [
    "#### 1.2.3. Using Dictionary with For Loop\n",
    "\n",
    "This task will require using a for loop to convert a list into a dictionary of key/value pairs. Therefore, it is first useful to understand how a for loop can be used to take a dictionary as input.\n",
    "\n",
    "In the code below, the *in* operator is used to extract the keys and values for each pair in the dictionary. It achieves this by taking the variable *i* to act as each key and calling calling *dict_1[i]* to act as each value. Therefore, the print statement is acting on the keys and values independently."
   ]
  },
  {
   "cell_type": "code",
   "execution_count": 54,
   "metadata": {},
   "outputs": [
    {
     "name": "stdout",
     "output_type": "stream",
     "text": [
      "Maths 75\n",
      "English 66\n",
      "History 87\n",
      "Irish 55\n",
      "Chemistry 51\n",
      "Biology 68\n",
      "French 44\n"
     ]
    }
   ],
   "source": [
    "# Create for loop that iterates through each pair, treating the keys as 'i' and the values as 'dict_1[i]'\n",
    "for i in dict_1:\n",
    "    # Print the keys and values individually with a single print statement\n",
    "    print(i, dict_1[i])"
   ]
  },
  {
   "cell_type": "markdown",
   "metadata": {},
   "source": [
    "Therefore, it is clear that each key is accessed similarly to how elements of a list are accessed in a list, by assigning the variable *i* to act as each key, one after the other, incrementally. \n",
    "\n",
    "Whilst the values are accessed using the following formula: <span style=\"color:green\">**dictionary_name[i]**</span>"
   ]
  },
  {
   "cell_type": "markdown",
   "metadata": {},
   "source": [
    "#### 1.2.4. Altering Dictionary Values and Using Empty Dictionaries in Functions"
   ]
  },
  {
   "cell_type": "markdown",
   "metadata": {},
   "source": [
    "The Task requires the input of the function to be a list and the output to be a dictionary. Therefore, this conversion will have to happen within the function itself. As such, the *counts()* function will contain an empty dictionary known as *empty_dict*.\n",
    "\n",
    "The keys of this empty dictionary will comprise of the names of each of the elements in the input list. \n",
    "\n",
    "The values of *empty_dict* will be populated by created a loop that keeps a tally of the number of occurrences of each element. This will be achieved by the **dictionary_name[i]** formula used above and setting this to a method to index the list with the variable (i). \n",
    "\n",
    "To illustrate how dictionaries are altered in a more simple manner, the code below changes each of the values for the subjects in *dict_1*. This is done using the .items() method:"
   ]
  },
  {
   "cell_type": "code",
   "execution_count": 63,
   "metadata": {},
   "outputs": [
    {
     "name": "stdout",
     "output_type": "stream",
     "text": [
      "Grades: {'Maths': 75, 'English': 66, 'History': 87, 'Irish': 55, 'Chemistry': 51, 'Biology': 68, 'French': 100, 'Music': 90}\n",
      "\n",
      "Grades temporarily changed:\n",
      "Maths 100\n",
      "English 100\n",
      "History 100\n",
      "Irish 100\n",
      "Chemistry 100\n",
      "Biology 100\n",
      "French 100\n",
      "Music 100\n",
      "\n",
      "\n",
      " {'Maths': 75, 'English': 66, 'History': 87, 'Irish': 55, 'Chemistry': 51, 'Biology': 68, 'French': 100, 'Music': 90}\n"
     ]
    }
   ],
   "source": [
    "# Print dictionary of original grades\n",
    "print(\"Grades:\",dict_1)\n",
    "\n",
    "print(\"\\nGrades temporarily changed:\")\n",
    "\n",
    "# Create for loop sing .items() method to access the key/values individually\n",
    "for key,value in dict_1.items():\n",
    "    # Within the for loop change each value to 100\n",
    "    dict_1[i]=100\n",
    "    print(key, dict_1[i])\n",
    "    \n",
    "# Print original dictionary\n",
    "print(\"\\n\\n\", dict_1)\n",
    "# Note how dict_1 has not been changed by the for loop as the values were changed within a loop and \n",
    "# are contained there only"
   ]
  },
  {
   "cell_type": "markdown",
   "metadata": {},
   "source": [
    "A similar operation will be used to populate the empty dictionary in the *counts()* function with the elements from the list."
   ]
  },
  {
   "cell_type": "markdown",
   "metadata": {},
   "source": [
    "#### 1.2.5. Dictionaries and the .get() Method\n",
    "\n",
    "Taking what we have learned from using the **dictionary_name[i]** formula above to act on values, we can now create an example that utilises the .get() method.\n",
    "\n",
    "The .get() method takes two parameters, key and value, with the latter being optional. We can change the values of any of the keys (subjects) in the *dict_1* dictionary previously created. \n",
    "\n",
    "The .get() method can also be used to add a new key/value pair. This is exemplified below where .get() is used to add the subject \"Music\", with a score of 90."
   ]
  },
  {
   "cell_type": "code",
   "execution_count": 64,
   "metadata": {},
   "outputs": [
    {
     "name": "stdout",
     "output_type": "stream",
     "text": [
      "Old dictionary:: {'Maths': 75, 'English': 66, 'History': 87, 'Irish': 55, 'Chemistry': 51, 'Biology': 68, 'French': 100, 'Music': 90}\n",
      "\n",
      "\n",
      "New dictionary with Music added:{'Maths': 75, 'English': 66, 'History': 87, 'Irish': 55, 'Chemistry': 51, 'Biology': 68, 'French': 100, 'Music': 90}\n"
     ]
    }
   ],
   "source": [
    "print(\"Old dictionary::\", dict_1)\n",
    "\n",
    "# Increment value in dictionary \n",
    "dict_1['Music'] = test_dict.get('Music', 0) + 90\n",
    "      \n",
    "# printing result  \n",
    "print(\"\\n\\nNew dictionary with Music added:\" + str(dict_1))"
   ]
  },
  {
   "cell_type": "markdown",
   "metadata": {},
   "source": [
    "We now know enough about lists and dictionaries and how they can be used in conjunction with loops and the .get() method to achieve the task."
   ]
  },
  {
   "cell_type": "markdown",
   "metadata": {},
   "source": [
    "#### References of dictionaries:\n",
    "\n",
    "#### https://www.geeksforgeeks.org/python-accessing-key-value-in-dictionary/\n",
    "\n",
    "#### https://openbookproject.net/thinkcs/python/english3e/dictionaries.html#:~:text=Dictionaries%20are%20yet%20another%20kind,of%20a%20list%20or%20tuple.\n",
    "\n",
    "#### https://artofproblemsolving.com/wiki/index.php/Dictionary#:~:text=In%20Python%20a%20dictionary%20is,key%20and%20its%20associated%20value.&text=Dictionaries%20themselves%20are%20mutable%2C%20so,and%20changed%20at%20any%20time.\n",
    "\n",
    "#### https://www.w3schools.com/python/python_dictionaries.asp\n",
    "\n",
    "#### Image: https://lh3.googleusercontent.com/proxy/f0wACWCqx-IqJhqsGrnR9aYh7PcWDhZE9_YwBD8XLjIU-2n2qy-xPMYHPbr5CgtkX51yQXRvOvsW27uPXvdLArp7EZMtudhoot1IRICtnf4"
   ]
  },
  {
   "cell_type": "markdown",
   "metadata": {},
   "source": [
    "### 1.3. The *counts()* Function\n",
    "\n",
    "With the knowledge we have gained from the previous sections, the following function has been created. It makes use of a loop and the .get() method to convert an input list into a dictionary. In the output dictinary the keys are the elements presented in the list and the values are the number of times each element occurs in the list. \n",
    "\n",
    "Take a look at the function below:"
   ]
  },
  {
   "cell_type": "code",
   "execution_count": 9,
   "metadata": {},
   "outputs": [],
   "source": [
    "def counts(list_input): \n",
    "      \n",
    "   # Creating an empty dictionary  \n",
    "   empty_dict = {} \n",
    "   # Create a for loop to traverse through each element of list\n",
    "   for i in list_input: \n",
    "        \n",
    "    # Create a variable to get the number of each element in the input list. Use .get() method to \n",
    "    # pair up each input element (as a key) in the empty_dict variable with the number of occurrences (as the values).\n",
    "    # Increment by 1 to move through input list    \n",
    "        empty_dict[i] = empty_dict.get(i, 0) + 1\n",
    "        \n",
    "        # Return empty_dict to provide method to return dict of key, value pairs\n",
    "   return empty_dict \n",
    "  \n"
   ]
  },
  {
   "cell_type": "code",
   "execution_count": 10,
   "metadata": {},
   "outputs": [],
   "source": [
    "# An example input list (suggested in the task question)\n",
    "list_input = ['A', 'A', 'B', 'C', 'A'] "
   ]
  },
  {
   "cell_type": "code",
   "execution_count": 11,
   "metadata": {},
   "outputs": [
    {
     "data": {
      "text/plain": [
       "{'A': 3, 'B': 1, 'C': 1}"
      ]
     },
     "execution_count": 11,
     "metadata": {},
     "output_type": "execute_result"
    }
   ],
   "source": [
    "counts(list_input)"
   ]
  },
  {
   "cell_type": "code",
   "execution_count": 66,
   "metadata": {},
   "outputs": [
    {
     "data": {
      "text/plain": [
       "{1: 4, 45: 3, 6: 1, 7: 1, 8: 1, 'Bob': 2, 'Scooby Doo': 1, False: 2}"
      ]
     },
     "execution_count": 66,
     "metadata": {},
     "output_type": "execute_result"
    }
   ],
   "source": [
    "# Second example containing various datatypes:\n",
    "list_input = [1, 1, 1, 45, 45, 45, 6, 7, 8, \"Bob\", \"Bob\", \"Scooby Doo\", True, False, False]\n",
    "\n",
    "counts(list_input)"
   ]
  },
  {
   "cell_type": "markdown",
   "metadata": {},
   "source": [
    "--------------------------"
   ]
  },
  {
   "cell_type": "markdown",
   "metadata": {},
   "source": [
    "## 2. Task 2: *dicerolls()*"
   ]
  },
  {
   "cell_type": "markdown",
   "metadata": {},
   "source": [
    "### **November 2nd, 2020:** \n",
    "\n",
    "**Write a Python function called dicerolls that simulates\n",
    "rolling dice.** \n",
    "\n",
    "* Your function should take two parameters: the number of dice k and the number of times to roll the dice n. The function should simulate randomly rolling k dice n times, keeping track of each total face value.\n",
    "\n",
    "\n",
    "* It should then return a dictionary with the number of times each possible total face value occurred. So, calling the function as diceroll(k=2, n=1000) should return a dictionary like: {2:19,3:50,4:82,5:112,6:135,7:174,8:133,9:114,10:75,11:70,12:36}\n",
    "\n",
    "\n",
    "* You can use any module from the Python standard library you wish and you should include a description with references of your algorithm in the notebook.\n"
   ]
  },
  {
   "cell_type": "markdown",
   "metadata": {},
   "source": [
    "------------------------"
   ]
  },
  {
   "cell_type": "markdown",
   "metadata": {},
   "source": [
    "### 2.1. The Necessary Components of the Function\n",
    "\n",
    "#### Parameters: *k, n* and *sides*\n",
    "\n",
    "The Function is required to contain two parameters, the number of dice to be rolled in the simulation (*k*) and the number of dice rolls in the simulation (*n*). The minimum number of dice that should be simulated is 2. There should be no limit on the number of rolls simulated.\n",
    "\n",
    "In addition to this the k value will be multiplied by 6 within the function to account for the 6 sides and combinations of a single die. \n",
    "\n",
    "#### Dictionary\n",
    "\n",
    "Similar to the function created for Task 1, the *dicerolls* function should utilise a dictionary, in order to produce an output that will provide a dictionary return of key/value pairs (or *k's* and *n's*).\n",
    "\n",
    "Therefore, the keys in the dictionary should be the unique combinations of dice, e.g. for 2 dice the keys will be 2-12 inclusive. \n",
    "\n",
    "The values should provide the number of times out of the total rolls, *n*, where each possible dice result occurred. So if there are two dice and they are rolled 20 times, if the result of 2 occurrs once, the result of 3 occurs twice and the output of 4 occurs three times, the output should read: 2:1, 3:2, 4:3 ... and so on for each possible combinations. These numbers will function as the values in the dictionary pairs.\n",
    "\n",
    "#### Numpy's Random Module\n",
    "\n",
    "In contrast to Task 1, Task 2 requires the creation of a function that can simulate the 'randomness' of rolling dice. As such it is necessary to create random numbers. To do this, we will use the numpy.random package. This package includes various method for the simulation of pseudo-random numbers. As there are a few different Numpy methods that can be used in the creation of the *dicerolls()* function, we will investigate two to determine which is most effective: *choice()* and *integers()*."
   ]
  },
  {
   "cell_type": "markdown",
   "metadata": {},
   "source": [
    "------------------"
   ]
  },
  {
   "cell_type": "markdown",
   "metadata": {},
   "source": [
    "### 2.2. The Distribution of the Outcomes of Rolled Dice\n",
    "\n",
    "It may seem intuitive that the probabilities for each combination of dice roll, remain the same regardless of how many dice are being rolled. The assumed probability is the Uniform distribution, whereby, each combination are equally as likely to happen.\n",
    "\n",
    "However, this is only true when a single die is being rolled. As a single die produces a single result ranging from 1-6 inclusive, every possibile outcome is equally possible. If the die is rolled 1000 times, the distribution of the outcomes is even, the same as the probability of a single die is even. This places a the outcomes of a single die rolled repeatedy in the Uniform Distribution.\n",
    "\n",
    "When more than one die are rolled, for example 2 dice and the sum of the outcomes for each combination is graphed, we will be presented with a distribution that resembles the Gaussian Distribution. A bell shaped curve, where the peak is at the combination of 7. For the other outcomes getting closer to 1 or to 12, the probability decreases steadily. \n",
    "\n",
    "This is due to the fact that there are more outcomes from rolling two dice that result in 7 than any other outcome.\n",
    "\n",
    "The table below illustrates the potential outcomes of rolling 2 dice, one after the other. The diagonal line from the top right to the bottom left contains 6 outcomes, each of which result in 7 (note: this table represents a dice being rolled twice repeatedly and therefore includes the reverse outcomes, e.g. 3 and 4 / 4 and 3). "
   ]
  },
  {
   "cell_type": "markdown",
   "metadata": {},
   "source": [
    "|        |       |         |         |        |           |\n",
    "| ---    | ---   | ---     | ---     | ---    | ---       |   \n",
    "|  (1,1)  |\t   (1,2)\t| (1,3)  |  (1,4) |   (1,5)   |**(1,6)**|\n",
    "|  (2,1)  |\t   (2,2)\t| (2,3)\t|  (2,4)   |**(2,5)**  |\t (2,6)|\n",
    "|  (3,1)  |\t   (3,2)\t| (3,3) | **(3,4)** | (3,5)    | (3,6)|\n",
    "|  (4,1)   |   (4,2)  | **(4,3)** | (4,4)\t |  (4,5)  |\t (4,6)|\n",
    "|  (5,1)  |\t **(5,2)** | (5,3)\t|  (5,4)\t  | (5,5)  |\t (5,6)|\n",
    "|**(6,1)** | (6,2)\t |   (6,3)\t | (6,4)\t  | (6,5)  | (6,6)|"
   ]
  },
  {
   "cell_type": "markdown",
   "metadata": {},
   "source": [
    "Although the distributions of outcomes from simulations with 2 or more dice resemble the Gaussian Distribution, it is not technically correct to assume this. The outcomes of dice are discrete distributions, that is to say the outcomes are distinct and non-overlapping. When you roll dice you might get 7, but you cannot roll a 7.5. The Gaussian Distribution on the other hand is a Continuous Distribution\n",
    ", it is more correct to identify dice outcomes as being in the Binomial Ditribution. \n",
    "\n",
    "The Binomial Distribution for a random variable is one where is where there are two possible outcomes, 'success' or 'failure' for a finite number of 'trials'. 'Success' and 'failure' must be mutually exclusive, i.e. they cannot occur at the same time. Furthemore, each trial must be independent of the last, that is to say that the rolling of 2 dice in Trial A, does not affect the outcomes from Trial B.\n",
    "\n",
    "The *dicerolls()* function will be keeping track of each outcome from each 'trial' and although, we are not using the 'success'/'failure' lens to understand out function, essentially this is what each simulated roll will achieve. \n",
    "\n",
    "Another key feature of dice rolls that situates the outcomes within the Binomial distribution is that the shape of the distribution will change depending on *n*, the number of dice. The higher *n* is, the more flat the distribution will be.  \n",
    "\n",
    "The image below demonstrates the shape of the distributions from n=1, n=5. Notice the uniform shape of the graph of n=1 and the flattening of the curve as *n* increases: "
   ]
  },
  {
   "cell_type": "markdown",
   "metadata": {},
   "source": [
    "<img src=\"https://cf.geekdo-images.com/camo/e8895fa4525ec79fd845fbf21c49b2b24580f1af/687474703a2f2f75706c6f61642e77696b696d656469612e6f72672f77696b6970656469612f636f6d6d6f6e732f7468756d622f382f38632f446963655f73756d5f63656e7472616c5f6c696d69745f7468656f72656d2e7376672f35303070782d446963655f73756d5f63656e7472616c5f6c696d69745f7468656f72656d2e7376672e706e67\" alt=\"Drawing\" style=\"width: 650px;\"/>\n",
    "\n",
    "*image from boardgamegeek.com*"
   ]
  },
  {
   "cell_type": "markdown",
   "metadata": {},
   "source": [
    "#### The Distribution of *dicerolls()*\n",
    "\n",
    "With this knowledge of the Binomial distribution in mind, it is clear that the dictionary returns from the *dicerolls()* function, must show a higher occurence for the numbers that exhibit more combinations. I.e. for two dice, the key for 7 should contain a higher value than 1 or 12."
   ]
  },
  {
   "cell_type": "markdown",
   "metadata": {},
   "source": [
    "#### Reference: https://people.richland.edu/james/lecture/m113/binomial.html\n",
    "\n",
    "#### Reference: https://www.investopedia.com/terms/d/discrete-distribution.asp#:~:text=A%20discrete%20distribution%20is%20a,%2C%202%2C%203...&text=Overall%2C%20the%20concepts%20of%20discrete,probability%20theory%20and%20statistical%20analysis.\n",
    "\n",
    "#### Reference: https://magoosh.com/statistics/understanding-binomial-distribution/#:~:text=Lastly%2C%20the%20binomial%20distribution%20is,you%20cannot%20roll%20a%203.5."
   ]
  },
  {
   "cell_type": "markdown",
   "metadata": {},
   "source": [
    "-------------------------"
   ]
  },
  {
   "cell_type": "markdown",
   "metadata": {},
   "source": [
    "### 2.3. The Draft Functions\n",
    "\n",
    "Rather than simply presenting the final function, I have decided to show the evolution of the function, beginning with the *counts()* function and demonstrating how this can be altered until we have a function capable of simulating rolling dice. I have therefore included the *counts()* and *draft_dicerolls()* function below."
   ]
  },
  {
   "cell_type": "code",
   "execution_count": 1,
   "metadata": {},
   "outputs": [],
   "source": [
    "# Import numpy and set the rng constructor to seed value 0\n",
    "\n",
    "import numpy as np\n",
    "rng = np.random.default_rng(0)"
   ]
  },
  {
   "cell_type": "markdown",
   "metadata": {},
   "source": [
    "#### The counts() Function\n",
    "\n",
    "The *counts()* function made use of the .get() method to take a list as input and use the elements to populate a dictionary of key/value pairs. The dictionary was initialised as empty, in order for it to be populated by a number of statements within a for loop."
   ]
  },
  {
   "cell_type": "code",
   "execution_count": 2,
   "metadata": {},
   "outputs": [],
   "source": [
    "def counts(list_input): \n",
    "      \n",
    "   # Creating an empty dictionary  \n",
    "   empty_dict = {} \n",
    "   # Create a for loop to traverse through each element of list\n",
    "   for i in list_input: \n",
    "        \n",
    "    # Create a variable to get the number of each element in the input list. Use .get() method to \n",
    "    # pair up each input element (as a key) in the empty_dict variable with the number of occurrences (as the values).\n",
    "    # Increment by 1 to move through input list    \n",
    "        empty_dict[i] = empty_dict.get(i, 0) + 1\n",
    "        \n",
    "        # Return empty_dict to provide method to return dict of key, value pairs\n",
    "   return empty_dict "
   ]
  },
  {
   "cell_type": "markdown",
   "metadata": {},
   "source": [
    "#### Random Number Generation\n",
    "\n",
    "Task 2 requires the generation of pseudo-random numbers to achieve the simulation of rolling dice.\n",
    "\n",
    "The chosen random generator for this task, is Numpy's Random *integers()* function. This function generates random integers with the parameters low, high and size. \n",
    "\n",
    "In our function, the low will be set as the value of k, the high will be the value of k * 6 + 1. This will call on *integers()* to produce in the range of 2-12 (if there are 2 dices in the simulation).\n",
    "\n",
    "Below is a simple example of the integers function creating 20 random numbers in this range:"
   ]
  },
  {
   "cell_type": "code",
   "execution_count": 3,
   "metadata": {},
   "outputs": [
    {
     "data": {
      "text/plain": [
       "array([11,  9,  7,  4,  5,  2,  2,  2,  3, 10,  9, 12,  7,  8, 12, 10,  8,\n",
       "        7,  8, 12], dtype=int64)"
      ]
     },
     "execution_count": 3,
     "metadata": {},
     "output_type": "execute_result"
    }
   ],
   "source": [
    "rng.integers(2, 13, 20)"
   ]
  },
  {
   "cell_type": "markdown",
   "metadata": {},
   "source": [
    "With this in mind, below is the *draft_dicerolls()* function that contains a statement to create random integers."
   ]
  },
  {
   "cell_type": "markdown",
   "metadata": {},
   "source": [
    "#### draft_dicerolls()"
   ]
  },
  {
   "cell_type": "code",
   "execution_count": 4,
   "metadata": {},
   "outputs": [],
   "source": [
    "def draft_diceroll(k, n):\n",
    "    \n",
    "    # Populate the keys of dict variable based on k * 6 (number of sides)\n",
    "    # Iterate throgh combos with for loop \n",
    "    draft_dict = {i : 0 for i in range(k, k*6 + 1)}\n",
    "\n",
    "    # Create loop to replicate multiple rolls, n times\n",
    "    for p in range(n):\n",
    "        \n",
    "    # Populate the values of the dict:\n",
    "            \n",
    "            # Assign rolls to random.integer() method in range based on k\n",
    "            roll = rng.integers(k, k*6 + 1)\n",
    "            \n",
    "            # Access the values and add 1 to move through pairs in dict\n",
    "            draft_dict[roll] = draft_dict[roll] + 1\n",
    "\n",
    "    return draft_dict"
   ]
  },
  {
   "cell_type": "code",
   "execution_count": 5,
   "metadata": {},
   "outputs": [
    {
     "name": "stdout",
     "output_type": "stream",
     "text": [
      "{2: 960, 3: 898, 4: 873, 5: 927, 6: 890, 7: 863, 8: 937, 9: 925, 10: 875, 11: 927, 12: 925}\n"
     ]
    }
   ],
   "source": [
    "print(draft_diceroll(2, 10000))"
   ]
  },
  {
   "cell_type": "markdown",
   "metadata": {},
   "source": [
    "As can be seen, the draft function has succeeded in simulating a range of combinations from 2 - 12 and the occurences of each combination. They have successfully been output as key value pairs.\n",
    "\n",
    "However, looking at the values in the dictionary pairs, it is clear that the function is producing values in the Uniform Distribution, not the Binomial Distribution. So this is not an adequate simulation of rolling dice."
   ]
  },
  {
   "cell_type": "markdown",
   "metadata": {},
   "source": [
    "--------------------------------"
   ]
  },
  {
   "cell_type": "markdown",
   "metadata": {},
   "source": [
    "### 2.4. Description of dicerolls() Code"
   ]
  },
  {
   "cell_type": "markdown",
   "metadata": {},
   "source": [
    "By populating the dictionary at the end of the function, following the production of random combinations with the *integers()* function, we can create a dictionary output that reflects the Binomial Distribution."
   ]
  },
  {
   "cell_type": "markdown",
   "metadata": {},
   "source": [
    "The *rolls* variable is first assigned to the *integers()* function and the parameters set to **1-6(range)**, **size=(n,k)** and **+ 1** to ensure that 0 is not returned."
   ]
  },
  {
   "cell_type": "code",
   "execution_count": 6,
   "metadata": {},
   "outputs": [],
   "source": [
    "K = 2\n",
    "N = 3\n",
    "example_rolls = rng.integers(6, size = (N, K)) + 1"
   ]
  },
  {
   "cell_type": "markdown",
   "metadata": {},
   "source": [
    "Printing this variable will then present us with *n* number of arrays, each with *k* number of elements, with each element having a range of 1-6. "
   ]
  },
  {
   "cell_type": "code",
   "execution_count": 7,
   "metadata": {},
   "outputs": [
    {
     "name": "stdout",
     "output_type": "stream",
     "text": [
      "[[5 6]\n",
      " [4 4]\n",
      " [4 4]]\n"
     ]
    }
   ],
   "source": [
    "print(example_rolls)"
   ]
  },
  {
   "cell_type": "markdown",
   "metadata": {},
   "source": [
    "As we now have the simulated combinations for the rolled dice, it is now necessary to pass these values into a dictionary. First we must create a loop to iterate through the dictionary using the structure of **{n:i for n, i in...}**. \n",
    "\n",
    "As an example below, I have populated a dictionary with the *example_rolls* variable, where the keys are the unique numbers and the values are the number of times these numbers appear:"
   ]
  },
  {
   "cell_type": "code",
   "execution_count": 8,
   "metadata": {},
   "outputs": [
    {
     "name": "stdout",
     "output_type": "stream",
     "text": [
      "{5: 6, 4: 4}\n"
     ]
    }
   ],
   "source": [
    "example_dict = {n:i for n, i in example_rolls}\n",
    "print(example_dict)"
   ]
  },
  {
   "cell_type": "markdown",
   "metadata": {},
   "source": [
    "In the *dicerolls()* function however, the keys will be a range from *k* to *k* * 6 + 1 (1-12 for *k*=2). We will use Numpy's *unique()* function to achieve this."
   ]
  },
  {
   "cell_type": "markdown",
   "metadata": {},
   "source": [
    "We must then place the *unique()* function inside the *.zip()* function. This takes iterables as objects and passes out an iterator. \n",
    "\n",
    "Now that we have described the individual elements of the function, it is time to put it together."
   ]
  },
  {
   "cell_type": "markdown",
   "metadata": {},
   "source": [
    "#### Reference: https://realpython.com/python-zip-function/#:~:text=Python's%20zip()%20function%20is,%2C%20sets%2C%20and%20so%20on."
   ]
  },
  {
   "cell_type": "markdown",
   "metadata": {},
   "source": [
    "---------------------------------------"
   ]
  },
  {
   "cell_type": "markdown",
   "metadata": {},
   "source": [
    "### 2.5. dicerolls()"
   ]
  },
  {
   "cell_type": "code",
   "execution_count": 9,
   "metadata": {},
   "outputs": [],
   "source": [
    "def dicerolls(k, n):\n",
    "    \n",
    "    # Assign rolls varible to random.integers(), subbing in n,k as size parameters:\n",
    "    # This will produce n amount of k dice combos as arrays\n",
    "    rolls = rng.integers(6, size = (n, k)) + 1\n",
    "    \n",
    "    # Create dict and populate using np.unique(), using return_counts=True parameter\n",
    "    # Populate the keys by using np.unique() and values with rolls.sum to count occurrences\n",
    "    dice = {n:i for n, i in zip(*np.unique(rolls.sum(1), return_counts = True))}\n",
    "    \n",
    "    return dice"
   ]
  },
  {
   "cell_type": "code",
   "execution_count": 10,
   "metadata": {},
   "outputs": [
    {
     "data": {
      "text/plain": [
       "{3: 10,\n",
       " 4: 15,\n",
       " 5: 25,\n",
       " 6: 40,\n",
       " 7: 65,\n",
       " 8: 118,\n",
       " 9: 92,\n",
       " 10: 122,\n",
       " 11: 137,\n",
       " 12: 114,\n",
       " 13: 113,\n",
       " 14: 59,\n",
       " 15: 48,\n",
       " 16: 29,\n",
       " 17: 11,\n",
       " 18: 2}"
      ]
     },
     "execution_count": 10,
     "metadata": {},
     "output_type": "execute_result"
    }
   ],
   "source": [
    "dicerolls(3, 1000)"
   ]
  },
  {
   "cell_type": "markdown",
   "metadata": {},
   "source": [
    "As can be seen, the values in the dictionary output exhibit the Binomial distribution."
   ]
  },
  {
   "cell_type": "markdown",
   "metadata": {},
   "source": [
    "--------------------------------"
   ]
  },
  {
   "cell_type": "markdown",
   "metadata": {},
   "source": [
    "## 3. Task 3: Fundamentals of Data Analysis\n",
    "\n",
    "### November 16th, 2020: \n",
    "The numpy.random.binomial function can be used to\n",
    "simulate flipping a coin with a 50/50 chance of heads or tails. \n",
    "\n",
    "Interestingly, if a coin is flipped many times then the number of heads is well approximated by a\n",
    "bell-shaped curve. For instance, if we flip a coin 100 times in a row the chance of\n",
    "getting 50 heads is relatively high, the chances of getting 0 or 100 heads is relatively\n",
    "low, and the chances of getting any other number of heads decreases as you move\n",
    "away from 50 in either direction towards 0 or 100. \n",
    "\n",
    "* Write some python code that simulates flipping a coin 100 times. \n",
    "* Then run this code 1,000 times, keeping track of the number of heads in each of the 1,000 simulations. Select an appropriate plot to depict the resulting list of 1,000 numbers, showing that it roughly follows a bell-shaped curve. \n",
    "* You  should explain your work in a Markdown cell above the code.\n"
   ]
  },
  {
   "cell_type": "markdown",
   "metadata": {},
   "source": [
    "### 3.1. Summary of numpy.random.binomial\n",
    "\n",
    "#### Parameters\n",
    "\n",
    "##### (n, p, size=None)\n",
    "\n",
    "**n** int or array_like of ints. Parameter of the distribution, >= 0. Floats are also accepted, but they will be truncated to integers.\n",
    "\n",
    "**p:** float or array_like of floats. Parameter of the distribution, >= 0 and <=1.\n",
    "\n",
    "**size:** int or tuple of ints, optional. Determines output shape. If the given shape is, e.g., (m, n, k), then m * n * k samples are drawn. If size is None (default), a single value is returned if n and p are both scalars. Otherwise, np.broadcast(n, p).size samples are drawn.\n",
    "\n",
    "#### Returns\n",
    "\n",
    "**out:** ndarray or scalar. Drawn samples from the parameterized binomial distribution, where each sample is equal to the number of successes over the n trials."
   ]
  },
  {
   "cell_type": "markdown",
   "metadata": {},
   "source": [
    "### 3.2. Relationship Between Binomial Distribution and Bernoulli Distribution\n",
    "\n",
    "The Bernoulli Distribution can be used to describe an event whereby the result will be measured as either a success or failure, and where *p* often stands for the probability of a particular outcome (i.e. success). A random variable that takes value 1 in case of success and 0 in case of failure is called a Bernoulli random variable.\n",
    "\n",
    "A Binomial Distribution describes where a Bernoulli experiment is repeated. We take the Bernoulli probability variable *p* and carry out the experiment of 'success/failure' *n* number of times. From this repetition we calculate the number of successes (e.g. the outcome of heads in a coin toss) and assign it the variable *X*. The distribution of the number of *X* is the Binomial Distribution. Essentially, a binomial random variable counts how often a particular event occurs in a fixed number of tries or trials. \n",
    "\n",
    "Therefore, the primary differences between the two distributions are that Bernoulli distributions describe success/failure outcomes, with a parameter input ascribing a value of either 1 or 0 to success or to failure. Contrastly, Binomial distributions allow for *n* number of trials and for the whole experiment to be repeated a fixed amount of times (this is where the *size* parameter comes into play)."
   ]
  },
  {
   "cell_type": "markdown",
   "metadata": {},
   "source": [
    "### 3.3. Counting the Number of Heads in Each of the 1000 Trials"
   ]
  },
  {
   "cell_type": "code",
   "execution_count": 276,
   "metadata": {},
   "outputs": [
    {
     "name": "stdout",
     "output_type": "stream",
     "text": [
      "Heads: 50\n",
      "Heads: 49\n",
      "Heads: 53\n",
      "Heads: 49\n",
      "Heads: 43\n",
      "Heads: 51\n",
      "Heads: 65\n",
      "Heads: 43\n",
      "Heads: 48\n",
      "Heads: 45\n",
      "Heads: 51\n",
      "Heads: 50\n",
      "Heads: 46\n",
      "Heads: 48\n",
      "Heads: 57\n",
      "Heads: 40\n",
      "Heads: 49\n",
      "Heads: 47\n",
      "Heads: 51\n",
      "Heads: 43\n",
      "Heads: 44\n",
      "Heads: 52\n",
      "Heads: 61\n",
      "Heads: 52\n",
      "Heads: 48\n",
      "Heads: 47\n",
      "Heads: 52\n",
      "Heads: 50\n",
      "Heads: 43\n",
      "Heads: 57\n",
      "Heads: 46\n",
      "Heads: 63\n",
      "Heads: 55\n",
      "Heads: 58\n",
      "Heads: 54\n",
      "Heads: 43\n",
      "Heads: 52\n",
      "Heads: 52\n",
      "Heads: 53\n",
      "Heads: 53\n",
      "Heads: 50\n",
      "Heads: 50\n",
      "Heads: 57\n",
      "Heads: 55\n",
      "Heads: 55\n",
      "Heads: 53\n",
      "Heads: 50\n",
      "Heads: 44\n",
      "Heads: 47\n",
      "Heads: 46\n",
      "Heads: 47\n",
      "Heads: 44\n",
      "Heads: 47\n",
      "Heads: 49\n",
      "Heads: 48\n",
      "Heads: 46\n",
      "Heads: 48\n",
      "Heads: 40\n",
      "Heads: 47\n",
      "Heads: 39\n",
      "Heads: 49\n",
      "Heads: 61\n",
      "Heads: 40\n",
      "Heads: 48\n",
      "Heads: 60\n",
      "Heads: 44\n",
      "Heads: 53\n",
      "Heads: 50\n",
      "Heads: 50\n",
      "Heads: 53\n",
      "Heads: 40\n",
      "Heads: 43\n",
      "Heads: 48\n",
      "Heads: 37\n",
      "Heads: 61\n",
      "Heads: 62\n",
      "Heads: 43\n",
      "Heads: 62\n",
      "Heads: 48\n",
      "Heads: 40\n",
      "Heads: 53\n",
      "Heads: 49\n",
      "Heads: 53\n",
      "Heads: 49\n",
      "Heads: 46\n",
      "Heads: 44\n",
      "Heads: 61\n",
      "Heads: 54\n",
      "Heads: 51\n",
      "Heads: 56\n",
      "Heads: 43\n",
      "Heads: 55\n",
      "Heads: 55\n",
      "Heads: 56\n",
      "Heads: 49\n",
      "Heads: 50\n",
      "Heads: 53\n",
      "Heads: 48\n",
      "Heads: 50\n",
      "Heads: 52\n",
      "Heads: 41\n",
      "Heads: 46\n",
      "Heads: 47\n",
      "Heads: 51\n",
      "Heads: 56\n",
      "Heads: 49\n",
      "Heads: 57\n",
      "Heads: 55\n",
      "Heads: 56\n",
      "Heads: 47\n",
      "Heads: 48\n",
      "Heads: 58\n",
      "Heads: 48\n",
      "Heads: 50\n",
      "Heads: 54\n",
      "Heads: 59\n",
      "Heads: 51\n",
      "Heads: 53\n",
      "Heads: 45\n",
      "Heads: 54\n",
      "Heads: 49\n",
      "Heads: 50\n",
      "Heads: 54\n",
      "Heads: 54\n",
      "Heads: 45\n",
      "Heads: 50\n",
      "Heads: 46\n",
      "Heads: 52\n",
      "Heads: 45\n",
      "Heads: 50\n",
      "Heads: 44\n",
      "Heads: 46\n",
      "Heads: 48\n",
      "Heads: 50\n",
      "Heads: 52\n",
      "Heads: 48\n",
      "Heads: 40\n",
      "Heads: 53\n",
      "Heads: 59\n",
      "Heads: 53\n",
      "Heads: 42\n",
      "Heads: 60\n",
      "Heads: 52\n",
      "Heads: 54\n",
      "Heads: 32\n",
      "Heads: 45\n",
      "Heads: 51\n",
      "Heads: 46\n",
      "Heads: 46\n",
      "Heads: 50\n",
      "Heads: 45\n",
      "Heads: 45\n",
      "Heads: 45\n",
      "Heads: 51\n",
      "Heads: 55\n",
      "Heads: 53\n",
      "Heads: 53\n",
      "Heads: 50\n",
      "Heads: 57\n",
      "Heads: 59\n",
      "Heads: 51\n",
      "Heads: 42\n",
      "Heads: 47\n",
      "Heads: 44\n",
      "Heads: 53\n",
      "Heads: 53\n",
      "Heads: 52\n",
      "Heads: 59\n",
      "Heads: 53\n",
      "Heads: 50\n",
      "Heads: 51\n",
      "Heads: 51\n",
      "Heads: 56\n",
      "Heads: 52\n",
      "Heads: 53\n",
      "Heads: 54\n",
      "Heads: 55\n",
      "Heads: 59\n",
      "Heads: 49\n",
      "Heads: 51\n",
      "Heads: 50\n",
      "Heads: 50\n",
      "Heads: 59\n",
      "Heads: 47\n",
      "Heads: 55\n",
      "Heads: 54\n",
      "Heads: 57\n",
      "Heads: 45\n",
      "Heads: 59\n",
      "Heads: 47\n",
      "Heads: 47\n",
      "Heads: 43\n",
      "Heads: 46\n",
      "Heads: 45\n",
      "Heads: 49\n",
      "Heads: 51\n",
      "Heads: 51\n",
      "Heads: 45\n",
      "Heads: 48\n",
      "Heads: 44\n",
      "Heads: 51\n",
      "Heads: 57\n",
      "Heads: 56\n",
      "Heads: 42\n",
      "Heads: 52\n",
      "Heads: 51\n",
      "Heads: 49\n",
      "Heads: 45\n",
      "Heads: 43\n",
      "Heads: 55\n",
      "Heads: 51\n",
      "Heads: 59\n",
      "Heads: 51\n",
      "Heads: 50\n",
      "Heads: 51\n",
      "Heads: 55\n",
      "Heads: 51\n",
      "Heads: 57\n",
      "Heads: 53\n",
      "Heads: 53\n",
      "Heads: 49\n",
      "Heads: 38\n",
      "Heads: 57\n",
      "Heads: 47\n",
      "Heads: 46\n",
      "Heads: 51\n",
      "Heads: 52\n",
      "Heads: 42\n",
      "Heads: 55\n",
      "Heads: 53\n",
      "Heads: 45\n",
      "Heads: 56\n",
      "Heads: 53\n",
      "Heads: 53\n",
      "Heads: 44\n",
      "Heads: 59\n",
      "Heads: 45\n",
      "Heads: 54\n",
      "Heads: 54\n",
      "Heads: 50\n",
      "Heads: 46\n",
      "Heads: 43\n",
      "Heads: 41\n",
      "Heads: 47\n",
      "Heads: 50\n",
      "Heads: 55\n",
      "Heads: 46\n",
      "Heads: 41\n",
      "Heads: 45\n",
      "Heads: 54\n",
      "Heads: 43\n",
      "Heads: 52\n",
      "Heads: 54\n",
      "Heads: 56\n",
      "Heads: 60\n",
      "Heads: 54\n",
      "Heads: 48\n",
      "Heads: 47\n",
      "Heads: 50\n",
      "Heads: 47\n",
      "Heads: 59\n",
      "Heads: 43\n",
      "Heads: 51\n",
      "Heads: 40\n",
      "Heads: 47\n",
      "Heads: 48\n",
      "Heads: 42\n",
      "Heads: 57\n",
      "Heads: 43\n",
      "Heads: 52\n",
      "Heads: 47\n",
      "Heads: 48\n",
      "Heads: 61\n",
      "Heads: 45\n",
      "Heads: 49\n",
      "Heads: 48\n",
      "Heads: 46\n",
      "Heads: 53\n",
      "Heads: 59\n",
      "Heads: 50\n",
      "Heads: 41\n",
      "Heads: 45\n",
      "Heads: 46\n",
      "Heads: 44\n",
      "Heads: 50\n",
      "Heads: 55\n",
      "Heads: 54\n",
      "Heads: 45\n",
      "Heads: 50\n",
      "Heads: 48\n",
      "Heads: 51\n",
      "Heads: 45\n",
      "Heads: 48\n",
      "Heads: 58\n",
      "Heads: 49\n",
      "Heads: 52\n",
      "Heads: 49\n",
      "Heads: 48\n",
      "Heads: 52\n",
      "Heads: 54\n",
      "Heads: 48\n",
      "Heads: 53\n",
      "Heads: 52\n",
      "Heads: 50\n",
      "Heads: 55\n",
      "Heads: 54\n",
      "Heads: 48\n",
      "Heads: 46\n",
      "Heads: 54\n",
      "Heads: 47\n",
      "Heads: 55\n",
      "Heads: 54\n",
      "Heads: 57\n",
      "Heads: 36\n",
      "Heads: 41\n",
      "Heads: 47\n",
      "Heads: 53\n",
      "Heads: 52\n",
      "Heads: 49\n",
      "Heads: 42\n",
      "Heads: 48\n",
      "Heads: 52\n",
      "Heads: 52\n",
      "Heads: 57\n",
      "Heads: 50\n",
      "Heads: 49\n",
      "Heads: 45\n",
      "Heads: 44\n",
      "Heads: 47\n",
      "Heads: 55\n",
      "Heads: 53\n",
      "Heads: 46\n",
      "Heads: 48\n",
      "Heads: 40\n",
      "Heads: 47\n",
      "Heads: 51\n",
      "Heads: 53\n",
      "Heads: 48\n",
      "Heads: 53\n",
      "Heads: 56\n",
      "Heads: 48\n",
      "Heads: 48\n",
      "Heads: 51\n",
      "Heads: 56\n",
      "Heads: 44\n",
      "Heads: 54\n",
      "Heads: 44\n",
      "Heads: 43\n",
      "Heads: 57\n",
      "Heads: 54\n",
      "Heads: 49\n",
      "Heads: 54\n",
      "Heads: 61\n",
      "Heads: 49\n",
      "Heads: 56\n",
      "Heads: 47\n",
      "Heads: 59\n",
      "Heads: 53\n",
      "Heads: 47\n",
      "Heads: 49\n",
      "Heads: 59\n",
      "Heads: 49\n",
      "Heads: 57\n",
      "Heads: 45\n",
      "Heads: 53\n",
      "Heads: 48\n",
      "Heads: 49\n",
      "Heads: 49\n",
      "Heads: 50\n",
      "Heads: 55\n",
      "Heads: 52\n",
      "Heads: 58\n",
      "Heads: 49\n",
      "Heads: 49\n",
      "Heads: 57\n",
      "Heads: 41\n",
      "Heads: 46\n",
      "Heads: 50\n",
      "Heads: 53\n",
      "Heads: 47\n",
      "Heads: 50\n",
      "Heads: 56\n",
      "Heads: 49\n",
      "Heads: 49\n",
      "Heads: 52\n",
      "Heads: 61\n",
      "Heads: 43\n",
      "Heads: 39\n",
      "Heads: 49\n",
      "Heads: 43\n",
      "Heads: 42\n",
      "Heads: 59\n",
      "Heads: 51\n",
      "Heads: 52\n",
      "Heads: 46\n",
      "Heads: 60\n",
      "Heads: 51\n",
      "Heads: 50\n",
      "Heads: 40\n",
      "Heads: 43\n",
      "Heads: 61\n",
      "Heads: 41\n",
      "Heads: 46\n",
      "Heads: 53\n",
      "Heads: 45\n",
      "Heads: 55\n",
      "Heads: 45\n",
      "Heads: 45\n",
      "Heads: 44\n",
      "Heads: 48\n",
      "Heads: 54\n",
      "Heads: 46\n",
      "Heads: 52\n",
      "Heads: 52\n",
      "Heads: 48\n",
      "Heads: 47\n",
      "Heads: 40\n",
      "Heads: 52\n",
      "Heads: 55\n",
      "Heads: 48\n",
      "Heads: 47\n",
      "Heads: 49\n",
      "Heads: 46\n",
      "Heads: 51\n",
      "Heads: 56\n",
      "Heads: 48\n",
      "Heads: 63\n",
      "Heads: 52\n",
      "Heads: 56\n",
      "Heads: 49\n",
      "Heads: 47\n",
      "Heads: 52\n",
      "Heads: 55\n",
      "Heads: 47\n",
      "Heads: 50\n",
      "Heads: 48\n",
      "Heads: 56\n",
      "Heads: 50\n",
      "Heads: 49\n",
      "Heads: 48\n",
      "Heads: 54\n",
      "Heads: 58\n",
      "Heads: 42\n",
      "Heads: 46\n",
      "Heads: 48\n",
      "Heads: 59\n",
      "Heads: 43\n",
      "Heads: 48\n",
      "Heads: 46\n",
      "Heads: 53\n",
      "Heads: 49\n",
      "Heads: 59\n",
      "Heads: 49\n",
      "Heads: 48\n",
      "Heads: 50\n",
      "Heads: 54\n",
      "Heads: 45\n",
      "Heads: 43\n",
      "Heads: 55\n",
      "Heads: 45\n",
      "Heads: 56\n",
      "Heads: 58\n",
      "Heads: 47\n",
      "Heads: 49\n",
      "Heads: 51\n",
      "Heads: 53\n",
      "Heads: 48\n",
      "Heads: 51\n",
      "Heads: 53\n",
      "Heads: 47\n",
      "Heads: 55\n",
      "Heads: 48\n",
      "Heads: 46\n",
      "Heads: 38\n",
      "Heads: 49\n",
      "Heads: 54\n",
      "Heads: 50\n",
      "Heads: 63\n",
      "Heads: 46\n",
      "Heads: 43\n",
      "Heads: 48\n",
      "Heads: 43\n",
      "Heads: 50\n",
      "Heads: 40\n",
      "Heads: 57\n",
      "Heads: 41\n",
      "Heads: 57\n",
      "Heads: 50\n",
      "Heads: 55\n",
      "Heads: 48\n",
      "Heads: 47\n",
      "Heads: 59\n",
      "Heads: 55\n",
      "Heads: 53\n",
      "Heads: 49\n",
      "Heads: 52\n",
      "Heads: 62\n",
      "Heads: 46\n",
      "Heads: 47\n",
      "Heads: 47\n",
      "Heads: 52\n",
      "Heads: 54\n",
      "Heads: 54\n",
      "Heads: 55\n",
      "Heads: 50\n",
      "Heads: 55\n",
      "Heads: 45\n",
      "Heads: 54\n",
      "Heads: 50\n",
      "Heads: 49\n",
      "Heads: 45\n",
      "Heads: 55\n",
      "Heads: 51\n",
      "Heads: 49\n",
      "Heads: 46\n",
      "Heads: 54\n",
      "Heads: 57\n",
      "Heads: 53\n",
      "Heads: 50\n",
      "Heads: 48\n",
      "Heads: 58\n",
      "Heads: 53\n",
      "Heads: 46\n",
      "Heads: 50\n",
      "Heads: 44\n",
      "Heads: 51\n",
      "Heads: 50\n",
      "Heads: 55\n",
      "Heads: 52\n",
      "Heads: 49\n",
      "Heads: 45\n",
      "Heads: 47\n",
      "Heads: 52\n",
      "Heads: 49\n",
      "Heads: 55\n",
      "Heads: 58\n",
      "Heads: 55\n",
      "Heads: 57\n",
      "Heads: 49\n",
      "Heads: 53\n",
      "Heads: 50\n",
      "Heads: 53\n",
      "Heads: 51\n",
      "Heads: 50\n",
      "Heads: 42\n",
      "Heads: 59\n",
      "Heads: 54\n",
      "Heads: 45\n",
      "Heads: 44\n",
      "Heads: 53\n",
      "Heads: 59\n",
      "Heads: 48\n",
      "Heads: 46\n",
      "Heads: 49\n",
      "Heads: 59\n",
      "Heads: 54\n",
      "Heads: 52\n",
      "Heads: 62\n",
      "Heads: 54\n",
      "Heads: 55\n",
      "Heads: 41\n",
      "Heads: 55\n",
      "Heads: 59\n",
      "Heads: 54\n",
      "Heads: 50\n",
      "Heads: 50\n",
      "Heads: 45\n",
      "Heads: 49\n",
      "Heads: 45\n",
      "Heads: 58\n",
      "Heads: 45\n",
      "Heads: 47\n",
      "Heads: 51\n",
      "Heads: 59\n",
      "Heads: 52\n",
      "Heads: 40\n",
      "Heads: 49\n",
      "Heads: 44\n",
      "Heads: 45\n",
      "Heads: 55\n",
      "Heads: 49\n",
      "Heads: 55\n",
      "Heads: 48\n",
      "Heads: 53\n",
      "Heads: 52\n",
      "Heads: 55\n",
      "Heads: 48\n",
      "Heads: 51\n",
      "Heads: 48\n",
      "Heads: 43\n",
      "Heads: 54\n",
      "Heads: 46\n",
      "Heads: 42\n",
      "Heads: 45\n",
      "Heads: 48\n",
      "Heads: 57\n",
      "Heads: 54\n",
      "Heads: 48\n",
      "Heads: 41\n",
      "Heads: 52\n",
      "Heads: 54\n",
      "Heads: 51\n",
      "Heads: 43\n",
      "Heads: 53\n",
      "Heads: 39\n",
      "Heads: 40\n",
      "Heads: 53\n",
      "Heads: 53\n",
      "Heads: 49\n",
      "Heads: 57\n",
      "Heads: 50\n",
      "Heads: 51\n",
      "Heads: 44\n",
      "Heads: 48\n",
      "Heads: 47\n",
      "Heads: 51\n",
      "Heads: 53\n",
      "Heads: 54\n",
      "Heads: 49\n",
      "Heads: 43\n",
      "Heads: 53\n",
      "Heads: 44\n",
      "Heads: 42\n",
      "Heads: 46\n",
      "Heads: 52\n",
      "Heads: 49\n",
      "Heads: 47\n",
      "Heads: 49\n",
      "Heads: 44\n",
      "Heads: 45\n",
      "Heads: 52\n",
      "Heads: 53\n",
      "Heads: 50\n",
      "Heads: 51\n",
      "Heads: 51\n",
      "Heads: 46\n",
      "Heads: 60\n",
      "Heads: 50\n",
      "Heads: 54\n",
      "Heads: 43\n",
      "Heads: 57\n",
      "Heads: 50\n",
      "Heads: 56\n",
      "Heads: 53\n",
      "Heads: 55\n",
      "Heads: 54\n",
      "Heads: 48\n",
      "Heads: 52\n",
      "Heads: 45\n",
      "Heads: 48\n",
      "Heads: 50\n",
      "Heads: 45\n",
      "Heads: 55\n",
      "Heads: 51\n",
      "Heads: 47\n",
      "Heads: 50\n",
      "Heads: 47\n",
      "Heads: 52\n",
      "Heads: 48\n",
      "Heads: 51\n",
      "Heads: 42\n",
      "Heads: 57\n",
      "Heads: 48\n",
      "Heads: 60\n",
      "Heads: 47\n",
      "Heads: 53\n",
      "Heads: 48\n",
      "Heads: 54\n",
      "Heads: 48\n",
      "Heads: 49\n",
      "Heads: 50\n",
      "Heads: 51\n",
      "Heads: 44\n",
      "Heads: 59\n",
      "Heads: 55\n",
      "Heads: 45\n",
      "Heads: 48\n",
      "Heads: 55\n",
      "Heads: 52\n",
      "Heads: 48\n",
      "Heads: 44\n",
      "Heads: 48\n",
      "Heads: 62\n",
      "Heads: 35\n",
      "Heads: 42\n",
      "Heads: 53\n",
      "Heads: 53\n",
      "Heads: 56\n",
      "Heads: 47\n",
      "Heads: 39\n",
      "Heads: 43\n",
      "Heads: 51\n",
      "Heads: 48\n",
      "Heads: 43\n",
      "Heads: 46\n",
      "Heads: 46\n",
      "Heads: 48\n",
      "Heads: 51\n",
      "Heads: 50\n",
      "Heads: 57\n",
      "Heads: 44\n",
      "Heads: 56\n",
      "Heads: 45\n",
      "Heads: 44\n",
      "Heads: 52\n",
      "Heads: 47\n",
      "Heads: 52\n",
      "Heads: 59\n",
      "Heads: 45\n",
      "Heads: 54\n",
      "Heads: 55\n",
      "Heads: 54\n",
      "Heads: 44\n",
      "Heads: 49\n",
      "Heads: 55\n",
      "Heads: 52\n",
      "Heads: 51\n",
      "Heads: 44\n",
      "Heads: 56\n",
      "Heads: 59\n",
      "Heads: 52\n",
      "Heads: 54\n",
      "Heads: 51\n",
      "Heads: 57\n",
      "Heads: 60\n",
      "Heads: 47\n",
      "Heads: 48\n",
      "Heads: 55\n",
      "Heads: 58\n",
      "Heads: 50\n",
      "Heads: 44\n",
      "Heads: 55\n",
      "Heads: 47\n",
      "Heads: 53\n",
      "Heads: 50\n",
      "Heads: 45\n",
      "Heads: 55\n",
      "Heads: 52\n",
      "Heads: 51\n",
      "Heads: 49\n",
      "Heads: 47\n",
      "Heads: 39\n",
      "Heads: 41\n",
      "Heads: 49\n",
      "Heads: 52\n",
      "Heads: 57\n",
      "Heads: 43\n",
      "Heads: 56\n",
      "Heads: 56\n",
      "Heads: 51\n",
      "Heads: 43\n",
      "Heads: 56\n",
      "Heads: 51\n",
      "Heads: 40\n",
      "Heads: 46\n",
      "Heads: 54\n",
      "Heads: 51\n",
      "Heads: 56\n",
      "Heads: 49\n",
      "Heads: 52\n",
      "Heads: 50\n",
      "Heads: 50\n",
      "Heads: 61\n",
      "Heads: 47\n",
      "Heads: 41\n",
      "Heads: 49\n",
      "Heads: 50\n",
      "Heads: 44\n",
      "Heads: 51\n",
      "Heads: 48\n",
      "Heads: 40\n",
      "Heads: 55\n",
      "Heads: 44\n",
      "Heads: 48\n",
      "Heads: 50\n",
      "Heads: 52\n",
      "Heads: 50\n",
      "Heads: 64\n",
      "Heads: 46\n",
      "Heads: 47\n",
      "Heads: 49\n",
      "Heads: 45\n",
      "Heads: 47\n",
      "Heads: 46\n",
      "Heads: 48\n",
      "Heads: 53\n",
      "Heads: 53\n",
      "Heads: 60\n",
      "Heads: 42\n",
      "Heads: 52\n",
      "Heads: 50\n",
      "Heads: 53\n",
      "Heads: 49\n",
      "Heads: 35\n",
      "Heads: 41\n",
      "Heads: 46\n",
      "Heads: 55\n",
      "Heads: 48\n",
      "Heads: 45\n",
      "Heads: 50\n",
      "Heads: 58\n",
      "Heads: 58\n",
      "Heads: 49\n",
      "Heads: 57\n",
      "Heads: 51\n",
      "Heads: 43\n",
      "Heads: 56\n",
      "Heads: 51\n",
      "Heads: 48\n",
      "Heads: 54\n",
      "Heads: 55\n",
      "Heads: 47\n",
      "Heads: 56\n",
      "Heads: 45\n",
      "Heads: 50\n",
      "Heads: 47\n",
      "Heads: 56\n",
      "Heads: 54\n",
      "Heads: 51\n",
      "Heads: 46\n",
      "Heads: 46\n",
      "Heads: 53\n",
      "Heads: 54\n",
      "Heads: 64\n",
      "Heads: 50\n",
      "Heads: 47\n",
      "Heads: 54\n"
     ]
    },
    {
     "name": "stdout",
     "output_type": "stream",
     "text": [
      "Heads: 59\n",
      "Heads: 49\n",
      "Heads: 56\n",
      "Heads: 46\n",
      "Heads: 50\n",
      "Heads: 39\n",
      "Heads: 50\n",
      "Heads: 48\n",
      "Heads: 33\n",
      "Heads: 62\n",
      "Heads: 43\n",
      "Heads: 55\n",
      "Heads: 42\n",
      "Heads: 48\n",
      "Heads: 45\n",
      "Heads: 47\n",
      "Heads: 52\n",
      "Heads: 49\n",
      "Heads: 47\n",
      "Heads: 54\n",
      "Heads: 51\n",
      "Heads: 46\n",
      "Heads: 54\n",
      "Heads: 56\n",
      "Heads: 49\n",
      "Heads: 51\n",
      "Heads: 52\n",
      "Heads: 50\n",
      "Heads: 55\n",
      "Heads: 48\n",
      "Heads: 55\n",
      "Heads: 49\n",
      "Heads: 57\n",
      "Heads: 58\n",
      "Heads: 47\n",
      "Heads: 42\n",
      "Heads: 57\n",
      "Heads: 48\n",
      "Heads: 58\n",
      "Heads: 51\n",
      "Heads: 54\n",
      "Heads: 45\n",
      "Heads: 44\n",
      "Heads: 42\n",
      "Heads: 50\n",
      "Heads: 60\n",
      "Heads: 53\n",
      "Heads: 51\n",
      "Heads: 56\n",
      "Heads: 55\n",
      "Heads: 49\n",
      "Heads: 43\n",
      "Heads: 52\n",
      "Heads: 55\n",
      "Heads: 44\n",
      "Heads: 43\n",
      "Heads: 53\n",
      "Heads: 57\n",
      "Heads: 60\n",
      "Heads: 58\n",
      "Heads: 44\n",
      "Heads: 52\n",
      "Heads: 46\n",
      "Heads: 51\n",
      "Heads: 55\n",
      "Heads: 48\n",
      "Heads: 49\n",
      "Heads: 50\n",
      "Heads: 49\n",
      "Heads: 50\n",
      "Heads: 40\n",
      "Heads: 48\n",
      "Heads: 55\n",
      "Heads: 41\n",
      "Heads: 45\n",
      "Heads: 54\n",
      "Heads: 44\n",
      "Heads: 49\n",
      "Heads: 54\n",
      "Heads: 47\n",
      "Heads: 49\n",
      "Heads: 55\n",
      "Heads: 58\n",
      "Heads: 53\n",
      "Heads: 48\n",
      "Heads: 43\n",
      "Heads: 53\n",
      "Heads: 48\n",
      "Heads: 61\n",
      "Heads: 55\n",
      "Heads: 58\n",
      "Heads: 48\n",
      "Heads: 47\n",
      "Heads: 46\n",
      "Heads: 51\n",
      "Heads: 50\n",
      "Heads: 58\n",
      "Heads: 50\n",
      "Heads: 53\n",
      "Heads: 48\n",
      "Heads: 45\n",
      "Heads: 43\n",
      "Heads: 42\n",
      "Heads: 48\n",
      "Heads: 57\n",
      "Heads: 52\n",
      "Heads: 46\n",
      "Heads: 49\n",
      "Heads: 47\n",
      "Heads: 55\n",
      "Heads: 47\n",
      "Heads: 48\n",
      "Heads: 40\n",
      "Heads: 49\n",
      "Heads: 55\n",
      "Heads: 52\n",
      "Heads: 51\n",
      "Heads: 49\n",
      "Heads: 46\n",
      "Heads: 48\n",
      "Heads: 45\n",
      "Heads: 55\n",
      "Heads: 40\n",
      "Heads: 54\n",
      "Heads: 52\n",
      "Heads: 43\n",
      "Heads: 56\n",
      "Heads: 62\n",
      "Heads: 46\n",
      "Heads: 54\n",
      "Heads: 48\n",
      "Heads: 50\n",
      "Heads: 56\n",
      "Heads: 44\n",
      "Heads: 49\n",
      "Heads: 51\n",
      "Heads: 47\n",
      "Heads: 53\n",
      "Heads: 49\n",
      "Heads: 55\n",
      "Heads: 52\n",
      "Heads: 42\n",
      "Heads: 57\n",
      "Heads: 41\n",
      "Heads: 56\n",
      "Heads: 56\n",
      "Heads: 47\n",
      "Heads: 62\n",
      "Heads: 47\n",
      "Heads: 47\n",
      "Heads: 53\n",
      "Heads: 47\n",
      "Heads: 50\n",
      "Heads: 46\n",
      "Heads: 53\n",
      "Heads: 42\n",
      "Heads: 43\n",
      "Heads: 53\n",
      "Heads: 54\n",
      "Heads: 51\n",
      "Heads: 48\n",
      "Heads: 52\n",
      "Heads: 58\n",
      "Heads: 46\n",
      "Heads: 54\n",
      "Heads: 47\n",
      "Heads: 56\n",
      "Heads: 61\n",
      "Heads: 49\n",
      "Heads: 50\n",
      "Heads: 57\n",
      "Heads: 54\n",
      "Heads: 51\n"
     ]
    }
   ],
   "source": [
    "# Import Seaborn and Matplotlib for plotting\n",
    "import seaborn as sns\n",
    "import matplotlib.pyplot as plt\n",
    "\n",
    "# Set variables for number of flips, probability and number of trials\n",
    "n= 100\n",
    "p = .5\n",
    "x = 1000\n",
    "\n",
    "# Set number of repetitions to 1000 to provide larger distribution\n",
    "s = np.random.binomial(n, p, x)\n",
    "\n",
    "# s = success, in this case number of heads out of 100\n",
    "# Use for loop to iterate through to add print statement to each s   \n",
    "for i in s:\n",
    "    print(\"Heads:\", i)"
   ]
  },
  {
   "cell_type": "markdown",
   "metadata": {},
   "source": [
    "In the above example, *n* is set to 10. Each figure in the output cell represents the 'success' rate out of 100 'coin flips'. The trial has been repeated 1000 times, and the Binomial distribution is expressed in the deviation of success, moving away from 5, closer to either 0 or 10 (exclusive). \n",
    "\n",
    "Just glancing at the 100 figures above, it can be seen that there is a greater number of trials that resulted in a number of 50 successful coin flips, and the results closer to 0 or to 100 grow increasingly less likely. This will be clearer in the plots in section 3.4."
   ]
  },
  {
   "cell_type": "markdown",
   "metadata": {},
   "source": [
    "### 3.4. Seaborn Plot of Results"
   ]
  },
  {
   "cell_type": "code",
   "execution_count": 277,
   "metadata": {},
   "outputs": [
    {
     "data": {
      "text/plain": [
       "Text(0.5, 1.0, 'Probability of Heads out of 100 Flips')"
      ]
     },
     "execution_count": 277,
     "metadata": {},
     "output_type": "execute_result"
    },
    {
     "data": {
      "image/png": "[encoded data removed]",
      "text/plain": [
       "<Figure size 432x288 with 1 Axes>"
      ]
     },
     "metadata": {},
     "output_type": "display_data"
    }
   ],
   "source": [
    "# Graph probability on distplot using Seaborn\n",
    "sns.distplot(s).set_title(\"Probability of Heads out of 100 Flips\")"
   ]
  },
  {
   "cell_type": "code",
   "execution_count": 279,
   "metadata": {},
   "outputs": [
    {
     "data": {
      "text/plain": [
       "Text(0, 0.5, 'Number of Trials')"
      ]
     },
     "execution_count": 279,
     "metadata": {},
     "output_type": "execute_result"
    },
    {
     "data": {
      "image/png": "[encoded data removed]",
      "text/plain": [
       "<Figure size 432x288 with 1 Axes>"
      ]
     },
     "metadata": {},
     "output_type": "display_data"
    }
   ],
   "source": [
    "# Graph histogram of number of heads out of 100, with the y-axis as a measure of the trials where Heads occurred\n",
    "# Add title and axis labels\n",
    "plt.hist(s)\n",
    "plt.title(\"Number of Heads in 1000 Trials of 100 Coin Flips\")\n",
    "plt.xlabel(\"Number of Heads Out of 100 Flips\")\n",
    "plt.ylabel(\"Number of Trials\")"
   ]
  },
  {
   "cell_type": "markdown",
   "metadata": {},
   "source": [
    "In the above example of 1000 experiments of 100 coin flips (with 50 percent probability of success) a normal ditribution is observed. The data is grouped around the 5 mark, with a gradual slope either side, indicating that the probabilty of outcomes decreases moving away from the centre. "
   ]
  },
  {
   "cell_type": "markdown",
   "metadata": {},
   "source": [
    "-----------------------------"
   ]
  }
 ],
 "metadata": {
  "kernelspec": {
   "display_name": "Python 3",
   "language": "python",
   "name": "python3"
  },
  "language_info": {
   "codemirror_mode": {
    "name": "ipython",
    "version": 3
   },
   "file_extension": ".py",
   "mimetype": "text/x-python",
   "name": "python",
   "nbconvert_exporter": "python",
   "pygments_lexer": "ipython3",
   "version": "3.8.3"
  }
 },
 "nbformat": 4,
 "nbformat_minor": 4
}
